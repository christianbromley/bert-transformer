{
  "cells": [
    {
      "cell_type": "markdown",
      "source": [
        "# Test the thesis BERT model\n",
        "\n",
        "First thing is first let's import some modules that we will need."
      ],
      "metadata": {
        "id": "0JAqWgcwzQao"
      },
      "id": "0JAqWgcwzQao"
    },
    {
      "cell_type": "code",
      "source": [
        "!pip install tensorboard"
      ],
      "metadata": {
        "id": "MFQ4Okc3DSfx",
        "outputId": "77a48b5a-a771-4fa5-ce04-4bee355883ac",
        "colab": {
          "base_uri": "https://localhost:8080/"
        }
      },
      "id": "MFQ4Okc3DSfx",
      "execution_count": 43,
      "outputs": [
        {
          "output_type": "stream",
          "name": "stdout",
          "text": [
            "Requirement already satisfied: tensorboard in /usr/local/lib/python3.10/dist-packages (2.12.3)\n",
            "Requirement already satisfied: absl-py>=0.4 in /usr/local/lib/python3.10/dist-packages (from tensorboard) (1.4.0)\n",
            "Requirement already satisfied: grpcio>=1.48.2 in /usr/local/lib/python3.10/dist-packages (from tensorboard) (1.56.0)\n",
            "Requirement already satisfied: google-auth<3,>=1.6.3 in /usr/local/lib/python3.10/dist-packages (from tensorboard) (2.17.3)\n",
            "Requirement already satisfied: google-auth-oauthlib<1.1,>=0.5 in /usr/local/lib/python3.10/dist-packages (from tensorboard) (1.0.0)\n",
            "Requirement already satisfied: markdown>=2.6.8 in /usr/local/lib/python3.10/dist-packages (from tensorboard) (3.4.3)\n",
            "Requirement already satisfied: numpy>=1.12.0 in /usr/local/lib/python3.10/dist-packages (from tensorboard) (1.22.4)\n",
            "Requirement already satisfied: protobuf>=3.19.6 in /usr/local/lib/python3.10/dist-packages (from tensorboard) (3.20.3)\n",
            "Requirement already satisfied: requests<3,>=2.21.0 in /usr/local/lib/python3.10/dist-packages (from tensorboard) (2.27.1)\n",
            "Requirement already satisfied: setuptools>=41.0.0 in /usr/local/lib/python3.10/dist-packages (from tensorboard) (67.7.2)\n",
            "Requirement already satisfied: tensorboard-data-server<0.8.0,>=0.7.0 in /usr/local/lib/python3.10/dist-packages (from tensorboard) (0.7.1)\n",
            "Requirement already satisfied: werkzeug>=1.0.1 in /usr/local/lib/python3.10/dist-packages (from tensorboard) (2.3.6)\n",
            "Requirement already satisfied: wheel>=0.26 in /usr/local/lib/python3.10/dist-packages (from tensorboard) (0.40.0)\n",
            "Requirement already satisfied: cachetools<6.0,>=2.0.0 in /usr/local/lib/python3.10/dist-packages (from google-auth<3,>=1.6.3->tensorboard) (5.3.1)\n",
            "Requirement already satisfied: pyasn1-modules>=0.2.1 in /usr/local/lib/python3.10/dist-packages (from google-auth<3,>=1.6.3->tensorboard) (0.3.0)\n",
            "Requirement already satisfied: six>=1.9.0 in /usr/local/lib/python3.10/dist-packages (from google-auth<3,>=1.6.3->tensorboard) (1.16.0)\n",
            "Requirement already satisfied: rsa<5,>=3.1.4 in /usr/local/lib/python3.10/dist-packages (from google-auth<3,>=1.6.3->tensorboard) (4.9)\n",
            "Requirement already satisfied: requests-oauthlib>=0.7.0 in /usr/local/lib/python3.10/dist-packages (from google-auth-oauthlib<1.1,>=0.5->tensorboard) (1.3.1)\n",
            "Requirement already satisfied: urllib3<1.27,>=1.21.1 in /usr/local/lib/python3.10/dist-packages (from requests<3,>=2.21.0->tensorboard) (1.26.16)\n",
            "Requirement already satisfied: certifi>=2017.4.17 in /usr/local/lib/python3.10/dist-packages (from requests<3,>=2.21.0->tensorboard) (2023.5.7)\n",
            "Requirement already satisfied: charset-normalizer~=2.0.0 in /usr/local/lib/python3.10/dist-packages (from requests<3,>=2.21.0->tensorboard) (2.0.12)\n",
            "Requirement already satisfied: idna<4,>=2.5 in /usr/local/lib/python3.10/dist-packages (from requests<3,>=2.21.0->tensorboard) (3.4)\n",
            "Requirement already satisfied: MarkupSafe>=2.1.1 in /usr/local/lib/python3.10/dist-packages (from werkzeug>=1.0.1->tensorboard) (2.1.3)\n",
            "Requirement already satisfied: pyasn1<0.6.0,>=0.4.6 in /usr/local/lib/python3.10/dist-packages (from pyasn1-modules>=0.2.1->google-auth<3,>=1.6.3->tensorboard) (0.5.0)\n",
            "Requirement already satisfied: oauthlib>=3.0.0 in /usr/local/lib/python3.10/dist-packages (from requests-oauthlib>=0.7.0->google-auth-oauthlib<1.1,>=0.5->tensorboard) (3.2.2)\n"
          ]
        }
      ]
    },
    {
      "cell_type": "code",
      "source": [
        "!pip install tokenizers"
      ],
      "metadata": {
        "colab": {
          "base_uri": "https://localhost:8080/"
        },
        "id": "q0UhC98J61Yo",
        "outputId": "ca538cc5-45c2-472d-8df2-57f046782cd3"
      },
      "id": "q0UhC98J61Yo",
      "execution_count": 1,
      "outputs": [
        {
          "output_type": "stream",
          "name": "stdout",
          "text": [
            "Collecting tokenizers\n",
            "  Downloading tokenizers-0.13.3-cp310-cp310-manylinux_2_17_x86_64.manylinux2014_x86_64.whl (7.8 MB)\n",
            "\u001b[2K     \u001b[90m━━━━━━━━━━━━━━━━━━━━━━━━━━━━━━━━━━━━━━━━\u001b[0m \u001b[32m7.8/7.8 MB\u001b[0m \u001b[31m57.6 MB/s\u001b[0m eta \u001b[36m0:00:00\u001b[0m\n",
            "\u001b[?25hInstalling collected packages: tokenizers\n",
            "Successfully installed tokenizers-0.13.3\n"
          ]
        }
      ]
    },
    {
      "cell_type": "code",
      "source": [
        "!pip install transformers"
      ],
      "metadata": {
        "colab": {
          "base_uri": "https://localhost:8080/"
        },
        "id": "mGN5C2Vx8N8q",
        "outputId": "cbe47c88-8506-430c-860b-94f26e4118e0"
      },
      "id": "mGN5C2Vx8N8q",
      "execution_count": 2,
      "outputs": [
        {
          "output_type": "stream",
          "name": "stdout",
          "text": [
            "Collecting transformers\n",
            "  Downloading transformers-4.31.0-py3-none-any.whl (7.4 MB)\n",
            "\u001b[2K     \u001b[90m━━━━━━━━━━━━━━━━━━━━━━━━━━━━━━━━━━━━━━━━\u001b[0m \u001b[32m7.4/7.4 MB\u001b[0m \u001b[31m49.2 MB/s\u001b[0m eta \u001b[36m0:00:00\u001b[0m\n",
            "\u001b[?25hRequirement already satisfied: filelock in /usr/local/lib/python3.10/dist-packages (from transformers) (3.12.2)\n",
            "Collecting huggingface-hub<1.0,>=0.14.1 (from transformers)\n",
            "  Downloading huggingface_hub-0.16.4-py3-none-any.whl (268 kB)\n",
            "\u001b[2K     \u001b[90m━━━━━━━━━━━━━━━━━━━━━━━━━━━━━━━━━━━━━━\u001b[0m \u001b[32m268.8/268.8 kB\u001b[0m \u001b[31m28.6 MB/s\u001b[0m eta \u001b[36m0:00:00\u001b[0m\n",
            "\u001b[?25hRequirement already satisfied: numpy>=1.17 in /usr/local/lib/python3.10/dist-packages (from transformers) (1.22.4)\n",
            "Requirement already satisfied: packaging>=20.0 in /usr/local/lib/python3.10/dist-packages (from transformers) (23.1)\n",
            "Requirement already satisfied: pyyaml>=5.1 in /usr/local/lib/python3.10/dist-packages (from transformers) (6.0)\n",
            "Requirement already satisfied: regex!=2019.12.17 in /usr/local/lib/python3.10/dist-packages (from transformers) (2022.10.31)\n",
            "Requirement already satisfied: requests in /usr/local/lib/python3.10/dist-packages (from transformers) (2.27.1)\n",
            "Requirement already satisfied: tokenizers!=0.11.3,<0.14,>=0.11.1 in /usr/local/lib/python3.10/dist-packages (from transformers) (0.13.3)\n",
            "Collecting safetensors>=0.3.1 (from transformers)\n",
            "  Downloading safetensors-0.3.1-cp310-cp310-manylinux_2_17_x86_64.manylinux2014_x86_64.whl (1.3 MB)\n",
            "\u001b[2K     \u001b[90m━━━━━━━━━━━━━━━━━━━━━━━━━━━━━━━━━━━━━━━━\u001b[0m \u001b[32m1.3/1.3 MB\u001b[0m \u001b[31m73.8 MB/s\u001b[0m eta \u001b[36m0:00:00\u001b[0m\n",
            "\u001b[?25hRequirement already satisfied: tqdm>=4.27 in /usr/local/lib/python3.10/dist-packages (from transformers) (4.65.0)\n",
            "Requirement already satisfied: fsspec in /usr/local/lib/python3.10/dist-packages (from huggingface-hub<1.0,>=0.14.1->transformers) (2023.6.0)\n",
            "Requirement already satisfied: typing-extensions>=3.7.4.3 in /usr/local/lib/python3.10/dist-packages (from huggingface-hub<1.0,>=0.14.1->transformers) (4.7.1)\n",
            "Requirement already satisfied: urllib3<1.27,>=1.21.1 in /usr/local/lib/python3.10/dist-packages (from requests->transformers) (1.26.16)\n",
            "Requirement already satisfied: certifi>=2017.4.17 in /usr/local/lib/python3.10/dist-packages (from requests->transformers) (2023.5.7)\n",
            "Requirement already satisfied: charset-normalizer~=2.0.0 in /usr/local/lib/python3.10/dist-packages (from requests->transformers) (2.0.12)\n",
            "Requirement already satisfied: idna<4,>=2.5 in /usr/local/lib/python3.10/dist-packages (from requests->transformers) (3.4)\n",
            "Installing collected packages: safetensors, huggingface-hub, transformers\n",
            "Successfully installed huggingface-hub-0.16.4 safetensors-0.3.1 transformers-4.31.0\n"
          ]
        }
      ]
    },
    {
      "cell_type": "code",
      "execution_count": 18,
      "id": "c05e7e1a-9bd1-4dfc-93a9-b835d67f1a06",
      "metadata": {
        "colab": {
          "base_uri": "https://localhost:8080/"
        },
        "id": "c05e7e1a-9bd1-4dfc-93a9-b835d67f1a06",
        "outputId": "4f3e502d-188d-4987-f0e6-81d9d5da11ac"
      },
      "outputs": [
        {
          "output_type": "stream",
          "name": "stdout",
          "text": [
            "['/content/bert-transformer', '/content', '/env/python', '/usr/lib/python310.zip', '/usr/lib/python3.10', '/usr/lib/python3.10/lib-dynload', '', '/usr/local/lib/python3.10/dist-packages', '/usr/lib/python3/dist-packages', '/usr/local/lib/python3.10/dist-packages/IPython/extensions', '/root/.ipython']\n",
            "/content\n"
          ]
        }
      ],
      "source": [
        "import os\n",
        "import sys\n",
        "from pathlib import Path\n",
        "from tokenizers import ByteLevelBPETokenizer\n",
        "from transformers import RobertaTokenizer, pipeline\n",
        "from transformers import RobertaConfig, RobertaForMaskedLM, AdamW\n",
        "from torch.utils.tensorboard import SummaryWriter\n",
        "import torch\n",
        "import tqdm\n",
        "\n",
        "print(sys.path)\n",
        "print(os.getcwd())"
      ]
    },
    {
      "cell_type": "markdown",
      "source": [
        "Now we must mount google drive and then clone the repo containing the code."
      ],
      "metadata": {
        "id": "S4fWzteA3Ig5"
      },
      "id": "S4fWzteA3Ig5"
    },
    {
      "cell_type": "code",
      "source": [
        "from google.colab import drive\n",
        "drive.mount('/content/drive')"
      ],
      "metadata": {
        "colab": {
          "base_uri": "https://localhost:8080/"
        },
        "id": "jwSL3Rn70-jq",
        "outputId": "c3d3d723-48a4-4e94-fd34-8a35059c5d6b"
      },
      "id": "jwSL3Rn70-jq",
      "execution_count": 4,
      "outputs": [
        {
          "output_type": "stream",
          "name": "stdout",
          "text": [
            "Mounted at /content/drive\n"
          ]
        }
      ]
    },
    {
      "cell_type": "code",
      "source": [
        "!git clone https://github.com/christianbromley/bert-transformer.git"
      ],
      "metadata": {
        "colab": {
          "base_uri": "https://localhost:8080/"
        },
        "id": "dW7HkCdV2k9X",
        "outputId": "f7004c6b-0a66-4835-e3b8-9e68faeaa70c"
      },
      "id": "dW7HkCdV2k9X",
      "execution_count": 4,
      "outputs": [
        {
          "output_type": "stream",
          "name": "stdout",
          "text": [
            "Cloning into 'bert-transformer'...\n",
            "remote: Enumerating objects: 45, done.\u001b[K\n",
            "remote: Counting objects: 100% (45/45), done.\u001b[K\n",
            "remote: Compressing objects: 100% (31/31), done.\u001b[K\n",
            "remote: Total 45 (delta 21), reused 35 (delta 14), pack-reused 0\u001b[K\n",
            "Unpacking objects: 100% (45/45), 133.45 KiB | 579.00 KiB/s, done.\n"
          ]
        }
      ]
    },
    {
      "cell_type": "code",
      "source": [
        "sys.path.insert(0, '/content/bert-transformer')\n",
        "\n",
        "from src.make_tokens import extract_file_paths, run as run_tokenizer"
      ],
      "metadata": {
        "id": "MKf8bZ2LDcux"
      },
      "id": "MKf8bZ2LDcux",
      "execution_count": 2,
      "outputs": []
    },
    {
      "cell_type": "markdown",
      "source": [
        "Next get the path to our text."
      ],
      "metadata": {
        "id": "BSSVWjiW3N1C"
      },
      "id": "BSSVWjiW3N1C"
    },
    {
      "cell_type": "code",
      "source": [
        "DATA_DIR='/content/bert-transformer/data'\n",
        "\n",
        "paths = extract_file_paths(DATA_DIR)\n",
        "\n",
        "print(paths)"
      ],
      "metadata": {
        "colab": {
          "base_uri": "https://localhost:8080/"
        },
        "id": "sUIZVKy51wvX",
        "outputId": "6d351898-062a-4a1c-d488-d0f8e1044bdc"
      },
      "id": "sUIZVKy51wvX",
      "execution_count": 8,
      "outputs": [
        {
          "output_type": "stream",
          "name": "stdout",
          "text": [
            "['/content/bert-transformer/data/text_0.txt']\n"
          ]
        }
      ]
    },
    {
      "cell_type": "code",
      "source": [
        "TOKENIZER_OUTPUT_DIR = '/content/bert-transformer/models'\n",
        "\n",
        "run_tokenizer(paths, TOKENIZER_OUTPUT_DIR)"
      ],
      "metadata": {
        "id": "kYHeSoOP5RaZ"
      },
      "id": "kYHeSoOP5RaZ",
      "execution_count": 4,
      "outputs": []
    },
    {
      "cell_type": "markdown",
      "source": [
        "Ok, so we have run our tokenizer and produced the files now contained in the models directory.\n",
        "\n",
        "Now we must initialise our tokenizer."
      ],
      "metadata": {
        "id": "bQtOeLPf7yCO"
      },
      "id": "bQtOeLPf7yCO"
    },
    {
      "cell_type": "code",
      "source": [
        "# initialize the tokenizer using the tokenizer we created\n",
        "tokenizer = RobertaTokenizer.from_pretrained(TOKENIZER_OUTPUT_DIR, max_len=512)"
      ],
      "metadata": {
        "colab": {
          "base_uri": "https://localhost:8080/"
        },
        "id": "S1hZpS0_7xVg",
        "outputId": "33be33b0-1521-4f76-f5e1-0a986f973096"
      },
      "id": "S1hZpS0_7xVg",
      "execution_count": 5,
      "outputs": [
        {
          "output_type": "stream",
          "name": "stderr",
          "text": [
            "The tokenizer class you load from this checkpoint is not the same type as the class this function is called from. It may result in unexpected tokenization. \n",
            "The tokenizer class you load from this checkpoint is 'BertTokenizer'. \n",
            "The class this function is called from is 'RobertaTokenizer'.\n"
          ]
        }
      ]
    },
    {
      "cell_type": "code",
      "source": [
        "tokenizer('This is a cytokine')"
      ],
      "metadata": {
        "id": "RJbwOTVeGkk5",
        "outputId": "ef5a6fa5-88b4-42eb-b2de-db74d7990917",
        "colab": {
          "base_uri": "https://localhost:8080/"
        }
      },
      "id": "RJbwOTVeGkk5",
      "execution_count": 47,
      "outputs": [
        {
          "output_type": "execute_result",
          "data": {
            "text/plain": [
              "{'input_ids': [0, 56, 76, 77, 87, 225, 77, 87, 225, 69, 225, 71, 93, 88, 83, 79, 77, 82, 73, 2], 'attention_mask': [1, 1, 1, 1, 1, 1, 1, 1, 1, 1, 1, 1, 1, 1, 1, 1, 1, 1, 1, 1]}"
            ]
          },
          "metadata": {},
          "execution_count": 47
        }
      ]
    },
    {
      "cell_type": "markdown",
      "source": [
        "Ok, so we have our tokenizer. Now we want to create our tensors. First we need  a function to create our masked language model."
      ],
      "metadata": {
        "id": "H3PPbI5981SK"
      },
      "id": "H3PPbI5981SK"
    },
    {
      "cell_type": "code",
      "source": [
        "def masked_language_model(tensor):\n",
        "    rand = torch.rand(tensor.shape)\n",
        "    mask_arr = (rand < 0.15) * (tensor > 2)\n",
        "    for i in range(tensor.shape[0]):\n",
        "        selection = torch.flatten(mask_arr[i].nonzero()).tolist()\n",
        "        tensor[i,selection] = 4\n",
        "    return tensor"
      ],
      "metadata": {
        "id": "bXD5ksbP0Ldi"
      },
      "id": "bXD5ksbP0Ldi",
      "execution_count": 6,
      "outputs": []
    },
    {
      "cell_type": "code",
      "source": [
        "## input ids - token IDs with a % of tokens masked with the mask token ID which in our case is 4\n",
        "input_ids = []\n",
        "## mask - this is a binary tensor of 1 and 0 indicating where the masks are\n",
        "mask = []\n",
        "## labels - these are just the unmasked token IDs\n",
        "labels = []\n",
        "# initialise the output\n",
        "tokenized_text = {}\n",
        "\n",
        "# read file\n",
        "with open(paths[0], 'r', encoding='utf-8') as fp:\n",
        "    lines = fp.read().split('\\n')\n",
        "\n",
        "# get the file name\n",
        "fname = paths[0].split('/')[-1]\n",
        "print(fname)"
      ],
      "metadata": {
        "colab": {
          "base_uri": "https://localhost:8080/"
        },
        "id": "nCTzom5W0SH8",
        "outputId": "453b416c-e85c-4af1-f277-b4e0499ea546"
      },
      "id": "nCTzom5W0SH8",
      "execution_count": 9,
      "outputs": [
        {
          "output_type": "stream",
          "name": "stdout",
          "text": [
            "text_0.txt\n"
          ]
        }
      ]
    },
    {
      "cell_type": "code",
      "source": [
        "# tokenize the text in these lines\n",
        "sample = tokenizer(lines, max_length=512, padding='max_length', truncation=True, return_tensors='pt')\n",
        "\n",
        "tokenized_text[fname] = sample\n",
        "\n",
        "# the sample object contains some of our tensors - extract these\n",
        "\n",
        "## get the input IDs and append to labels\n",
        "labels.append(sample.input_ids)\n",
        "\n",
        "## get the attention mask - the binary\n",
        "mask.append(sample.attention_mask)\n"
      ],
      "metadata": {
        "id": "bNVgeTbv0qHZ"
      },
      "id": "bNVgeTbv0qHZ",
      "execution_count": 10,
      "outputs": []
    },
    {
      "cell_type": "code",
      "source": [
        "#print(sample.keys())"
      ],
      "metadata": {
        "id": "21s_fnu31SRc"
      },
      "id": "21s_fnu31SRc",
      "execution_count": 9,
      "outputs": []
    },
    {
      "cell_type": "code",
      "source": [
        "#print(sample.attention_mask[0])"
      ],
      "metadata": {
        "id": "2U0Mqi7V1V-4"
      },
      "id": "2U0Mqi7V1V-4",
      "execution_count": 10,
      "outputs": []
    },
    {
      "cell_type": "code",
      "source": [
        "## now apply the masked language model function on the input IDs to mask 15% of tokens\n",
        "mlm_on_input = masked_language_model(sample.input_ids.detach().clone())\n",
        "input_ids.append(mlm_on_input)"
      ],
      "metadata": {
        "id": "GyqU-kHc1PgT"
      },
      "id": "GyqU-kHc1PgT",
      "execution_count": 11,
      "outputs": []
    },
    {
      "cell_type": "code",
      "source": [
        "# now format tensors\n",
        "input_ids = torch.cat(input_ids)\n",
        "mask = torch.cat(mask)\n",
        "labels = torch.cat(labels)"
      ],
      "metadata": {
        "id": "ez_OB70c6_jh"
      },
      "id": "ez_OB70c6_jh",
      "execution_count": 12,
      "outputs": []
    },
    {
      "cell_type": "code",
      "source": [
        "# create encodings dict\n",
        "encodings = {\n",
        "    'input_ids': input_ids,\n",
        "    'mask': mask,\n",
        "    'labels': labels\n",
        "}"
      ],
      "metadata": {
        "id": "tRSSOEtG7Ibo"
      },
      "id": "tRSSOEtG7Ibo",
      "execution_count": 13,
      "outputs": []
    },
    {
      "cell_type": "code",
      "source": [
        "class Dataset(torch.utils.data.Dataset):\n",
        "    def __init__(self, encodings):\n",
        "        self.encodings = encodings\n",
        "    def __len__(self):\n",
        "        return self.encodings['input_ids'].shape[0]\n",
        "    def __getitem__(self, i):\n",
        "        # return {\n",
        "        #     'input_ids': self.encodings['input_ids'][i]\n",
        "        # }\n",
        "        return {key: tensor[i] for key, tensor in self.encodings.items()}"
      ],
      "metadata": {
        "id": "5IF6uGvv7TLs"
      },
      "id": "5IF6uGvv7TLs",
      "execution_count": 14,
      "outputs": []
    },
    {
      "cell_type": "code",
      "source": [
        "dataset = Dataset(encodings)\n",
        "\n",
        "dataloader = torch.utils.data.DataLoader(dataset, batch_size=16, shuffle=True)"
      ],
      "metadata": {
        "id": "HL_iYxlN7VaH"
      },
      "id": "HL_iYxlN7VaH",
      "execution_count": 15,
      "outputs": []
    },
    {
      "cell_type": "code",
      "source": [
        "# build RoBERTa config\n",
        "config = RobertaConfig(\n",
        "    vocab_size=30_522,  # we align this to the tokenizer vocab_size\n",
        "    max_position_embeddings=514,\n",
        "    hidden_size=768,\n",
        "    num_attention_heads=12,\n",
        "    num_hidden_layers=6,\n",
        "    type_vocab_size=1\n",
        ")\n"
      ],
      "metadata": {
        "id": "xxL5vM1A7bdS"
      },
      "id": "xxL5vM1A7bdS",
      "execution_count": 16,
      "outputs": []
    },
    {
      "cell_type": "code",
      "source": [
        "# init tensorboard writer\n",
        "writer = SummaryWriter()\n",
        "# init model\n",
        "model = RobertaForMaskedLM(config)\n",
        "# set device\n",
        "device = torch.device('cuda') if torch.cuda.is_available() else torch.device('cpu')\n",
        "# and move our model over to the selected device\n",
        "model.to(device)\n",
        "# activate training mode\n",
        "model.train()\n",
        "# initialize optimizer\n",
        "optim = AdamW(model.parameters(), lr=1e-4)\n",
        "# set number of epochs\n",
        "epochs = 2\n",
        "# loop through epochs\n",
        "for epoch in range(epochs):\n",
        "    print(f'Epoch {str(epoch)}')\n",
        "    # setup loop with TQDM and dataloader\n",
        "    loop = tqdm.tqdm(dataloader, leave=False)\n",
        "    for batch_idx, batch in enumerate(loop):\n",
        "        #print(batch.keys())\n",
        "        # initialize calculated gradients (from prev step)\n",
        "        optim.zero_grad()\n",
        "        # pull all tensor batches required for training\n",
        "        #print(batch.keys())\n",
        "        input_ids = batch['input_ids'].to(device)\n",
        "        attention_mask = batch['mask'].to(device)\n",
        "        labels = batch['labels'].to(device)\n",
        "        # model\n",
        "        outputs = model(input_ids,\n",
        "                        attention_mask=attention_mask,\n",
        "                        labels=labels)\n",
        "        # extract the loss\n",
        "        loss = outputs.loss\n",
        "        # calculate loss for every parameter that needs grad update\n",
        "        loss.backward()\n",
        "        # update parameters\n",
        "        optim.step()\n",
        "        # print relevant info to progress bar\n",
        "        loop.set_description(f'Epoch {epoch}')\n",
        "        loop.set_postfix(loss=loss.item())\n",
        "\n",
        "        writer.add_scalar('Loss', loss.item(), epoch * len(dataloader) + batch_idx)\n",
        "writer.flush()\n",
        "writer.close()"
      ],
      "metadata": {
        "colab": {
          "base_uri": "https://localhost:8080/"
        },
        "id": "VWwhxZhwfjbn",
        "outputId": "9ebb47bc-24f7-4025-f01e-8631b15b17fd"
      },
      "id": "VWwhxZhwfjbn",
      "execution_count": 34,
      "outputs": [
        {
          "output_type": "stream",
          "name": "stderr",
          "text": [
            "/usr/local/lib/python3.10/dist-packages/transformers/optimization.py:411: FutureWarning: This implementation of AdamW is deprecated and will be removed in a future version. Use the PyTorch implementation torch.optim.AdamW instead, or set `no_deprecation_warning=True` to disable this warning\n",
            "  warnings.warn(\n"
          ]
        },
        {
          "output_type": "stream",
          "name": "stdout",
          "text": [
            "Epoch 0\n"
          ]
        },
        {
          "output_type": "stream",
          "name": "stderr",
          "text": []
        },
        {
          "output_type": "stream",
          "name": "stdout",
          "text": [
            "Epoch 1\n"
          ]
        },
        {
          "output_type": "stream",
          "name": "stderr",
          "text": []
        }
      ]
    },
    {
      "cell_type": "code",
      "source": [
        "# Load the TensorBoard notebook extension\n",
        "%load_ext tensorboard"
      ],
      "metadata": {
        "id": "2V1Vvl8sA_bX"
      },
      "id": "2V1Vvl8sA_bX",
      "execution_count": 38,
      "outputs": []
    },
    {
      "cell_type": "code",
      "source": [
        "!tensorboard --logdir=runs --port=8008 --bind_all"
      ],
      "metadata": {
        "colab": {
          "base_uri": "https://localhost:8080/"
        },
        "id": "HCEeHX8jAZD4",
        "outputId": "fee2548d-77ac-494d-fad8-c776be31fcf7"
      },
      "id": "HCEeHX8jAZD4",
      "execution_count": 45,
      "outputs": [
        {
          "output_type": "stream",
          "name": "stdout",
          "text": [
            "2023-07-18 22:12:39.131137: W tensorflow/compiler/tf2tensorrt/utils/py_utils.cc:38] TF-TRT Warning: Could not find TensorRT\n",
            "/usr/local/lib/python3.10/dist-packages/tensorboard_data_server/bin/server: /lib/x86_64-linux-gnu/libc.so.6: version `GLIBC_2.33' not found (required by /usr/local/lib/python3.10/dist-packages/tensorboard_data_server/bin/server)\n",
            "/usr/local/lib/python3.10/dist-packages/tensorboard_data_server/bin/server: /lib/x86_64-linux-gnu/libc.so.6: version `GLIBC_2.34' not found (required by /usr/local/lib/python3.10/dist-packages/tensorboard_data_server/bin/server)\n",
            "/usr/local/lib/python3.10/dist-packages/tensorboard_data_server/bin/server: /lib/x86_64-linux-gnu/libc.so.6: version `GLIBC_2.32' not found (required by /usr/local/lib/python3.10/dist-packages/tensorboard_data_server/bin/server)\n",
            "Serving TensorBoard on localhost; to expose to the network, use a proxy or pass --bind_all\n",
            "TensorBoard 2.12.3 at http://localhost:8008/ (Press CTRL+C to quit)\n",
            "^C\n"
          ]
        }
      ]
    },
    {
      "cell_type": "code",
      "source": [
        "model.save_pretrained(f'/content/bert-transformer/models/thesis_bert')"
      ],
      "metadata": {
        "id": "7xoRsola4-5b"
      },
      "id": "7xoRsola4-5b",
      "execution_count": 35,
      "outputs": []
    },
    {
      "cell_type": "code",
      "source": [
        "my_pl = pipeline('fill-mask',\n",
        "                 model='/content/bert-transformer/models/thesis_bert',\n",
        "                 tokenizer=tokenizer)"
      ],
      "metadata": {
        "id": "bfzrfTT09VkK"
      },
      "id": "bfzrfTT09VkK",
      "execution_count": 48,
      "outputs": []
    },
    {
      "cell_type": "code",
      "source": [
        "my_pl(f'Cancer is a {my_pl.tokenizer.mask_token}')"
      ],
      "metadata": {
        "id": "7ff1jMN7HMCy",
        "outputId": "bb5c86cd-8625-404d-e0f5-de91c6b70392",
        "colab": {
          "base_uri": "https://localhost:8080/"
        }
      },
      "id": "7ff1jMN7HMCy",
      "execution_count": 51,
      "outputs": [
        {
          "output_type": "execute_result",
          "data": {
            "text/plain": [
              "[{'score': 0.1518344134092331,\n",
              "  'token': 225,\n",
              "  'token_str': ' ',\n",
              "  'sequence': 'Cancer is a '},\n",
              " {'score': 0.087583027780056,\n",
              "  'token': 88,\n",
              "  'token_str': 't',\n",
              "  'sequence': 'Cancer is at'},\n",
              " {'score': 0.06038049980998039,\n",
              "  'token': 73,\n",
              "  'token_str': 'e',\n",
              "  'sequence': 'Cancer is ae'},\n",
              " {'score': 0.04791000485420227,\n",
              "  'token': 83,\n",
              "  'token_str': 'o',\n",
              "  'sequence': 'Cancer is ao'},\n",
              " {'score': 0.0468127578496933,\n",
              "  'token': 82,\n",
              "  'token_str': 'n',\n",
              "  'sequence': 'Cancer is an'}]"
            ]
          },
          "metadata": {},
          "execution_count": 51
        }
      ]
    },
    {
      "cell_type": "code",
      "source": [
        "my_pl(f'Inflammation promotes {my_pl.tokenizer.mask_token}')"
      ],
      "metadata": {
        "colab": {
          "base_uri": "https://localhost:8080/"
        },
        "id": "gHxemjiS7PNj",
        "outputId": "adc45d00-81af-425e-a148-47b9c3197a8c"
      },
      "id": "gHxemjiS7PNj",
      "execution_count": 50,
      "outputs": [
        {
          "output_type": "execute_result",
          "data": {
            "text/plain": [
              "[{'score': 0.17040212452411652,\n",
              "  'token': 225,\n",
              "  'token_str': ' ',\n",
              "  'sequence': 'Inflammation promotes '},\n",
              " {'score': 0.07921242713928223,\n",
              "  'token': 88,\n",
              "  'token_str': 't',\n",
              "  'sequence': 'Inflammation promotest'},\n",
              " {'score': 0.055338140577077866,\n",
              "  'token': 73,\n",
              "  'token_str': 'e',\n",
              "  'sequence': 'Inflammation promotese'},\n",
              " {'score': 0.050345294177532196,\n",
              "  'token': 77,\n",
              "  'token_str': 'i',\n",
              "  'sequence': 'Inflammation promotesi'},\n",
              " {'score': 0.049357637763023376,\n",
              "  'token': 82,\n",
              "  'token_str': 'n',\n",
              "  'sequence': 'Inflammation promotesn'}]"
            ]
          },
          "metadata": {},
          "execution_count": 50
        }
      ]
    },
    {
      "cell_type": "code",
      "source": [
        "def train_model(config, loader_for_data):\n",
        "    # init model\n",
        "    model = RobertaForMaskedLM(config)\n",
        "    # set device\n",
        "    device = torch.device('cuda') if torch.cuda.is_available() else torch.device('cpu')\n",
        "    # and move our model over to the selected device\n",
        "    model.to(device)\n",
        "    # activate training mode\n",
        "    model.train()\n",
        "    # initialize optimizer\n",
        "    optim = AdamW(model.parameters(), lr=1e-4)\n",
        "    # set number of epochs\n",
        "    epochs = 2\n",
        "    # loop through epochs\n",
        "    for epoch in range(epochs):\n",
        "        print(f'Epoch {str(epoch)}')\n",
        "        # setup loop with TQDM and dataloader\n",
        "        loop = tqdm.tqdm(loader_for_data, leave=False)\n",
        "        for batch in loop:\n",
        "            print(batch.keys())\n",
        "            # initialize calculated gradients (from prev step)\n",
        "            optim.zero_grad()\n",
        "            # pull all tensor batches required for training\n",
        "            #print(batch.keys())\n",
        "            input_ids = batch['input_ids'].to(device)\n",
        "            attention_mask = batch['mask'].to(device)\n",
        "            labels = batch['labels'].to(device)\n",
        "            # model\n",
        "            outputs = model(input_ids,\n",
        "                            attention_mask=attention_mask,\n",
        "                            labels=labels)\n",
        "            # extract the loss\n",
        "            loss = outputs.loss\n",
        "            # calculate loss for every parameter that needs grad update\n",
        "            loss.backward()\n",
        "            # update parameters\n",
        "            optim.step()\n",
        "            # print relevant info to progress bar\n",
        "            loop.set_description(f'Epoch {epoch}')\n",
        "            loop.set_postfix(loss=loss.item())\n",
        "\n",
        "    return model\n",
        "\n"
      ],
      "metadata": {
        "id": "LyKNWqPGTwzr"
      },
      "id": "LyKNWqPGTwzr",
      "execution_count": 22,
      "outputs": []
    },
    {
      "cell_type": "code",
      "source": [
        "model = train_model(config=config, loader_for_data=dataloader)\n",
        "\n",
        "model.save_pretrained(f'/content/bert-transformer/models/thesis_bert')"
      ],
      "metadata": {
        "colab": {
          "base_uri": "https://localhost:8080/",
          "height": 1000
        },
        "id": "EVz7J9GzW2Ka",
        "outputId": "e8dd4261-6c6a-467e-a78e-405eafd9c3e3"
      },
      "id": "EVz7J9GzW2Ka",
      "execution_count": 24,
      "outputs": [
        {
          "output_type": "stream",
          "name": "stderr",
          "text": [
            "/usr/local/lib/python3.10/dist-packages/transformers/optimization.py:411: FutureWarning: This implementation of AdamW is deprecated and will be removed in a future version. Use the PyTorch implementation torch.optim.AdamW instead, or set `no_deprecation_warning=True` to disable this warning\n",
            "  warnings.warn(\n"
          ]
        },
        {
          "output_type": "stream",
          "name": "stdout",
          "text": [
            "Epoch 0\n"
          ]
        },
        {
          "output_type": "stream",
          "name": "stderr",
          "text": [
            "\n",
            "  0%|          | 0/117 [00:00<?, ?it/s]\u001b[A"
          ]
        },
        {
          "output_type": "stream",
          "name": "stdout",
          "text": [
            "dict_keys(['input_ids', 'mask', 'labels'])\n"
          ]
        },
        {
          "output_type": "stream",
          "name": "stderr",
          "text": [
            "\n",
            "Epoch 0:   0%|          | 0/117 [00:01<?, ?it/s]\u001b[A\n",
            "Epoch 0:   0%|          | 0/117 [00:01<?, ?it/s, loss=10.5]\u001b[A\n",
            "Epoch 0:   1%|          | 1/117 [00:01<02:19,  1.20s/it, loss=10.5]\u001b[A"
          ]
        },
        {
          "output_type": "stream",
          "name": "stdout",
          "text": [
            "dict_keys(['input_ids', 'mask', 'labels'])\n"
          ]
        },
        {
          "output_type": "stream",
          "name": "stderr",
          "text": [
            "\n",
            "Epoch 0:   1%|          | 1/117 [00:02<02:19,  1.20s/it, loss=10.5]\u001b[A\n",
            "Epoch 0:   1%|          | 1/117 [00:02<02:19,  1.20s/it, loss=9.81]\u001b[A\n",
            "Epoch 0:   2%|▏         | 2/117 [00:02<02:17,  1.19s/it, loss=9.81]\u001b[A"
          ]
        },
        {
          "output_type": "stream",
          "name": "stdout",
          "text": [
            "dict_keys(['input_ids', 'mask', 'labels'])\n"
          ]
        },
        {
          "output_type": "stream",
          "name": "stderr",
          "text": [
            "\n",
            "Epoch 0:   2%|▏         | 2/117 [00:03<02:17,  1.19s/it, loss=9.81]\u001b[A\n",
            "Epoch 0:   2%|▏         | 2/117 [00:03<02:17,  1.19s/it, loss=9.52]\u001b[A\n",
            "Epoch 0:   3%|▎         | 3/117 [00:03<02:15,  1.19s/it, loss=9.52]\u001b[A"
          ]
        },
        {
          "output_type": "stream",
          "name": "stdout",
          "text": [
            "dict_keys(['input_ids', 'mask', 'labels'])\n"
          ]
        },
        {
          "output_type": "stream",
          "name": "stderr",
          "text": [
            "\n",
            "Epoch 0:   3%|▎         | 3/117 [00:04<02:15,  1.19s/it, loss=9.52]\u001b[A\n",
            "Epoch 0:   3%|▎         | 3/117 [00:04<02:15,  1.19s/it, loss=9.1] \u001b[A\n",
            "Epoch 0:   3%|▎         | 4/117 [00:04<02:15,  1.20s/it, loss=9.1]\u001b[A"
          ]
        },
        {
          "output_type": "stream",
          "name": "stdout",
          "text": [
            "dict_keys(['input_ids', 'mask', 'labels'])\n"
          ]
        },
        {
          "output_type": "stream",
          "name": "stderr",
          "text": [
            "\n",
            "Epoch 0:   3%|▎         | 4/117 [00:05<02:15,  1.20s/it, loss=9.1]\u001b[A\n",
            "Epoch 0:   3%|▎         | 4/117 [00:06<02:15,  1.20s/it, loss=9.15]\u001b[A\n",
            "Epoch 0:   4%|▍         | 5/117 [00:06<02:15,  1.21s/it, loss=9.15]\u001b[A"
          ]
        },
        {
          "output_type": "stream",
          "name": "stdout",
          "text": [
            "dict_keys(['input_ids', 'mask', 'labels'])\n"
          ]
        },
        {
          "output_type": "stream",
          "name": "stderr",
          "text": [
            "\n",
            "Epoch 0:   4%|▍         | 5/117 [00:07<02:15,  1.21s/it, loss=9.15]\u001b[A\n",
            "Epoch 0:   4%|▍         | 5/117 [00:07<02:15,  1.21s/it, loss=9.01]\u001b[A\n",
            "Epoch 0:   5%|▌         | 6/117 [00:07<02:13,  1.21s/it, loss=9.01]\u001b[A"
          ]
        },
        {
          "output_type": "stream",
          "name": "stdout",
          "text": [
            "dict_keys(['input_ids', 'mask', 'labels'])\n"
          ]
        },
        {
          "output_type": "stream",
          "name": "stderr",
          "text": [
            "\n",
            "Epoch 0:   5%|▌         | 6/117 [00:08<02:13,  1.21s/it, loss=9.01]\u001b[A\n",
            "Epoch 0:   5%|▌         | 6/117 [00:08<02:13,  1.21s/it, loss=8.56]\u001b[A\n",
            "Epoch 0:   6%|▌         | 7/117 [00:08<02:13,  1.22s/it, loss=8.56]\u001b[A"
          ]
        },
        {
          "output_type": "stream",
          "name": "stdout",
          "text": [
            "dict_keys(['input_ids', 'mask', 'labels'])\n"
          ]
        },
        {
          "output_type": "stream",
          "name": "stderr",
          "text": [
            "\n",
            "Epoch 0:   6%|▌         | 7/117 [00:09<02:13,  1.22s/it, loss=8.56]\u001b[A\n",
            "Epoch 0:   6%|▌         | 7/117 [00:09<02:13,  1.22s/it, loss=8.61]\u001b[A\n",
            "Epoch 0:   7%|▋         | 8/117 [00:09<02:12,  1.22s/it, loss=8.61]\u001b[A"
          ]
        },
        {
          "output_type": "stream",
          "name": "stdout",
          "text": [
            "dict_keys(['input_ids', 'mask', 'labels'])\n"
          ]
        },
        {
          "output_type": "stream",
          "name": "stderr",
          "text": [
            "\n",
            "Epoch 0:   7%|▋         | 8/117 [00:10<02:12,  1.22s/it, loss=8.61]\u001b[A\n",
            "Epoch 0:   7%|▋         | 8/117 [00:10<02:12,  1.22s/it, loss=8.27]\u001b[A\n",
            "Epoch 0:   8%|▊         | 9/117 [00:10<02:11,  1.21s/it, loss=8.27]\u001b[A"
          ]
        },
        {
          "output_type": "stream",
          "name": "stdout",
          "text": [
            "dict_keys(['input_ids', 'mask', 'labels'])\n"
          ]
        },
        {
          "output_type": "stream",
          "name": "stderr",
          "text": [
            "\n",
            "Epoch 0:   8%|▊         | 9/117 [00:12<02:11,  1.21s/it, loss=8.27]\u001b[A\n",
            "Epoch 0:   8%|▊         | 9/117 [00:12<02:11,  1.21s/it, loss=8.36]\u001b[A\n",
            "Epoch 0:   9%|▊         | 10/117 [00:12<02:10,  1.22s/it, loss=8.36]\u001b[A"
          ]
        },
        {
          "output_type": "stream",
          "name": "stdout",
          "text": [
            "dict_keys(['input_ids', 'mask', 'labels'])\n"
          ]
        },
        {
          "output_type": "stream",
          "name": "stderr",
          "text": [
            "\n",
            "Epoch 0:   9%|▊         | 10/117 [00:13<02:10,  1.22s/it, loss=8.36]\u001b[A\n",
            "Epoch 0:   9%|▊         | 10/117 [00:13<02:10,  1.22s/it, loss=8.17]\u001b[A\n",
            "Epoch 0:   9%|▉         | 11/117 [00:13<02:08,  1.22s/it, loss=8.17]\u001b[A"
          ]
        },
        {
          "output_type": "stream",
          "name": "stdout",
          "text": [
            "dict_keys(['input_ids', 'mask', 'labels'])\n"
          ]
        },
        {
          "output_type": "stream",
          "name": "stderr",
          "text": [
            "\n",
            "Epoch 0:   9%|▉         | 11/117 [00:14<02:08,  1.22s/it, loss=8.17]\u001b[A\n",
            "Epoch 0:   9%|▉         | 11/117 [00:14<02:08,  1.22s/it, loss=7.83]\u001b[A\n",
            "Epoch 0:  10%|█         | 12/117 [00:14<02:07,  1.22s/it, loss=7.83]\u001b[A"
          ]
        },
        {
          "output_type": "stream",
          "name": "stdout",
          "text": [
            "dict_keys(['input_ids', 'mask', 'labels'])\n"
          ]
        },
        {
          "output_type": "stream",
          "name": "stderr",
          "text": [
            "\n",
            "Epoch 0:  10%|█         | 12/117 [00:15<02:07,  1.22s/it, loss=7.83]\u001b[A\n",
            "Epoch 0:  10%|█         | 12/117 [00:15<02:07,  1.22s/it, loss=7.35]\u001b[A\n",
            "Epoch 0:  11%|█         | 13/117 [00:15<02:06,  1.22s/it, loss=7.35]\u001b[A"
          ]
        },
        {
          "output_type": "stream",
          "name": "stdout",
          "text": [
            "dict_keys(['input_ids', 'mask', 'labels'])\n"
          ]
        },
        {
          "output_type": "stream",
          "name": "stderr",
          "text": [
            "\n",
            "Epoch 0:  11%|█         | 13/117 [00:17<02:06,  1.22s/it, loss=7.35]\u001b[A\n",
            "Epoch 0:  11%|█         | 13/117 [00:17<02:06,  1.22s/it, loss=7.3] \u001b[A\n",
            "Epoch 0:  12%|█▏        | 14/117 [00:17<02:06,  1.23s/it, loss=7.3]\u001b[A"
          ]
        },
        {
          "output_type": "stream",
          "name": "stdout",
          "text": [
            "dict_keys(['input_ids', 'mask', 'labels'])\n"
          ]
        },
        {
          "output_type": "stream",
          "name": "stderr",
          "text": [
            "\n",
            "Epoch 0:  12%|█▏        | 14/117 [00:18<02:06,  1.23s/it, loss=7.3]\u001b[A\n",
            "Epoch 0:  12%|█▏        | 14/117 [00:18<02:06,  1.23s/it, loss=7.34]\u001b[A\n",
            "Epoch 0:  13%|█▎        | 15/117 [00:18<02:05,  1.23s/it, loss=7.34]\u001b[A"
          ]
        },
        {
          "output_type": "stream",
          "name": "stdout",
          "text": [
            "dict_keys(['input_ids', 'mask', 'labels'])\n"
          ]
        },
        {
          "output_type": "stream",
          "name": "stderr",
          "text": [
            "\n",
            "Epoch 0:  13%|█▎        | 15/117 [00:19<02:05,  1.23s/it, loss=7.34]\u001b[A\n",
            "Epoch 0:  13%|█▎        | 15/117 [00:19<02:05,  1.23s/it, loss=6.79]\u001b[A\n",
            "Epoch 0:  14%|█▎        | 16/117 [00:19<02:04,  1.24s/it, loss=6.79]\u001b[A"
          ]
        },
        {
          "output_type": "stream",
          "name": "stdout",
          "text": [
            "dict_keys(['input_ids', 'mask', 'labels'])\n"
          ]
        },
        {
          "output_type": "stream",
          "name": "stderr",
          "text": [
            "\n",
            "Epoch 0:  14%|█▎        | 16/117 [00:20<02:04,  1.24s/it, loss=6.79]\u001b[A\n",
            "Epoch 0:  14%|█▎        | 16/117 [00:20<02:04,  1.24s/it, loss=7.74]\u001b[A\n",
            "Epoch 0:  15%|█▍        | 17/117 [00:20<02:03,  1.23s/it, loss=7.74]\u001b[A"
          ]
        },
        {
          "output_type": "stream",
          "name": "stdout",
          "text": [
            "dict_keys(['input_ids', 'mask', 'labels'])\n"
          ]
        },
        {
          "output_type": "stream",
          "name": "stderr",
          "text": [
            "\n",
            "Epoch 0:  15%|█▍        | 17/117 [00:21<02:03,  1.23s/it, loss=7.74]\u001b[A\n",
            "Epoch 0:  15%|█▍        | 17/117 [00:21<02:03,  1.23s/it, loss=7.33]\u001b[A\n",
            "Epoch 0:  15%|█▌        | 18/117 [00:21<02:01,  1.23s/it, loss=7.33]\u001b[A"
          ]
        },
        {
          "output_type": "stream",
          "name": "stdout",
          "text": [
            "dict_keys(['input_ids', 'mask', 'labels'])\n"
          ]
        },
        {
          "output_type": "stream",
          "name": "stderr",
          "text": [
            "\n",
            "Epoch 0:  15%|█▌        | 18/117 [00:23<02:01,  1.23s/it, loss=7.33]\u001b[A\n",
            "Epoch 0:  15%|█▌        | 18/117 [00:23<02:01,  1.23s/it, loss=6.89]\u001b[A\n",
            "Epoch 0:  16%|█▌        | 19/117 [00:23<02:00,  1.23s/it, loss=6.89]\u001b[A"
          ]
        },
        {
          "output_type": "stream",
          "name": "stdout",
          "text": [
            "dict_keys(['input_ids', 'mask', 'labels'])\n"
          ]
        },
        {
          "output_type": "stream",
          "name": "stderr",
          "text": [
            "\n",
            "Epoch 0:  16%|█▌        | 19/117 [00:24<02:00,  1.23s/it, loss=6.89]\u001b[A\n",
            "Epoch 0:  16%|█▌        | 19/117 [00:24<02:00,  1.23s/it, loss=6.69]\u001b[A\n",
            "Epoch 0:  17%|█▋        | 20/117 [00:24<01:58,  1.22s/it, loss=6.69]\u001b[A"
          ]
        },
        {
          "output_type": "stream",
          "name": "stdout",
          "text": [
            "dict_keys(['input_ids', 'mask', 'labels'])\n"
          ]
        },
        {
          "output_type": "stream",
          "name": "stderr",
          "text": [
            "\n",
            "Epoch 0:  17%|█▋        | 20/117 [00:25<01:58,  1.22s/it, loss=6.69]\u001b[A\n",
            "Epoch 0:  17%|█▋        | 20/117 [00:25<01:58,  1.22s/it, loss=6.47]\u001b[A\n",
            "Epoch 0:  18%|█▊        | 21/117 [00:25<01:57,  1.22s/it, loss=6.47]\u001b[A"
          ]
        },
        {
          "output_type": "stream",
          "name": "stdout",
          "text": [
            "dict_keys(['input_ids', 'mask', 'labels'])\n"
          ]
        },
        {
          "output_type": "stream",
          "name": "stderr",
          "text": [
            "\n",
            "Epoch 0:  18%|█▊        | 21/117 [00:26<01:57,  1.22s/it, loss=6.47]\u001b[A\n",
            "Epoch 0:  18%|█▊        | 21/117 [00:26<01:57,  1.22s/it, loss=6.41]\u001b[A\n",
            "Epoch 0:  19%|█▉        | 22/117 [00:26<01:55,  1.22s/it, loss=6.41]\u001b[A"
          ]
        },
        {
          "output_type": "stream",
          "name": "stdout",
          "text": [
            "dict_keys(['input_ids', 'mask', 'labels'])\n"
          ]
        },
        {
          "output_type": "stream",
          "name": "stderr",
          "text": [
            "\n",
            "Epoch 0:  19%|█▉        | 22/117 [00:27<01:55,  1.22s/it, loss=6.41]\u001b[A\n",
            "Epoch 0:  19%|█▉        | 22/117 [00:28<01:55,  1.22s/it, loss=6.37]\u001b[A\n",
            "Epoch 0:  20%|█▉        | 23/117 [00:28<01:53,  1.21s/it, loss=6.37]\u001b[A"
          ]
        },
        {
          "output_type": "stream",
          "name": "stdout",
          "text": [
            "dict_keys(['input_ids', 'mask', 'labels'])\n"
          ]
        },
        {
          "output_type": "stream",
          "name": "stderr",
          "text": [
            "\n",
            "Epoch 0:  20%|█▉        | 23/117 [00:29<01:53,  1.21s/it, loss=6.37]\u001b[A\n",
            "Epoch 0:  20%|█▉        | 23/117 [00:29<01:53,  1.21s/it, loss=6.12]\u001b[A\n",
            "Epoch 0:  21%|██        | 24/117 [00:29<01:52,  1.21s/it, loss=6.12]\u001b[A"
          ]
        },
        {
          "output_type": "stream",
          "name": "stdout",
          "text": [
            "dict_keys(['input_ids', 'mask', 'labels'])\n"
          ]
        },
        {
          "output_type": "stream",
          "name": "stderr",
          "text": [
            "\n",
            "Epoch 0:  21%|██        | 24/117 [00:30<01:52,  1.21s/it, loss=6.12]\u001b[A\n",
            "Epoch 0:  21%|██        | 24/117 [00:30<01:52,  1.21s/it, loss=5.93]\u001b[A\n",
            "Epoch 0:  21%|██▏       | 25/117 [00:30<01:51,  1.21s/it, loss=5.93]\u001b[A"
          ]
        },
        {
          "output_type": "stream",
          "name": "stdout",
          "text": [
            "dict_keys(['input_ids', 'mask', 'labels'])\n"
          ]
        },
        {
          "output_type": "stream",
          "name": "stderr",
          "text": [
            "\n",
            "Epoch 0:  21%|██▏       | 25/117 [00:31<01:51,  1.21s/it, loss=5.93]\u001b[A\n",
            "Epoch 0:  21%|██▏       | 25/117 [00:31<01:51,  1.21s/it, loss=6.01]\u001b[A\n",
            "Epoch 0:  22%|██▏       | 26/117 [00:31<01:49,  1.20s/it, loss=6.01]\u001b[A"
          ]
        },
        {
          "output_type": "stream",
          "name": "stdout",
          "text": [
            "dict_keys(['input_ids', 'mask', 'labels'])\n"
          ]
        },
        {
          "output_type": "stream",
          "name": "stderr",
          "text": [
            "\n",
            "Epoch 0:  22%|██▏       | 26/117 [00:32<01:49,  1.20s/it, loss=6.01]\u001b[A\n",
            "Epoch 0:  22%|██▏       | 26/117 [00:32<01:49,  1.20s/it, loss=5.56]\u001b[A\n",
            "Epoch 0:  23%|██▎       | 27/117 [00:32<01:47,  1.20s/it, loss=5.56]\u001b[A"
          ]
        },
        {
          "output_type": "stream",
          "name": "stdout",
          "text": [
            "dict_keys(['input_ids', 'mask', 'labels'])\n"
          ]
        },
        {
          "output_type": "stream",
          "name": "stderr",
          "text": [
            "\n",
            "Epoch 0:  23%|██▎       | 27/117 [00:33<01:47,  1.20s/it, loss=5.56]\u001b[A\n",
            "Epoch 0:  23%|██▎       | 27/117 [00:33<01:47,  1.20s/it, loss=5.83]\u001b[A\n",
            "Epoch 0:  24%|██▍       | 28/117 [00:33<01:45,  1.19s/it, loss=5.83]\u001b[A"
          ]
        },
        {
          "output_type": "stream",
          "name": "stdout",
          "text": [
            "dict_keys(['input_ids', 'mask', 'labels'])\n"
          ]
        },
        {
          "output_type": "stream",
          "name": "stderr",
          "text": [
            "\n",
            "Epoch 0:  24%|██▍       | 28/117 [00:35<01:45,  1.19s/it, loss=5.83]\u001b[A\n",
            "Epoch 0:  24%|██▍       | 28/117 [00:35<01:45,  1.19s/it, loss=5.4] \u001b[A\n",
            "Epoch 0:  25%|██▍       | 29/117 [00:35<01:44,  1.18s/it, loss=5.4]\u001b[A"
          ]
        },
        {
          "output_type": "stream",
          "name": "stdout",
          "text": [
            "dict_keys(['input_ids', 'mask', 'labels'])\n"
          ]
        },
        {
          "output_type": "stream",
          "name": "stderr",
          "text": [
            "\n",
            "Epoch 0:  25%|██▍       | 29/117 [00:36<01:44,  1.18s/it, loss=5.4]\u001b[A\n",
            "Epoch 0:  25%|██▍       | 29/117 [00:36<01:44,  1.18s/it, loss=5.82]\u001b[A\n",
            "Epoch 0:  26%|██▌       | 30/117 [00:36<01:42,  1.18s/it, loss=5.82]\u001b[A"
          ]
        },
        {
          "output_type": "stream",
          "name": "stdout",
          "text": [
            "dict_keys(['input_ids', 'mask', 'labels'])\n"
          ]
        },
        {
          "output_type": "stream",
          "name": "stderr",
          "text": [
            "\n",
            "Epoch 0:  26%|██▌       | 30/117 [00:37<01:42,  1.18s/it, loss=5.82]\u001b[A\n",
            "Epoch 0:  26%|██▌       | 30/117 [00:37<01:42,  1.18s/it, loss=5.76]\u001b[A\n",
            "Epoch 0:  26%|██▋       | 31/117 [00:37<01:41,  1.18s/it, loss=5.76]\u001b[A"
          ]
        },
        {
          "output_type": "stream",
          "name": "stdout",
          "text": [
            "dict_keys(['input_ids', 'mask', 'labels'])\n"
          ]
        },
        {
          "output_type": "stream",
          "name": "stderr",
          "text": [
            "\n",
            "Epoch 0:  26%|██▋       | 31/117 [00:38<01:41,  1.18s/it, loss=5.76]\u001b[A\n",
            "Epoch 0:  26%|██▋       | 31/117 [00:38<01:41,  1.18s/it, loss=4.94]\u001b[A\n",
            "Epoch 0:  27%|██▋       | 32/117 [00:38<01:39,  1.18s/it, loss=4.94]\u001b[A"
          ]
        },
        {
          "output_type": "stream",
          "name": "stdout",
          "text": [
            "dict_keys(['input_ids', 'mask', 'labels'])\n"
          ]
        },
        {
          "output_type": "stream",
          "name": "stderr",
          "text": [
            "\n",
            "Epoch 0:  27%|██▋       | 32/117 [00:39<01:39,  1.18s/it, loss=4.94]\u001b[A\n",
            "Epoch 0:  27%|██▋       | 32/117 [00:39<01:39,  1.18s/it, loss=5.06]\u001b[A\n",
            "Epoch 0:  28%|██▊       | 33/117 [00:39<01:37,  1.17s/it, loss=5.06]\u001b[A"
          ]
        },
        {
          "output_type": "stream",
          "name": "stdout",
          "text": [
            "dict_keys(['input_ids', 'mask', 'labels'])\n"
          ]
        },
        {
          "output_type": "stream",
          "name": "stderr",
          "text": [
            "\n",
            "Epoch 0:  28%|██▊       | 33/117 [00:40<01:37,  1.17s/it, loss=5.06]\u001b[A\n",
            "Epoch 0:  28%|██▊       | 33/117 [00:40<01:37,  1.17s/it, loss=5.1] \u001b[A\n",
            "Epoch 0:  29%|██▉       | 34/117 [00:40<01:36,  1.16s/it, loss=5.1]\u001b[A"
          ]
        },
        {
          "output_type": "stream",
          "name": "stdout",
          "text": [
            "dict_keys(['input_ids', 'mask', 'labels'])\n"
          ]
        },
        {
          "output_type": "stream",
          "name": "stderr",
          "text": [
            "\n",
            "Epoch 0:  29%|██▉       | 34/117 [00:42<01:36,  1.16s/it, loss=5.1]\u001b[A\n",
            "Epoch 0:  29%|██▉       | 34/117 [00:42<01:36,  1.16s/it, loss=5.18]\u001b[A\n",
            "Epoch 0:  30%|██▉       | 35/117 [00:42<01:35,  1.16s/it, loss=5.18]\u001b[A"
          ]
        },
        {
          "output_type": "stream",
          "name": "stdout",
          "text": [
            "dict_keys(['input_ids', 'mask', 'labels'])\n"
          ]
        },
        {
          "output_type": "stream",
          "name": "stderr",
          "text": [
            "\n",
            "Epoch 0:  30%|██▉       | 35/117 [00:43<01:35,  1.16s/it, loss=5.18]\u001b[A\n",
            "Epoch 0:  30%|██▉       | 35/117 [00:43<01:35,  1.16s/it, loss=4.99]\u001b[A\n",
            "Epoch 0:  31%|███       | 36/117 [00:43<01:33,  1.16s/it, loss=4.99]\u001b[A"
          ]
        },
        {
          "output_type": "stream",
          "name": "stdout",
          "text": [
            "dict_keys(['input_ids', 'mask', 'labels'])\n"
          ]
        },
        {
          "output_type": "stream",
          "name": "stderr",
          "text": [
            "\n",
            "Epoch 0:  31%|███       | 36/117 [00:44<01:33,  1.16s/it, loss=4.99]\u001b[A\n",
            "Epoch 0:  31%|███       | 36/117 [00:44<01:33,  1.16s/it, loss=4.92]\u001b[A\n",
            "Epoch 0:  32%|███▏      | 37/117 [00:44<01:32,  1.16s/it, loss=4.92]\u001b[A"
          ]
        },
        {
          "output_type": "stream",
          "name": "stdout",
          "text": [
            "dict_keys(['input_ids', 'mask', 'labels'])\n"
          ]
        },
        {
          "output_type": "stream",
          "name": "stderr",
          "text": [
            "\n",
            "Epoch 0:  32%|███▏      | 37/117 [00:45<01:32,  1.16s/it, loss=4.92]\u001b[A\n",
            "Epoch 0:  32%|███▏      | 37/117 [00:45<01:32,  1.16s/it, loss=4.94]\u001b[A\n",
            "Epoch 0:  32%|███▏      | 38/117 [00:45<01:31,  1.16s/it, loss=4.94]\u001b[A"
          ]
        },
        {
          "output_type": "stream",
          "name": "stdout",
          "text": [
            "dict_keys(['input_ids', 'mask', 'labels'])\n"
          ]
        },
        {
          "output_type": "stream",
          "name": "stderr",
          "text": [
            "\n",
            "Epoch 0:  32%|███▏      | 38/117 [00:46<01:31,  1.16s/it, loss=4.94]\u001b[A\n",
            "Epoch 0:  32%|███▏      | 38/117 [00:46<01:31,  1.16s/it, loss=4.58]\u001b[A\n",
            "Epoch 0:  33%|███▎      | 39/117 [00:46<01:30,  1.16s/it, loss=4.58]\u001b[A"
          ]
        },
        {
          "output_type": "stream",
          "name": "stdout",
          "text": [
            "dict_keys(['input_ids', 'mask', 'labels'])\n"
          ]
        },
        {
          "output_type": "stream",
          "name": "stderr",
          "text": [
            "\n",
            "Epoch 0:  33%|███▎      | 39/117 [00:47<01:30,  1.16s/it, loss=4.58]\u001b[A\n",
            "Epoch 0:  33%|███▎      | 39/117 [00:47<01:30,  1.16s/it, loss=4.65]\u001b[A\n",
            "Epoch 0:  34%|███▍      | 40/117 [00:47<01:28,  1.15s/it, loss=4.65]\u001b[A"
          ]
        },
        {
          "output_type": "stream",
          "name": "stdout",
          "text": [
            "dict_keys(['input_ids', 'mask', 'labels'])\n"
          ]
        },
        {
          "output_type": "stream",
          "name": "stderr",
          "text": [
            "\n",
            "Epoch 0:  34%|███▍      | 40/117 [00:49<01:28,  1.15s/it, loss=4.65]\u001b[A\n",
            "Epoch 0:  34%|███▍      | 40/117 [00:49<01:28,  1.15s/it, loss=4.32]\u001b[A\n",
            "Epoch 0:  35%|███▌      | 41/117 [00:49<01:27,  1.16s/it, loss=4.32]\u001b[A"
          ]
        },
        {
          "output_type": "stream",
          "name": "stdout",
          "text": [
            "dict_keys(['input_ids', 'mask', 'labels'])\n"
          ]
        },
        {
          "output_type": "stream",
          "name": "stderr",
          "text": [
            "\n",
            "Epoch 0:  35%|███▌      | 41/117 [00:50<01:27,  1.16s/it, loss=4.32]\u001b[A\n",
            "Epoch 0:  35%|███▌      | 41/117 [00:50<01:27,  1.16s/it, loss=4.49]\u001b[A\n",
            "Epoch 0:  36%|███▌      | 42/117 [00:50<01:26,  1.16s/it, loss=4.49]\u001b[A"
          ]
        },
        {
          "output_type": "stream",
          "name": "stdout",
          "text": [
            "dict_keys(['input_ids', 'mask', 'labels'])\n"
          ]
        },
        {
          "output_type": "stream",
          "name": "stderr",
          "text": [
            "\n",
            "Epoch 0:  36%|███▌      | 42/117 [00:51<01:26,  1.16s/it, loss=4.49]\u001b[A\n",
            "Epoch 0:  36%|███▌      | 42/117 [00:51<01:26,  1.16s/it, loss=4.27]\u001b[A\n",
            "Epoch 0:  37%|███▋      | 43/117 [00:51<01:25,  1.15s/it, loss=4.27]\u001b[A"
          ]
        },
        {
          "output_type": "stream",
          "name": "stdout",
          "text": [
            "dict_keys(['input_ids', 'mask', 'labels'])\n"
          ]
        },
        {
          "output_type": "stream",
          "name": "stderr",
          "text": [
            "\n",
            "Epoch 0:  37%|███▋      | 43/117 [00:52<01:25,  1.15s/it, loss=4.27]\u001b[A\n",
            "Epoch 0:  37%|███▋      | 43/117 [00:52<01:25,  1.15s/it, loss=4.08]\u001b[A\n",
            "Epoch 0:  38%|███▊      | 44/117 [00:52<01:24,  1.15s/it, loss=4.08]\u001b[A"
          ]
        },
        {
          "output_type": "stream",
          "name": "stdout",
          "text": [
            "dict_keys(['input_ids', 'mask', 'labels'])\n"
          ]
        },
        {
          "output_type": "stream",
          "name": "stderr",
          "text": [
            "\n",
            "Epoch 0:  38%|███▊      | 44/117 [00:53<01:24,  1.15s/it, loss=4.08]\u001b[A\n",
            "Epoch 0:  38%|███▊      | 44/117 [00:53<01:24,  1.15s/it, loss=4.36]\u001b[A\n",
            "Epoch 0:  38%|███▊      | 45/117 [00:53<01:22,  1.15s/it, loss=4.36]\u001b[A"
          ]
        },
        {
          "output_type": "stream",
          "name": "stdout",
          "text": [
            "dict_keys(['input_ids', 'mask', 'labels'])\n"
          ]
        },
        {
          "output_type": "stream",
          "name": "stderr",
          "text": [
            "\n",
            "Epoch 0:  38%|███▊      | 45/117 [00:54<01:22,  1.15s/it, loss=4.36]\u001b[A\n",
            "Epoch 0:  38%|███▊      | 45/117 [00:54<01:22,  1.15s/it, loss=4.05]\u001b[A\n",
            "Epoch 0:  39%|███▉      | 46/117 [00:54<01:21,  1.15s/it, loss=4.05]\u001b[A"
          ]
        },
        {
          "output_type": "stream",
          "name": "stdout",
          "text": [
            "dict_keys(['input_ids', 'mask', 'labels'])\n"
          ]
        },
        {
          "output_type": "stream",
          "name": "stderr",
          "text": [
            "\n",
            "Epoch 0:  39%|███▉      | 46/117 [00:55<01:21,  1.15s/it, loss=4.05]\u001b[A\n",
            "Epoch 0:  39%|███▉      | 46/117 [00:55<01:21,  1.15s/it, loss=4.04]\u001b[A\n",
            "Epoch 0:  40%|████      | 47/117 [00:55<01:20,  1.14s/it, loss=4.04]\u001b[A"
          ]
        },
        {
          "output_type": "stream",
          "name": "stdout",
          "text": [
            "dict_keys(['input_ids', 'mask', 'labels'])\n"
          ]
        },
        {
          "output_type": "stream",
          "name": "stderr",
          "text": [
            "\n",
            "Epoch 0:  40%|████      | 47/117 [00:57<01:20,  1.14s/it, loss=4.04]\u001b[A\n",
            "Epoch 0:  40%|████      | 47/117 [00:57<01:20,  1.14s/it, loss=3.77]\u001b[A\n",
            "Epoch 0:  41%|████      | 48/117 [00:57<01:18,  1.14s/it, loss=3.77]\u001b[A"
          ]
        },
        {
          "output_type": "stream",
          "name": "stdout",
          "text": [
            "dict_keys(['input_ids', 'mask', 'labels'])\n"
          ]
        },
        {
          "output_type": "stream",
          "name": "stderr",
          "text": [
            "\n",
            "Epoch 0:  41%|████      | 48/117 [00:58<01:18,  1.14s/it, loss=3.77]\u001b[A\n",
            "Epoch 0:  41%|████      | 48/117 [00:58<01:18,  1.14s/it, loss=3.44]\u001b[A\n",
            "Epoch 0:  42%|████▏     | 49/117 [00:58<01:17,  1.15s/it, loss=3.44]\u001b[A"
          ]
        },
        {
          "output_type": "stream",
          "name": "stdout",
          "text": [
            "dict_keys(['input_ids', 'mask', 'labels'])\n"
          ]
        },
        {
          "output_type": "stream",
          "name": "stderr",
          "text": [
            "\n",
            "Epoch 0:  42%|████▏     | 49/117 [00:59<01:17,  1.15s/it, loss=3.44]\u001b[A\n",
            "Epoch 0:  42%|████▏     | 49/117 [00:59<01:17,  1.15s/it, loss=3.66]\u001b[A\n",
            "Epoch 0:  43%|████▎     | 50/117 [00:59<01:16,  1.14s/it, loss=3.66]\u001b[A"
          ]
        },
        {
          "output_type": "stream",
          "name": "stdout",
          "text": [
            "dict_keys(['input_ids', 'mask', 'labels'])\n"
          ]
        },
        {
          "output_type": "stream",
          "name": "stderr",
          "text": [
            "\n",
            "Epoch 0:  43%|████▎     | 50/117 [01:00<01:16,  1.14s/it, loss=3.66]\u001b[A\n",
            "Epoch 0:  43%|████▎     | 50/117 [01:00<01:16,  1.14s/it, loss=3.2] \u001b[A\n",
            "Epoch 0:  44%|████▎     | 51/117 [01:00<01:15,  1.14s/it, loss=3.2]\u001b[A"
          ]
        },
        {
          "output_type": "stream",
          "name": "stdout",
          "text": [
            "dict_keys(['input_ids', 'mask', 'labels'])\n"
          ]
        },
        {
          "output_type": "stream",
          "name": "stderr",
          "text": [
            "\n",
            "Epoch 0:  44%|████▎     | 51/117 [01:01<01:15,  1.14s/it, loss=3.2]\u001b[A\n",
            "Epoch 0:  44%|████▎     | 51/117 [01:01<01:15,  1.14s/it, loss=3.4]\u001b[A\n",
            "Epoch 0:  44%|████▍     | 52/117 [01:01<01:14,  1.14s/it, loss=3.4]\u001b[A"
          ]
        },
        {
          "output_type": "stream",
          "name": "stdout",
          "text": [
            "dict_keys(['input_ids', 'mask', 'labels'])\n"
          ]
        },
        {
          "output_type": "stream",
          "name": "stderr",
          "text": [
            "\n",
            "Epoch 0:  44%|████▍     | 52/117 [01:02<01:14,  1.14s/it, loss=3.4]\u001b[A\n",
            "Epoch 0:  44%|████▍     | 52/117 [01:02<01:14,  1.14s/it, loss=3.38]\u001b[A\n",
            "Epoch 0:  45%|████▌     | 53/117 [01:02<01:13,  1.14s/it, loss=3.38]\u001b[A"
          ]
        },
        {
          "output_type": "stream",
          "name": "stdout",
          "text": [
            "dict_keys(['input_ids', 'mask', 'labels'])\n"
          ]
        },
        {
          "output_type": "stream",
          "name": "stderr",
          "text": [
            "\n",
            "Epoch 0:  45%|████▌     | 53/117 [01:03<01:13,  1.14s/it, loss=3.38]\u001b[A\n",
            "Epoch 0:  45%|████▌     | 53/117 [01:03<01:13,  1.14s/it, loss=3.2] \u001b[A\n",
            "Epoch 0:  46%|████▌     | 54/117 [01:03<01:12,  1.14s/it, loss=3.2]\u001b[A"
          ]
        },
        {
          "output_type": "stream",
          "name": "stdout",
          "text": [
            "dict_keys(['input_ids', 'mask', 'labels'])\n"
          ]
        },
        {
          "output_type": "stream",
          "name": "stderr",
          "text": [
            "\n",
            "Epoch 0:  46%|████▌     | 54/117 [01:05<01:12,  1.14s/it, loss=3.2]\u001b[A\n",
            "Epoch 0:  46%|████▌     | 54/117 [01:05<01:12,  1.14s/it, loss=3.11]\u001b[A\n",
            "Epoch 0:  47%|████▋     | 55/117 [01:05<01:10,  1.15s/it, loss=3.11]\u001b[A"
          ]
        },
        {
          "output_type": "stream",
          "name": "stdout",
          "text": [
            "dict_keys(['input_ids', 'mask', 'labels'])\n"
          ]
        },
        {
          "output_type": "stream",
          "name": "stderr",
          "text": [
            "\n",
            "Epoch 0:  47%|████▋     | 55/117 [01:06<01:10,  1.15s/it, loss=3.11]\u001b[A\n",
            "Epoch 0:  47%|████▋     | 55/117 [01:06<01:10,  1.15s/it, loss=2.74]\u001b[A\n",
            "Epoch 0:  48%|████▊     | 56/117 [01:06<01:09,  1.15s/it, loss=2.74]\u001b[A"
          ]
        },
        {
          "output_type": "stream",
          "name": "stdout",
          "text": [
            "dict_keys(['input_ids', 'mask', 'labels'])\n"
          ]
        },
        {
          "output_type": "stream",
          "name": "stderr",
          "text": [
            "\n",
            "Epoch 0:  48%|████▊     | 56/117 [01:07<01:09,  1.15s/it, loss=2.74]\u001b[A\n",
            "Epoch 0:  48%|████▊     | 56/117 [01:07<01:09,  1.15s/it, loss=2.83]\u001b[A\n",
            "Epoch 0:  49%|████▊     | 57/117 [01:07<01:08,  1.15s/it, loss=2.83]\u001b[A"
          ]
        },
        {
          "output_type": "stream",
          "name": "stdout",
          "text": [
            "dict_keys(['input_ids', 'mask', 'labels'])\n"
          ]
        },
        {
          "output_type": "stream",
          "name": "stderr",
          "text": [
            "\n",
            "Epoch 0:  49%|████▊     | 57/117 [01:08<01:08,  1.15s/it, loss=2.83]\u001b[A\n",
            "Epoch 0:  49%|████▊     | 57/117 [01:08<01:08,  1.15s/it, loss=2.6] \u001b[A\n",
            "Epoch 0:  50%|████▉     | 58/117 [01:08<01:07,  1.15s/it, loss=2.6]\u001b[A"
          ]
        },
        {
          "output_type": "stream",
          "name": "stdout",
          "text": [
            "dict_keys(['input_ids', 'mask', 'labels'])\n"
          ]
        },
        {
          "output_type": "stream",
          "name": "stderr",
          "text": [
            "\n",
            "Epoch 0:  50%|████▉     | 58/117 [01:09<01:07,  1.15s/it, loss=2.6]\u001b[A\n",
            "Epoch 0:  50%|████▉     | 58/117 [01:09<01:07,  1.15s/it, loss=2.77]\u001b[A\n",
            "Epoch 0:  50%|█████     | 59/117 [01:09<01:06,  1.15s/it, loss=2.77]\u001b[A"
          ]
        },
        {
          "output_type": "stream",
          "name": "stdout",
          "text": [
            "dict_keys(['input_ids', 'mask', 'labels'])\n"
          ]
        },
        {
          "output_type": "stream",
          "name": "stderr",
          "text": [
            "\n",
            "Epoch 0:  50%|█████     | 59/117 [01:10<01:06,  1.15s/it, loss=2.77]\u001b[A\n",
            "Epoch 0:  50%|█████     | 59/117 [01:10<01:06,  1.15s/it, loss=2.55]\u001b[A\n",
            "Epoch 0:  51%|█████▏    | 60/117 [01:10<01:05,  1.15s/it, loss=2.55]\u001b[A"
          ]
        },
        {
          "output_type": "stream",
          "name": "stdout",
          "text": [
            "dict_keys(['input_ids', 'mask', 'labels'])\n"
          ]
        },
        {
          "output_type": "stream",
          "name": "stderr",
          "text": [
            "\n",
            "Epoch 0:  51%|█████▏    | 60/117 [01:11<01:05,  1.15s/it, loss=2.55]\u001b[A\n",
            "Epoch 0:  51%|█████▏    | 60/117 [01:11<01:05,  1.15s/it, loss=2.43]\u001b[A\n",
            "Epoch 0:  52%|█████▏    | 61/117 [01:11<01:04,  1.15s/it, loss=2.43]\u001b[A"
          ]
        },
        {
          "output_type": "stream",
          "name": "stdout",
          "text": [
            "dict_keys(['input_ids', 'mask', 'labels'])\n"
          ]
        },
        {
          "output_type": "stream",
          "name": "stderr",
          "text": [
            "\n",
            "Epoch 0:  52%|█████▏    | 61/117 [01:13<01:04,  1.15s/it, loss=2.43]\u001b[A\n",
            "Epoch 0:  52%|█████▏    | 61/117 [01:13<01:04,  1.15s/it, loss=2.4] \u001b[A\n",
            "Epoch 0:  53%|█████▎    | 62/117 [01:13<01:03,  1.15s/it, loss=2.4]\u001b[A"
          ]
        },
        {
          "output_type": "stream",
          "name": "stdout",
          "text": [
            "dict_keys(['input_ids', 'mask', 'labels'])\n"
          ]
        },
        {
          "output_type": "stream",
          "name": "stderr",
          "text": [
            "\n",
            "Epoch 0:  53%|█████▎    | 62/117 [01:14<01:03,  1.15s/it, loss=2.4]\u001b[A\n",
            "Epoch 0:  53%|█████▎    | 62/117 [01:14<01:03,  1.15s/it, loss=2.22]\u001b[A\n",
            "Epoch 0:  54%|█████▍    | 63/117 [01:14<01:02,  1.15s/it, loss=2.22]\u001b[A"
          ]
        },
        {
          "output_type": "stream",
          "name": "stdout",
          "text": [
            "dict_keys(['input_ids', 'mask', 'labels'])\n"
          ]
        },
        {
          "output_type": "stream",
          "name": "stderr",
          "text": [
            "\n",
            "Epoch 0:  54%|█████▍    | 63/117 [01:15<01:02,  1.15s/it, loss=2.22]\u001b[A\n",
            "Epoch 0:  54%|█████▍    | 63/117 [01:15<01:02,  1.15s/it, loss=2.36]\u001b[A\n",
            "Epoch 0:  55%|█████▍    | 64/117 [01:15<01:01,  1.15s/it, loss=2.36]\u001b[A"
          ]
        },
        {
          "output_type": "stream",
          "name": "stdout",
          "text": [
            "dict_keys(['input_ids', 'mask', 'labels'])\n"
          ]
        },
        {
          "output_type": "stream",
          "name": "stderr",
          "text": [
            "\n",
            "Epoch 0:  55%|█████▍    | 64/117 [01:16<01:01,  1.15s/it, loss=2.36]\u001b[A\n",
            "Epoch 0:  55%|█████▍    | 64/117 [01:16<01:01,  1.15s/it, loss=2.25]\u001b[A\n",
            "Epoch 0:  56%|█████▌    | 65/117 [01:16<01:00,  1.15s/it, loss=2.25]\u001b[A"
          ]
        },
        {
          "output_type": "stream",
          "name": "stdout",
          "text": [
            "dict_keys(['input_ids', 'mask', 'labels'])\n"
          ]
        },
        {
          "output_type": "stream",
          "name": "stderr",
          "text": [
            "\n",
            "Epoch 0:  56%|█████▌    | 65/117 [01:17<01:00,  1.15s/it, loss=2.25]\u001b[A\n",
            "Epoch 0:  56%|█████▌    | 65/117 [01:17<01:00,  1.15s/it, loss=2.05]\u001b[A\n",
            "Epoch 0:  56%|█████▋    | 66/117 [01:17<00:58,  1.16s/it, loss=2.05]\u001b[A"
          ]
        },
        {
          "output_type": "stream",
          "name": "stdout",
          "text": [
            "dict_keys(['input_ids', 'mask', 'labels'])\n"
          ]
        },
        {
          "output_type": "stream",
          "name": "stderr",
          "text": [
            "\n",
            "Epoch 0:  56%|█████▋    | 66/117 [01:18<00:58,  1.16s/it, loss=2.05]\u001b[A\n",
            "Epoch 0:  56%|█████▋    | 66/117 [01:18<00:58,  1.16s/it, loss=2.07]\u001b[A\n",
            "Epoch 0:  57%|█████▋    | 67/117 [01:18<00:57,  1.16s/it, loss=2.07]\u001b[A"
          ]
        },
        {
          "output_type": "stream",
          "name": "stdout",
          "text": [
            "dict_keys(['input_ids', 'mask', 'labels'])\n"
          ]
        },
        {
          "output_type": "stream",
          "name": "stderr",
          "text": [
            "\n",
            "Epoch 0:  57%|█████▋    | 67/117 [01:20<00:57,  1.16s/it, loss=2.07]\u001b[A\n",
            "Epoch 0:  57%|█████▋    | 67/117 [01:20<00:57,  1.16s/it, loss=1.92]\u001b[A\n",
            "Epoch 0:  58%|█████▊    | 68/117 [01:20<00:56,  1.16s/it, loss=1.92]\u001b[A"
          ]
        },
        {
          "output_type": "stream",
          "name": "stdout",
          "text": [
            "dict_keys(['input_ids', 'mask', 'labels'])\n"
          ]
        },
        {
          "output_type": "stream",
          "name": "stderr",
          "text": [
            "\n",
            "Epoch 0:  58%|█████▊    | 68/117 [01:21<00:56,  1.16s/it, loss=1.92]\u001b[A\n",
            "Epoch 0:  58%|█████▊    | 68/117 [01:21<00:56,  1.16s/it, loss=1.89]\u001b[A\n",
            "Epoch 0:  59%|█████▉    | 69/117 [01:21<00:55,  1.16s/it, loss=1.89]\u001b[A"
          ]
        },
        {
          "output_type": "stream",
          "name": "stdout",
          "text": [
            "dict_keys(['input_ids', 'mask', 'labels'])\n"
          ]
        },
        {
          "output_type": "stream",
          "name": "stderr",
          "text": [
            "\n",
            "Epoch 0:  59%|█████▉    | 69/117 [01:22<00:55,  1.16s/it, loss=1.89]\u001b[A\n",
            "Epoch 0:  59%|█████▉    | 69/117 [01:22<00:55,  1.16s/it, loss=1.81]\u001b[A\n",
            "Epoch 0:  60%|█████▉    | 70/117 [01:22<00:54,  1.16s/it, loss=1.81]\u001b[A"
          ]
        },
        {
          "output_type": "stream",
          "name": "stdout",
          "text": [
            "dict_keys(['input_ids', 'mask', 'labels'])\n"
          ]
        },
        {
          "output_type": "stream",
          "name": "stderr",
          "text": [
            "\n",
            "Epoch 0:  60%|█████▉    | 70/117 [01:23<00:54,  1.16s/it, loss=1.81]\u001b[A\n",
            "Epoch 0:  60%|█████▉    | 70/117 [01:23<00:54,  1.16s/it, loss=1.63]\u001b[A\n",
            "Epoch 0:  61%|██████    | 71/117 [01:23<00:53,  1.16s/it, loss=1.63]\u001b[A"
          ]
        },
        {
          "output_type": "stream",
          "name": "stdout",
          "text": [
            "dict_keys(['input_ids', 'mask', 'labels'])\n"
          ]
        },
        {
          "output_type": "stream",
          "name": "stderr",
          "text": [
            "\n",
            "Epoch 0:  61%|██████    | 71/117 [01:24<00:53,  1.16s/it, loss=1.63]\u001b[A\n",
            "Epoch 0:  61%|██████    | 71/117 [01:24<00:53,  1.16s/it, loss=1.59]\u001b[A\n",
            "Epoch 0:  62%|██████▏   | 72/117 [01:24<00:52,  1.17s/it, loss=1.59]\u001b[A"
          ]
        },
        {
          "output_type": "stream",
          "name": "stdout",
          "text": [
            "dict_keys(['input_ids', 'mask', 'labels'])\n"
          ]
        },
        {
          "output_type": "stream",
          "name": "stderr",
          "text": [
            "\n",
            "Epoch 0:  62%|██████▏   | 72/117 [01:25<00:52,  1.17s/it, loss=1.59]\u001b[A\n",
            "Epoch 0:  62%|██████▏   | 72/117 [01:25<00:52,  1.17s/it, loss=1.46]\u001b[A\n",
            "Epoch 0:  62%|██████▏   | 73/117 [01:25<00:51,  1.17s/it, loss=1.46]\u001b[A"
          ]
        },
        {
          "output_type": "stream",
          "name": "stdout",
          "text": [
            "dict_keys(['input_ids', 'mask', 'labels'])\n"
          ]
        },
        {
          "output_type": "stream",
          "name": "stderr",
          "text": [
            "\n",
            "Epoch 0:  62%|██████▏   | 73/117 [01:27<00:51,  1.17s/it, loss=1.46]\u001b[A\n",
            "Epoch 0:  62%|██████▏   | 73/117 [01:27<00:51,  1.17s/it, loss=1.41]\u001b[A\n",
            "Epoch 0:  63%|██████▎   | 74/117 [01:27<00:50,  1.17s/it, loss=1.41]\u001b[A"
          ]
        },
        {
          "output_type": "stream",
          "name": "stdout",
          "text": [
            "dict_keys(['input_ids', 'mask', 'labels'])\n"
          ]
        },
        {
          "output_type": "stream",
          "name": "stderr",
          "text": [
            "\n",
            "Epoch 0:  63%|██████▎   | 74/117 [01:28<00:50,  1.17s/it, loss=1.41]\u001b[A\n",
            "Epoch 0:  63%|██████▎   | 74/117 [01:28<00:50,  1.17s/it, loss=1.33]\u001b[A\n",
            "Epoch 0:  64%|██████▍   | 75/117 [01:28<00:49,  1.17s/it, loss=1.33]\u001b[A"
          ]
        },
        {
          "output_type": "stream",
          "name": "stdout",
          "text": [
            "dict_keys(['input_ids', 'mask', 'labels'])\n"
          ]
        },
        {
          "output_type": "stream",
          "name": "stderr",
          "text": [
            "\n",
            "Epoch 0:  64%|██████▍   | 75/117 [01:29<00:49,  1.17s/it, loss=1.33]\u001b[A\n",
            "Epoch 0:  64%|██████▍   | 75/117 [01:29<00:49,  1.17s/it, loss=1.28]\u001b[A\n",
            "Epoch 0:  65%|██████▍   | 76/117 [01:29<00:48,  1.17s/it, loss=1.28]\u001b[A"
          ]
        },
        {
          "output_type": "stream",
          "name": "stdout",
          "text": [
            "dict_keys(['input_ids', 'mask', 'labels'])\n"
          ]
        },
        {
          "output_type": "stream",
          "name": "stderr",
          "text": [
            "\n",
            "Epoch 0:  65%|██████▍   | 76/117 [01:30<00:48,  1.17s/it, loss=1.28]\u001b[A\n",
            "Epoch 0:  65%|██████▍   | 76/117 [01:30<00:48,  1.17s/it, loss=1.19]\u001b[A\n",
            "Epoch 0:  66%|██████▌   | 77/117 [01:30<00:46,  1.17s/it, loss=1.19]\u001b[A"
          ]
        },
        {
          "output_type": "stream",
          "name": "stdout",
          "text": [
            "dict_keys(['input_ids', 'mask', 'labels'])\n"
          ]
        },
        {
          "output_type": "stream",
          "name": "stderr",
          "text": [
            "\n",
            "Epoch 0:  66%|██████▌   | 77/117 [01:31<00:46,  1.17s/it, loss=1.19]\u001b[A\n",
            "Epoch 0:  66%|██████▌   | 77/117 [01:31<00:46,  1.17s/it, loss=1.2] \u001b[A\n",
            "Epoch 0:  67%|██████▋   | 78/117 [01:31<00:45,  1.17s/it, loss=1.2]\u001b[A"
          ]
        },
        {
          "output_type": "stream",
          "name": "stdout",
          "text": [
            "dict_keys(['input_ids', 'mask', 'labels'])\n"
          ]
        },
        {
          "output_type": "stream",
          "name": "stderr",
          "text": [
            "\n",
            "Epoch 0:  67%|██████▋   | 78/117 [01:32<00:45,  1.17s/it, loss=1.2]\u001b[A\n",
            "Epoch 0:  67%|██████▋   | 78/117 [01:32<00:45,  1.17s/it, loss=1.08]\u001b[A\n",
            "Epoch 0:  68%|██████▊   | 79/117 [01:32<00:44,  1.17s/it, loss=1.08]\u001b[A"
          ]
        },
        {
          "output_type": "stream",
          "name": "stdout",
          "text": [
            "dict_keys(['input_ids', 'mask', 'labels'])\n"
          ]
        },
        {
          "output_type": "stream",
          "name": "stderr",
          "text": [
            "\n",
            "Epoch 0:  68%|██████▊   | 79/117 [01:34<00:44,  1.17s/it, loss=1.08]\u001b[A\n",
            "Epoch 0:  68%|██████▊   | 79/117 [01:34<00:44,  1.17s/it, loss=1.04]\u001b[A\n",
            "Epoch 0:  68%|██████▊   | 80/117 [01:34<00:43,  1.17s/it, loss=1.04]\u001b[A"
          ]
        },
        {
          "output_type": "stream",
          "name": "stdout",
          "text": [
            "dict_keys(['input_ids', 'mask', 'labels'])\n"
          ]
        },
        {
          "output_type": "stream",
          "name": "stderr",
          "text": [
            "\n",
            "Epoch 0:  68%|██████▊   | 80/117 [01:35<00:43,  1.17s/it, loss=1.04]\u001b[A\n",
            "Epoch 0:  68%|██████▊   | 80/117 [01:35<00:43,  1.17s/it, loss=0.946]\u001b[A\n",
            "Epoch 0:  69%|██████▉   | 81/117 [01:35<00:42,  1.18s/it, loss=0.946]\u001b[A"
          ]
        },
        {
          "output_type": "stream",
          "name": "stdout",
          "text": [
            "dict_keys(['input_ids', 'mask', 'labels'])\n"
          ]
        },
        {
          "output_type": "stream",
          "name": "stderr",
          "text": [
            "\n",
            "Epoch 0:  69%|██████▉   | 81/117 [01:36<00:42,  1.18s/it, loss=0.946]\u001b[A\n",
            "Epoch 0:  69%|██████▉   | 81/117 [01:36<00:42,  1.18s/it, loss=0.875]\u001b[A\n",
            "Epoch 0:  70%|███████   | 82/117 [01:36<00:41,  1.18s/it, loss=0.875]\u001b[A"
          ]
        },
        {
          "output_type": "stream",
          "name": "stdout",
          "text": [
            "dict_keys(['input_ids', 'mask', 'labels'])\n"
          ]
        },
        {
          "output_type": "stream",
          "name": "stderr",
          "text": [
            "\n",
            "Epoch 0:  70%|███████   | 82/117 [01:37<00:41,  1.18s/it, loss=0.875]\u001b[A\n",
            "Epoch 0:  70%|███████   | 82/117 [01:37<00:41,  1.18s/it, loss=0.851]\u001b[A\n",
            "Epoch 0:  71%|███████   | 83/117 [01:37<00:40,  1.18s/it, loss=0.851]\u001b[A"
          ]
        },
        {
          "output_type": "stream",
          "name": "stdout",
          "text": [
            "dict_keys(['input_ids', 'mask', 'labels'])\n"
          ]
        },
        {
          "output_type": "stream",
          "name": "stderr",
          "text": [
            "\n",
            "Epoch 0:  71%|███████   | 83/117 [01:38<00:40,  1.18s/it, loss=0.851]\u001b[A\n",
            "Epoch 0:  71%|███████   | 83/117 [01:38<00:40,  1.18s/it, loss=0.788]\u001b[A\n",
            "Epoch 0:  72%|███████▏  | 84/117 [01:38<00:38,  1.18s/it, loss=0.788]\u001b[A"
          ]
        },
        {
          "output_type": "stream",
          "name": "stdout",
          "text": [
            "dict_keys(['input_ids', 'mask', 'labels'])\n"
          ]
        },
        {
          "output_type": "stream",
          "name": "stderr",
          "text": [
            "\n",
            "Epoch 0:  72%|███████▏  | 84/117 [01:40<00:38,  1.18s/it, loss=0.788]\u001b[A\n",
            "Epoch 0:  72%|███████▏  | 84/117 [01:40<00:38,  1.18s/it, loss=0.75] \u001b[A\n",
            "Epoch 0:  73%|███████▎  | 85/117 [01:40<00:37,  1.18s/it, loss=0.75]\u001b[A"
          ]
        },
        {
          "output_type": "stream",
          "name": "stdout",
          "text": [
            "dict_keys(['input_ids', 'mask', 'labels'])\n"
          ]
        },
        {
          "output_type": "stream",
          "name": "stderr",
          "text": [
            "\n",
            "Epoch 0:  73%|███████▎  | 85/117 [01:41<00:37,  1.18s/it, loss=0.75]\u001b[A\n",
            "Epoch 0:  73%|███████▎  | 85/117 [01:41<00:37,  1.18s/it, loss=0.736]\u001b[A\n",
            "Epoch 0:  74%|███████▎  | 86/117 [01:41<00:36,  1.18s/it, loss=0.736]\u001b[A"
          ]
        },
        {
          "output_type": "stream",
          "name": "stdout",
          "text": [
            "dict_keys(['input_ids', 'mask', 'labels'])\n"
          ]
        },
        {
          "output_type": "stream",
          "name": "stderr",
          "text": [
            "\n",
            "Epoch 0:  74%|███████▎  | 86/117 [01:42<00:36,  1.18s/it, loss=0.736]\u001b[A\n",
            "Epoch 0:  74%|███████▎  | 86/117 [01:42<00:36,  1.18s/it, loss=0.677]\u001b[A\n",
            "Epoch 0:  74%|███████▍  | 87/117 [01:42<00:35,  1.18s/it, loss=0.677]\u001b[A"
          ]
        },
        {
          "output_type": "stream",
          "name": "stdout",
          "text": [
            "dict_keys(['input_ids', 'mask', 'labels'])\n"
          ]
        },
        {
          "output_type": "stream",
          "name": "stderr",
          "text": [
            "\n",
            "Epoch 0:  74%|███████▍  | 87/117 [01:43<00:35,  1.18s/it, loss=0.677]\u001b[A\n",
            "Epoch 0:  74%|███████▍  | 87/117 [01:43<00:35,  1.18s/it, loss=0.662]\u001b[A\n",
            "Epoch 0:  75%|███████▌  | 88/117 [01:43<00:34,  1.18s/it, loss=0.662]\u001b[A"
          ]
        },
        {
          "output_type": "stream",
          "name": "stdout",
          "text": [
            "dict_keys(['input_ids', 'mask', 'labels'])\n"
          ]
        },
        {
          "output_type": "stream",
          "name": "stderr",
          "text": [
            "\n",
            "Epoch 0:  75%|███████▌  | 88/117 [01:44<00:34,  1.18s/it, loss=0.662]\u001b[A\n",
            "Epoch 0:  75%|███████▌  | 88/117 [01:44<00:34,  1.18s/it, loss=0.605]\u001b[A\n",
            "Epoch 0:  76%|███████▌  | 89/117 [01:44<00:33,  1.18s/it, loss=0.605]\u001b[A"
          ]
        },
        {
          "output_type": "stream",
          "name": "stdout",
          "text": [
            "dict_keys(['input_ids', 'mask', 'labels'])\n"
          ]
        },
        {
          "output_type": "stream",
          "name": "stderr",
          "text": [
            "\n",
            "Epoch 0:  76%|███████▌  | 89/117 [01:45<00:33,  1.18s/it, loss=0.605]\u001b[A\n",
            "Epoch 0:  76%|███████▌  | 89/117 [01:45<00:33,  1.18s/it, loss=0.583]\u001b[A\n",
            "Epoch 0:  77%|███████▋  | 90/117 [01:45<00:32,  1.19s/it, loss=0.583]\u001b[A"
          ]
        },
        {
          "output_type": "stream",
          "name": "stdout",
          "text": [
            "dict_keys(['input_ids', 'mask', 'labels'])\n"
          ]
        },
        {
          "output_type": "stream",
          "name": "stderr",
          "text": [
            "\n",
            "Epoch 0:  77%|███████▋  | 90/117 [01:47<00:32,  1.19s/it, loss=0.583]\u001b[A\n",
            "Epoch 0:  77%|███████▋  | 90/117 [01:47<00:32,  1.19s/it, loss=0.546]\u001b[A\n",
            "Epoch 0:  78%|███████▊  | 91/117 [01:47<00:30,  1.18s/it, loss=0.546]\u001b[A"
          ]
        },
        {
          "output_type": "stream",
          "name": "stdout",
          "text": [
            "dict_keys(['input_ids', 'mask', 'labels'])\n"
          ]
        },
        {
          "output_type": "stream",
          "name": "stderr",
          "text": [
            "\n",
            "Epoch 0:  78%|███████▊  | 91/117 [01:48<00:30,  1.18s/it, loss=0.546]\u001b[A\n",
            "Epoch 0:  78%|███████▊  | 91/117 [01:48<00:30,  1.18s/it, loss=0.533]\u001b[A\n",
            "Epoch 0:  79%|███████▊  | 92/117 [01:48<00:29,  1.18s/it, loss=0.533]\u001b[A"
          ]
        },
        {
          "output_type": "stream",
          "name": "stdout",
          "text": [
            "dict_keys(['input_ids', 'mask', 'labels'])\n"
          ]
        },
        {
          "output_type": "stream",
          "name": "stderr",
          "text": [
            "\n",
            "Epoch 0:  79%|███████▊  | 92/117 [01:49<00:29,  1.18s/it, loss=0.533]\u001b[A\n",
            "Epoch 0:  79%|███████▊  | 92/117 [01:49<00:29,  1.18s/it, loss=0.499]\u001b[A\n",
            "Epoch 0:  79%|███████▉  | 93/117 [01:49<00:28,  1.18s/it, loss=0.499]\u001b[A"
          ]
        },
        {
          "output_type": "stream",
          "name": "stdout",
          "text": [
            "dict_keys(['input_ids', 'mask', 'labels'])\n"
          ]
        },
        {
          "output_type": "stream",
          "name": "stderr",
          "text": [
            "\n",
            "Epoch 0:  79%|███████▉  | 93/117 [01:50<00:28,  1.18s/it, loss=0.499]\u001b[A\n",
            "Epoch 0:  79%|███████▉  | 93/117 [01:50<00:28,  1.18s/it, loss=0.5]  \u001b[A\n",
            "Epoch 0:  80%|████████  | 94/117 [01:50<00:27,  1.18s/it, loss=0.5]\u001b[A"
          ]
        },
        {
          "output_type": "stream",
          "name": "stdout",
          "text": [
            "dict_keys(['input_ids', 'mask', 'labels'])\n"
          ]
        },
        {
          "output_type": "stream",
          "name": "stderr",
          "text": [
            "\n",
            "Epoch 0:  80%|████████  | 94/117 [01:51<00:27,  1.18s/it, loss=0.5]\u001b[A\n",
            "Epoch 0:  80%|████████  | 94/117 [01:51<00:27,  1.18s/it, loss=0.446]\u001b[A\n",
            "Epoch 0:  81%|████████  | 95/117 [01:51<00:25,  1.18s/it, loss=0.446]\u001b[A"
          ]
        },
        {
          "output_type": "stream",
          "name": "stdout",
          "text": [
            "dict_keys(['input_ids', 'mask', 'labels'])\n"
          ]
        },
        {
          "output_type": "stream",
          "name": "stderr",
          "text": [
            "\n",
            "Epoch 0:  81%|████████  | 95/117 [01:53<00:25,  1.18s/it, loss=0.446]\u001b[A\n",
            "Epoch 0:  81%|████████  | 95/117 [01:53<00:25,  1.18s/it, loss=0.464]\u001b[A\n",
            "Epoch 0:  82%|████████▏ | 96/117 [01:53<00:24,  1.18s/it, loss=0.464]\u001b[A"
          ]
        },
        {
          "output_type": "stream",
          "name": "stdout",
          "text": [
            "dict_keys(['input_ids', 'mask', 'labels'])\n"
          ]
        },
        {
          "output_type": "stream",
          "name": "stderr",
          "text": [
            "\n",
            "Epoch 0:  82%|████████▏ | 96/117 [01:54<00:24,  1.18s/it, loss=0.464]\u001b[A\n",
            "Epoch 0:  82%|████████▏ | 96/117 [01:54<00:24,  1.18s/it, loss=0.417]\u001b[A\n",
            "Epoch 0:  83%|████████▎ | 97/117 [01:54<00:23,  1.18s/it, loss=0.417]\u001b[A"
          ]
        },
        {
          "output_type": "stream",
          "name": "stdout",
          "text": [
            "dict_keys(['input_ids', 'mask', 'labels'])\n"
          ]
        },
        {
          "output_type": "stream",
          "name": "stderr",
          "text": [
            "\n",
            "Epoch 0:  83%|████████▎ | 97/117 [01:55<00:23,  1.18s/it, loss=0.417]\u001b[A\n",
            "Epoch 0:  83%|████████▎ | 97/117 [01:55<00:23,  1.18s/it, loss=0.444]\u001b[A\n",
            "Epoch 0:  84%|████████▍ | 98/117 [01:55<00:22,  1.18s/it, loss=0.444]\u001b[A"
          ]
        },
        {
          "output_type": "stream",
          "name": "stdout",
          "text": [
            "dict_keys(['input_ids', 'mask', 'labels'])\n"
          ]
        },
        {
          "output_type": "stream",
          "name": "stderr",
          "text": [
            "\n",
            "Epoch 0:  84%|████████▍ | 98/117 [01:56<00:22,  1.18s/it, loss=0.444]\u001b[A\n",
            "Epoch 0:  84%|████████▍ | 98/117 [01:56<00:22,  1.18s/it, loss=0.371]\u001b[A\n",
            "Epoch 0:  85%|████████▍ | 99/117 [01:56<00:21,  1.18s/it, loss=0.371]\u001b[A"
          ]
        },
        {
          "output_type": "stream",
          "name": "stdout",
          "text": [
            "dict_keys(['input_ids', 'mask', 'labels'])\n"
          ]
        },
        {
          "output_type": "stream",
          "name": "stderr",
          "text": [
            "\n",
            "Epoch 0:  85%|████████▍ | 99/117 [01:57<00:21,  1.18s/it, loss=0.371]\u001b[A\n",
            "Epoch 0:  85%|████████▍ | 99/117 [01:57<00:21,  1.18s/it, loss=0.364]\u001b[A\n",
            "Epoch 0:  85%|████████▌ | 100/117 [01:57<00:19,  1.18s/it, loss=0.364]\u001b[A"
          ]
        },
        {
          "output_type": "stream",
          "name": "stdout",
          "text": [
            "dict_keys(['input_ids', 'mask', 'labels'])\n"
          ]
        },
        {
          "output_type": "stream",
          "name": "stderr",
          "text": [
            "\n",
            "Epoch 0:  85%|████████▌ | 100/117 [01:58<00:19,  1.18s/it, loss=0.364]\u001b[A\n",
            "Epoch 0:  85%|████████▌ | 100/117 [01:58<00:19,  1.18s/it, loss=0.371]\u001b[A\n",
            "Epoch 0:  86%|████████▋ | 101/117 [01:58<00:18,  1.18s/it, loss=0.371]\u001b[A"
          ]
        },
        {
          "output_type": "stream",
          "name": "stdout",
          "text": [
            "dict_keys(['input_ids', 'mask', 'labels'])\n"
          ]
        },
        {
          "output_type": "stream",
          "name": "stderr",
          "text": [
            "\n",
            "Epoch 0:  86%|████████▋ | 101/117 [02:00<00:18,  1.18s/it, loss=0.371]\u001b[A\n",
            "Epoch 0:  86%|████████▋ | 101/117 [02:00<00:18,  1.18s/it, loss=0.385]\u001b[A\n",
            "Epoch 0:  87%|████████▋ | 102/117 [02:00<00:17,  1.17s/it, loss=0.385]\u001b[A"
          ]
        },
        {
          "output_type": "stream",
          "name": "stdout",
          "text": [
            "dict_keys(['input_ids', 'mask', 'labels'])\n"
          ]
        },
        {
          "output_type": "stream",
          "name": "stderr",
          "text": [
            "\n",
            "Epoch 0:  87%|████████▋ | 102/117 [02:01<00:17,  1.17s/it, loss=0.385]\u001b[A\n",
            "Epoch 0:  87%|████████▋ | 102/117 [02:01<00:17,  1.17s/it, loss=0.356]\u001b[A\n",
            "Epoch 0:  88%|████████▊ | 103/117 [02:01<00:16,  1.17s/it, loss=0.356]\u001b[A"
          ]
        },
        {
          "output_type": "stream",
          "name": "stdout",
          "text": [
            "dict_keys(['input_ids', 'mask', 'labels'])\n"
          ]
        },
        {
          "output_type": "stream",
          "name": "stderr",
          "text": [
            "\n",
            "Epoch 0:  88%|████████▊ | 103/117 [02:02<00:16,  1.17s/it, loss=0.356]\u001b[A\n",
            "Epoch 0:  88%|████████▊ | 103/117 [02:02<00:16,  1.17s/it, loss=0.333]\u001b[A\n",
            "Epoch 0:  89%|████████▉ | 104/117 [02:02<00:15,  1.17s/it, loss=0.333]\u001b[A"
          ]
        },
        {
          "output_type": "stream",
          "name": "stdout",
          "text": [
            "dict_keys(['input_ids', 'mask', 'labels'])\n"
          ]
        },
        {
          "output_type": "stream",
          "name": "stderr",
          "text": [
            "\n",
            "Epoch 0:  89%|████████▉ | 104/117 [02:03<00:15,  1.17s/it, loss=0.333]\u001b[A\n",
            "Epoch 0:  89%|████████▉ | 104/117 [02:03<00:15,  1.17s/it, loss=0.347]\u001b[A\n",
            "Epoch 0:  90%|████████▉ | 105/117 [02:03<00:14,  1.17s/it, loss=0.347]\u001b[A"
          ]
        },
        {
          "output_type": "stream",
          "name": "stdout",
          "text": [
            "dict_keys(['input_ids', 'mask', 'labels'])\n"
          ]
        },
        {
          "output_type": "stream",
          "name": "stderr",
          "text": [
            "\n",
            "Epoch 0:  90%|████████▉ | 105/117 [02:04<00:14,  1.17s/it, loss=0.347]\u001b[A\n",
            "Epoch 0:  90%|████████▉ | 105/117 [02:04<00:14,  1.17s/it, loss=0.318]\u001b[A\n",
            "Epoch 0:  91%|█████████ | 106/117 [02:04<00:12,  1.17s/it, loss=0.318]\u001b[A"
          ]
        },
        {
          "output_type": "stream",
          "name": "stdout",
          "text": [
            "dict_keys(['input_ids', 'mask', 'labels'])\n"
          ]
        },
        {
          "output_type": "stream",
          "name": "stderr",
          "text": [
            "\n",
            "Epoch 0:  91%|█████████ | 106/117 [02:05<00:12,  1.17s/it, loss=0.318]\u001b[A\n",
            "Epoch 0:  91%|█████████ | 106/117 [02:05<00:12,  1.17s/it, loss=0.325]\u001b[A\n",
            "Epoch 0:  91%|█████████▏| 107/117 [02:05<00:11,  1.17s/it, loss=0.325]\u001b[A"
          ]
        },
        {
          "output_type": "stream",
          "name": "stdout",
          "text": [
            "dict_keys(['input_ids', 'mask', 'labels'])\n"
          ]
        },
        {
          "output_type": "stream",
          "name": "stderr",
          "text": [
            "\n",
            "Epoch 0:  91%|█████████▏| 107/117 [02:07<00:11,  1.17s/it, loss=0.325]\u001b[A\n",
            "Epoch 0:  91%|█████████▏| 107/117 [02:07<00:11,  1.17s/it, loss=0.311]\u001b[A\n",
            "Epoch 0:  92%|█████████▏| 108/117 [02:07<00:10,  1.17s/it, loss=0.311]\u001b[A"
          ]
        },
        {
          "output_type": "stream",
          "name": "stdout",
          "text": [
            "dict_keys(['input_ids', 'mask', 'labels'])\n"
          ]
        },
        {
          "output_type": "stream",
          "name": "stderr",
          "text": [
            "\n",
            "Epoch 0:  92%|█████████▏| 108/117 [02:08<00:10,  1.17s/it, loss=0.311]\u001b[A\n",
            "Epoch 0:  92%|█████████▏| 108/117 [02:08<00:10,  1.17s/it, loss=0.295]\u001b[A\n",
            "Epoch 0:  93%|█████████▎| 109/117 [02:08<00:09,  1.17s/it, loss=0.295]\u001b[A"
          ]
        },
        {
          "output_type": "stream",
          "name": "stdout",
          "text": [
            "dict_keys(['input_ids', 'mask', 'labels'])\n"
          ]
        },
        {
          "output_type": "stream",
          "name": "stderr",
          "text": [
            "\n",
            "Epoch 0:  93%|█████████▎| 109/117 [02:09<00:09,  1.17s/it, loss=0.295]\u001b[A\n",
            "Epoch 0:  93%|█████████▎| 109/117 [02:09<00:09,  1.17s/it, loss=0.328]\u001b[A\n",
            "Epoch 0:  94%|█████████▍| 110/117 [02:09<00:08,  1.17s/it, loss=0.328]\u001b[A"
          ]
        },
        {
          "output_type": "stream",
          "name": "stdout",
          "text": [
            "dict_keys(['input_ids', 'mask', 'labels'])\n"
          ]
        },
        {
          "output_type": "stream",
          "name": "stderr",
          "text": [
            "\n",
            "Epoch 0:  94%|█████████▍| 110/117 [02:10<00:08,  1.17s/it, loss=0.328]\u001b[A\n",
            "Epoch 0:  94%|█████████▍| 110/117 [02:10<00:08,  1.17s/it, loss=0.311]\u001b[A\n",
            "Epoch 0:  95%|█████████▍| 111/117 [02:10<00:06,  1.17s/it, loss=0.311]\u001b[A"
          ]
        },
        {
          "output_type": "stream",
          "name": "stdout",
          "text": [
            "dict_keys(['input_ids', 'mask', 'labels'])\n"
          ]
        },
        {
          "output_type": "stream",
          "name": "stderr",
          "text": [
            "\n",
            "Epoch 0:  95%|█████████▍| 111/117 [02:11<00:06,  1.17s/it, loss=0.311]\u001b[A\n",
            "Epoch 0:  95%|█████████▍| 111/117 [02:11<00:06,  1.17s/it, loss=0.316]\u001b[A\n",
            "Epoch 0:  96%|█████████▌| 112/117 [02:11<00:05,  1.17s/it, loss=0.316]\u001b[A"
          ]
        },
        {
          "output_type": "stream",
          "name": "stdout",
          "text": [
            "dict_keys(['input_ids', 'mask', 'labels'])\n"
          ]
        },
        {
          "output_type": "stream",
          "name": "stderr",
          "text": [
            "\n",
            "Epoch 0:  96%|█████████▌| 112/117 [02:12<00:05,  1.17s/it, loss=0.316]\u001b[A\n",
            "Epoch 0:  96%|█████████▌| 112/117 [02:12<00:05,  1.17s/it, loss=0.288]\u001b[A\n",
            "Epoch 0:  97%|█████████▋| 113/117 [02:12<00:04,  1.16s/it, loss=0.288]\u001b[A"
          ]
        },
        {
          "output_type": "stream",
          "name": "stdout",
          "text": [
            "dict_keys(['input_ids', 'mask', 'labels'])\n"
          ]
        },
        {
          "output_type": "stream",
          "name": "stderr",
          "text": [
            "\n",
            "Epoch 0:  97%|█████████▋| 113/117 [02:14<00:04,  1.16s/it, loss=0.288]\u001b[A\n",
            "Epoch 0:  97%|█████████▋| 113/117 [02:14<00:04,  1.16s/it, loss=0.278]\u001b[A\n",
            "Epoch 0:  97%|█████████▋| 114/117 [02:14<00:03,  1.16s/it, loss=0.278]\u001b[A"
          ]
        },
        {
          "output_type": "stream",
          "name": "stdout",
          "text": [
            "dict_keys(['input_ids', 'mask', 'labels'])\n"
          ]
        },
        {
          "output_type": "stream",
          "name": "stderr",
          "text": [
            "\n",
            "Epoch 0:  97%|█████████▋| 114/117 [02:15<00:03,  1.16s/it, loss=0.278]\u001b[A\n",
            "Epoch 0:  97%|█████████▋| 114/117 [02:15<00:03,  1.16s/it, loss=0.259]\u001b[A\n",
            "Epoch 0:  98%|█████████▊| 115/117 [02:15<00:02,  1.16s/it, loss=0.259]\u001b[A"
          ]
        },
        {
          "output_type": "stream",
          "name": "stdout",
          "text": [
            "dict_keys(['input_ids', 'mask', 'labels'])\n"
          ]
        },
        {
          "output_type": "stream",
          "name": "stderr",
          "text": [
            "\n",
            "Epoch 0:  98%|█████████▊| 115/117 [02:16<00:02,  1.16s/it, loss=0.259]\u001b[A\n",
            "Epoch 0:  98%|█████████▊| 115/117 [02:16<00:02,  1.16s/it, loss=0.306]\u001b[A\n",
            "Epoch 0:  99%|█████████▉| 116/117 [02:16<00:01,  1.16s/it, loss=0.306]\u001b[A"
          ]
        },
        {
          "output_type": "stream",
          "name": "stdout",
          "text": [
            "dict_keys(['input_ids', 'mask', 'labels'])\n"
          ]
        },
        {
          "output_type": "stream",
          "name": "stderr",
          "text": [
            "\n",
            "Epoch 0:  99%|█████████▉| 116/117 [02:17<00:01,  1.16s/it, loss=0.306]\u001b[A\n",
            "Epoch 0:  99%|█████████▉| 116/117 [02:17<00:01,  1.16s/it, loss=0.3]  \u001b[A\n",
            "Epoch 0: 100%|██████████| 117/117 [02:17<00:00,  1.07s/it, loss=0.3]\u001b[A\n",
            "                                                                    \u001b[A"
          ]
        },
        {
          "output_type": "stream",
          "name": "stdout",
          "text": [
            "Epoch 1\n"
          ]
        },
        {
          "output_type": "stream",
          "name": "stderr",
          "text": [
            "\n",
            "  0%|          | 0/117 [00:00<?, ?it/s]\u001b[A"
          ]
        },
        {
          "output_type": "stream",
          "name": "stdout",
          "text": [
            "dict_keys(['input_ids', 'mask', 'labels'])\n"
          ]
        },
        {
          "output_type": "stream",
          "name": "stderr",
          "text": [
            "\n",
            "Epoch 1:   0%|          | 0/117 [00:01<?, ?it/s]\u001b[A\n",
            "Epoch 1:   0%|          | 0/117 [00:01<?, ?it/s, loss=0.275]\u001b[A\n",
            "Epoch 1:   1%|          | 1/117 [00:01<02:11,  1.14s/it, loss=0.275]\u001b[A"
          ]
        },
        {
          "output_type": "stream",
          "name": "stdout",
          "text": [
            "dict_keys(['input_ids', 'mask', 'labels'])\n"
          ]
        },
        {
          "output_type": "stream",
          "name": "stderr",
          "text": [
            "\n",
            "Epoch 1:   1%|          | 1/117 [00:02<02:11,  1.14s/it, loss=0.275]\u001b[A\n",
            "Epoch 1:   1%|          | 1/117 [00:02<02:11,  1.14s/it, loss=0.287]\u001b[A\n",
            "Epoch 1:   2%|▏         | 2/117 [00:02<02:12,  1.15s/it, loss=0.287]\u001b[A"
          ]
        },
        {
          "output_type": "stream",
          "name": "stdout",
          "text": [
            "dict_keys(['input_ids', 'mask', 'labels'])\n"
          ]
        },
        {
          "output_type": "stream",
          "name": "stderr",
          "text": [
            "\n",
            "Epoch 1:   2%|▏         | 2/117 [00:03<02:12,  1.15s/it, loss=0.287]\u001b[A\n",
            "Epoch 1:   2%|▏         | 2/117 [00:03<02:12,  1.15s/it, loss=0.274]\u001b[A\n",
            "Epoch 1:   3%|▎         | 3/117 [00:03<02:11,  1.15s/it, loss=0.274]\u001b[A"
          ]
        },
        {
          "output_type": "stream",
          "name": "stdout",
          "text": [
            "dict_keys(['input_ids', 'mask', 'labels'])\n"
          ]
        },
        {
          "output_type": "stream",
          "name": "stderr",
          "text": [
            "\n",
            "Epoch 1:   3%|▎         | 3/117 [00:04<02:11,  1.15s/it, loss=0.274]\u001b[A\n",
            "Epoch 1:   3%|▎         | 3/117 [00:04<02:11,  1.15s/it, loss=0.284]\u001b[A\n",
            "Epoch 1:   3%|▎         | 4/117 [00:04<02:10,  1.15s/it, loss=0.284]\u001b[A"
          ]
        },
        {
          "output_type": "stream",
          "name": "stdout",
          "text": [
            "dict_keys(['input_ids', 'mask', 'labels'])\n"
          ]
        },
        {
          "output_type": "stream",
          "name": "stderr",
          "text": [
            "\n",
            "Epoch 1:   3%|▎         | 4/117 [00:05<02:10,  1.15s/it, loss=0.284]\u001b[A\n",
            "Epoch 1:   3%|▎         | 4/117 [00:05<02:10,  1.15s/it, loss=0.242]\u001b[A\n",
            "Epoch 1:   4%|▍         | 5/117 [00:05<02:09,  1.16s/it, loss=0.242]\u001b[A"
          ]
        },
        {
          "output_type": "stream",
          "name": "stdout",
          "text": [
            "dict_keys(['input_ids', 'mask', 'labels'])\n"
          ]
        },
        {
          "output_type": "stream",
          "name": "stderr",
          "text": [
            "\n",
            "Epoch 1:   4%|▍         | 5/117 [00:06<02:09,  1.16s/it, loss=0.242]\u001b[A\n",
            "Epoch 1:   4%|▍         | 5/117 [00:06<02:09,  1.16s/it, loss=0.283]\u001b[A\n",
            "Epoch 1:   5%|▌         | 6/117 [00:06<02:08,  1.16s/it, loss=0.283]\u001b[A"
          ]
        },
        {
          "output_type": "stream",
          "name": "stdout",
          "text": [
            "dict_keys(['input_ids', 'mask', 'labels'])\n"
          ]
        },
        {
          "output_type": "stream",
          "name": "stderr",
          "text": [
            "\n",
            "Epoch 1:   5%|▌         | 6/117 [00:08<02:08,  1.16s/it, loss=0.283]\u001b[A\n",
            "Epoch 1:   5%|▌         | 6/117 [00:08<02:08,  1.16s/it, loss=0.226]\u001b[A\n",
            "Epoch 1:   6%|▌         | 7/117 [00:08<02:07,  1.16s/it, loss=0.226]\u001b[A"
          ]
        },
        {
          "output_type": "stream",
          "name": "stdout",
          "text": [
            "dict_keys(['input_ids', 'mask', 'labels'])\n"
          ]
        },
        {
          "output_type": "stream",
          "name": "stderr",
          "text": [
            "\n",
            "Epoch 1:   6%|▌         | 7/117 [00:09<02:07,  1.16s/it, loss=0.226]\u001b[A\n",
            "Epoch 1:   6%|▌         | 7/117 [00:09<02:07,  1.16s/it, loss=0.219]\u001b[A\n",
            "Epoch 1:   7%|▋         | 8/117 [00:09<02:06,  1.16s/it, loss=0.219]\u001b[A"
          ]
        },
        {
          "output_type": "stream",
          "name": "stdout",
          "text": [
            "dict_keys(['input_ids', 'mask', 'labels'])\n"
          ]
        },
        {
          "output_type": "stream",
          "name": "stderr",
          "text": [
            "\n",
            "Epoch 1:   7%|▋         | 8/117 [00:10<02:06,  1.16s/it, loss=0.219]\u001b[A\n",
            "Epoch 1:   7%|▋         | 8/117 [00:10<02:06,  1.16s/it, loss=0.232]\u001b[A\n",
            "Epoch 1:   8%|▊         | 9/117 [00:10<02:04,  1.16s/it, loss=0.232]\u001b[A"
          ]
        },
        {
          "output_type": "stream",
          "name": "stdout",
          "text": [
            "dict_keys(['input_ids', 'mask', 'labels'])\n"
          ]
        },
        {
          "output_type": "stream",
          "name": "stderr",
          "text": [
            "\n",
            "Epoch 1:   8%|▊         | 9/117 [00:11<02:04,  1.16s/it, loss=0.232]\u001b[A\n",
            "Epoch 1:   8%|▊         | 9/117 [00:11<02:04,  1.16s/it, loss=0.268]\u001b[A\n",
            "Epoch 1:   9%|▊         | 10/117 [00:11<02:04,  1.16s/it, loss=0.268]\u001b[A"
          ]
        },
        {
          "output_type": "stream",
          "name": "stdout",
          "text": [
            "dict_keys(['input_ids', 'mask', 'labels'])\n"
          ]
        },
        {
          "output_type": "stream",
          "name": "stderr",
          "text": [
            "\n",
            "Epoch 1:   9%|▊         | 10/117 [00:12<02:04,  1.16s/it, loss=0.268]\u001b[A\n",
            "Epoch 1:   9%|▊         | 10/117 [00:12<02:04,  1.16s/it, loss=0.274]\u001b[A\n",
            "Epoch 1:   9%|▉         | 11/117 [00:12<02:02,  1.16s/it, loss=0.274]\u001b[A"
          ]
        },
        {
          "output_type": "stream",
          "name": "stdout",
          "text": [
            "dict_keys(['input_ids', 'mask', 'labels'])\n"
          ]
        },
        {
          "output_type": "stream",
          "name": "stderr",
          "text": [
            "\n",
            "Epoch 1:   9%|▉         | 11/117 [00:13<02:02,  1.16s/it, loss=0.274]\u001b[A\n",
            "Epoch 1:   9%|▉         | 11/117 [00:13<02:02,  1.16s/it, loss=0.238]\u001b[A\n",
            "Epoch 1:  10%|█         | 12/117 [00:13<02:01,  1.16s/it, loss=0.238]\u001b[A"
          ]
        },
        {
          "output_type": "stream",
          "name": "stdout",
          "text": [
            "dict_keys(['input_ids', 'mask', 'labels'])\n"
          ]
        },
        {
          "output_type": "stream",
          "name": "stderr",
          "text": [
            "\n",
            "Epoch 1:  10%|█         | 12/117 [00:15<02:01,  1.16s/it, loss=0.238]\u001b[A\n",
            "Epoch 1:  10%|█         | 12/117 [00:15<02:01,  1.16s/it, loss=0.235]\u001b[A\n",
            "Epoch 1:  11%|█         | 13/117 [00:15<02:00,  1.16s/it, loss=0.235]\u001b[A"
          ]
        },
        {
          "output_type": "stream",
          "name": "stdout",
          "text": [
            "dict_keys(['input_ids', 'mask', 'labels'])\n"
          ]
        },
        {
          "output_type": "stream",
          "name": "stderr",
          "text": [
            "\n",
            "Epoch 1:  11%|█         | 13/117 [00:16<02:00,  1.16s/it, loss=0.235]\u001b[A\n",
            "Epoch 1:  11%|█         | 13/117 [00:16<02:00,  1.16s/it, loss=0.248]\u001b[A\n",
            "Epoch 1:  12%|█▏        | 14/117 [00:16<01:59,  1.16s/it, loss=0.248]\u001b[A"
          ]
        },
        {
          "output_type": "stream",
          "name": "stdout",
          "text": [
            "dict_keys(['input_ids', 'mask', 'labels'])\n"
          ]
        },
        {
          "output_type": "stream",
          "name": "stderr",
          "text": [
            "\n",
            "Epoch 1:  12%|█▏        | 14/117 [00:17<01:59,  1.16s/it, loss=0.248]\u001b[A\n",
            "Epoch 1:  12%|█▏        | 14/117 [00:17<01:59,  1.16s/it, loss=0.223]\u001b[A\n",
            "Epoch 1:  13%|█▎        | 15/117 [00:17<01:58,  1.16s/it, loss=0.223]\u001b[A"
          ]
        },
        {
          "output_type": "stream",
          "name": "stdout",
          "text": [
            "dict_keys(['input_ids', 'mask', 'labels'])\n"
          ]
        },
        {
          "output_type": "stream",
          "name": "stderr",
          "text": [
            "\n",
            "Epoch 1:  13%|█▎        | 15/117 [00:18<01:58,  1.16s/it, loss=0.223]\u001b[A\n",
            "Epoch 1:  13%|█▎        | 15/117 [00:18<01:58,  1.16s/it, loss=0.276]\u001b[A\n",
            "Epoch 1:  14%|█▎        | 16/117 [00:18<01:57,  1.16s/it, loss=0.276]\u001b[A"
          ]
        },
        {
          "output_type": "stream",
          "name": "stdout",
          "text": [
            "dict_keys(['input_ids', 'mask', 'labels'])\n"
          ]
        },
        {
          "output_type": "stream",
          "name": "stderr",
          "text": [
            "\n",
            "Epoch 1:  14%|█▎        | 16/117 [00:19<01:57,  1.16s/it, loss=0.276]\u001b[A\n",
            "Epoch 1:  14%|█▎        | 16/117 [00:19<01:57,  1.16s/it, loss=0.223]\u001b[A\n",
            "Epoch 1:  15%|█▍        | 17/117 [00:19<01:56,  1.16s/it, loss=0.223]\u001b[A"
          ]
        },
        {
          "output_type": "stream",
          "name": "stdout",
          "text": [
            "dict_keys(['input_ids', 'mask', 'labels'])\n"
          ]
        },
        {
          "output_type": "stream",
          "name": "stderr",
          "text": [
            "\n",
            "Epoch 1:  15%|█▍        | 17/117 [00:20<01:56,  1.16s/it, loss=0.223]\u001b[A\n",
            "Epoch 1:  15%|█▍        | 17/117 [00:20<01:56,  1.16s/it, loss=0.212]\u001b[A\n",
            "Epoch 1:  15%|█▌        | 18/117 [00:20<01:54,  1.16s/it, loss=0.212]\u001b[A"
          ]
        },
        {
          "output_type": "stream",
          "name": "stdout",
          "text": [
            "dict_keys(['input_ids', 'mask', 'labels'])\n"
          ]
        },
        {
          "output_type": "stream",
          "name": "stderr",
          "text": [
            "\n",
            "Epoch 1:  15%|█▌        | 18/117 [00:21<01:54,  1.16s/it, loss=0.212]\u001b[A\n",
            "Epoch 1:  15%|█▌        | 18/117 [00:22<01:54,  1.16s/it, loss=0.293]\u001b[A\n",
            "Epoch 1:  16%|█▌        | 19/117 [00:22<01:54,  1.16s/it, loss=0.293]\u001b[A"
          ]
        },
        {
          "output_type": "stream",
          "name": "stdout",
          "text": [
            "dict_keys(['input_ids', 'mask', 'labels'])\n"
          ]
        },
        {
          "output_type": "stream",
          "name": "stderr",
          "text": [
            "\n",
            "Epoch 1:  16%|█▌        | 19/117 [00:23<01:54,  1.16s/it, loss=0.293]\u001b[A\n",
            "Epoch 1:  16%|█▌        | 19/117 [00:23<01:54,  1.16s/it, loss=0.261]\u001b[A\n",
            "Epoch 1:  17%|█▋        | 20/117 [00:23<01:53,  1.17s/it, loss=0.261]\u001b[A"
          ]
        },
        {
          "output_type": "stream",
          "name": "stdout",
          "text": [
            "dict_keys(['input_ids', 'mask', 'labels'])\n"
          ]
        },
        {
          "output_type": "stream",
          "name": "stderr",
          "text": [
            "\n",
            "Epoch 1:  17%|█▋        | 20/117 [00:24<01:53,  1.17s/it, loss=0.261]\u001b[A\n",
            "Epoch 1:  17%|█▋        | 20/117 [00:24<01:53,  1.17s/it, loss=0.245]\u001b[A\n",
            "Epoch 1:  18%|█▊        | 21/117 [00:24<01:52,  1.17s/it, loss=0.245]\u001b[A"
          ]
        },
        {
          "output_type": "stream",
          "name": "stdout",
          "text": [
            "dict_keys(['input_ids', 'mask', 'labels'])\n"
          ]
        },
        {
          "output_type": "stream",
          "name": "stderr",
          "text": [
            "\n",
            "Epoch 1:  18%|█▊        | 21/117 [00:25<01:52,  1.17s/it, loss=0.245]\u001b[A\n",
            "Epoch 1:  18%|█▊        | 21/117 [00:25<01:52,  1.17s/it, loss=0.237]\u001b[A\n",
            "Epoch 1:  19%|█▉        | 22/117 [00:25<01:50,  1.17s/it, loss=0.237]\u001b[A"
          ]
        },
        {
          "output_type": "stream",
          "name": "stdout",
          "text": [
            "dict_keys(['input_ids', 'mask', 'labels'])\n"
          ]
        },
        {
          "output_type": "stream",
          "name": "stderr",
          "text": [
            "\n",
            "Epoch 1:  19%|█▉        | 22/117 [00:26<01:50,  1.17s/it, loss=0.237]\u001b[A\n",
            "Epoch 1:  19%|█▉        | 22/117 [00:26<01:50,  1.17s/it, loss=0.257]\u001b[A\n",
            "Epoch 1:  20%|█▉        | 23/117 [00:26<01:49,  1.16s/it, loss=0.257]\u001b[A"
          ]
        },
        {
          "output_type": "stream",
          "name": "stdout",
          "text": [
            "dict_keys(['input_ids', 'mask', 'labels'])\n"
          ]
        },
        {
          "output_type": "stream",
          "name": "stderr",
          "text": [
            "\n",
            "Epoch 1:  20%|█▉        | 23/117 [00:27<01:49,  1.16s/it, loss=0.257]\u001b[A\n",
            "Epoch 1:  20%|█▉        | 23/117 [00:27<01:49,  1.16s/it, loss=0.244]\u001b[A\n",
            "Epoch 1:  21%|██        | 24/117 [00:27<01:48,  1.16s/it, loss=0.244]\u001b[A"
          ]
        },
        {
          "output_type": "stream",
          "name": "stdout",
          "text": [
            "dict_keys(['input_ids', 'mask', 'labels'])\n"
          ]
        },
        {
          "output_type": "stream",
          "name": "stderr",
          "text": [
            "\n",
            "Epoch 1:  21%|██        | 24/117 [00:28<01:48,  1.16s/it, loss=0.244]\u001b[A\n",
            "Epoch 1:  21%|██        | 24/117 [00:28<01:48,  1.16s/it, loss=0.215]\u001b[A\n",
            "Epoch 1:  21%|██▏       | 25/117 [00:29<01:47,  1.16s/it, loss=0.215]\u001b[A"
          ]
        },
        {
          "output_type": "stream",
          "name": "stdout",
          "text": [
            "dict_keys(['input_ids', 'mask', 'labels'])\n"
          ]
        },
        {
          "output_type": "stream",
          "name": "stderr",
          "text": [
            "\n",
            "Epoch 1:  21%|██▏       | 25/117 [00:30<01:47,  1.16s/it, loss=0.215]\u001b[A\n",
            "Epoch 1:  21%|██▏       | 25/117 [00:30<01:47,  1.16s/it, loss=0.201]\u001b[A\n",
            "Epoch 1:  22%|██▏       | 26/117 [00:30<01:45,  1.16s/it, loss=0.201]\u001b[A"
          ]
        },
        {
          "output_type": "stream",
          "name": "stdout",
          "text": [
            "dict_keys(['input_ids', 'mask', 'labels'])\n"
          ]
        },
        {
          "output_type": "stream",
          "name": "stderr",
          "text": [
            "\n",
            "Epoch 1:  22%|██▏       | 26/117 [00:31<01:45,  1.16s/it, loss=0.201]\u001b[A\n",
            "Epoch 1:  22%|██▏       | 26/117 [00:31<01:45,  1.16s/it, loss=0.182]\u001b[A\n",
            "Epoch 1:  23%|██▎       | 27/117 [00:31<01:44,  1.16s/it, loss=0.182]\u001b[A"
          ]
        },
        {
          "output_type": "stream",
          "name": "stdout",
          "text": [
            "dict_keys(['input_ids', 'mask', 'labels'])\n"
          ]
        },
        {
          "output_type": "stream",
          "name": "stderr",
          "text": [
            "\n",
            "Epoch 1:  23%|██▎       | 27/117 [00:32<01:44,  1.16s/it, loss=0.182]\u001b[A\n",
            "Epoch 1:  23%|██▎       | 27/117 [00:32<01:44,  1.16s/it, loss=0.19] \u001b[A\n",
            "Epoch 1:  24%|██▍       | 28/117 [00:32<01:43,  1.16s/it, loss=0.19]\u001b[A"
          ]
        },
        {
          "output_type": "stream",
          "name": "stdout",
          "text": [
            "dict_keys(['input_ids', 'mask', 'labels'])\n"
          ]
        },
        {
          "output_type": "stream",
          "name": "stderr",
          "text": [
            "\n",
            "Epoch 1:  24%|██▍       | 28/117 [00:33<01:43,  1.16s/it, loss=0.19]\u001b[A\n",
            "Epoch 1:  24%|██▍       | 28/117 [00:33<01:43,  1.16s/it, loss=0.259]\u001b[A\n",
            "Epoch 1:  25%|██▍       | 29/117 [00:33<01:42,  1.16s/it, loss=0.259]\u001b[A"
          ]
        },
        {
          "output_type": "stream",
          "name": "stdout",
          "text": [
            "dict_keys(['input_ids', 'mask', 'labels'])\n"
          ]
        },
        {
          "output_type": "stream",
          "name": "stderr",
          "text": [
            "\n",
            "Epoch 1:  25%|██▍       | 29/117 [00:34<01:42,  1.16s/it, loss=0.259]\u001b[A\n",
            "Epoch 1:  25%|██▍       | 29/117 [00:34<01:42,  1.16s/it, loss=0.236]\u001b[A\n",
            "Epoch 1:  26%|██▌       | 30/117 [00:34<01:41,  1.17s/it, loss=0.236]\u001b[A"
          ]
        },
        {
          "output_type": "stream",
          "name": "stdout",
          "text": [
            "dict_keys(['input_ids', 'mask', 'labels'])\n"
          ]
        },
        {
          "output_type": "stream",
          "name": "stderr",
          "text": [
            "\n",
            "Epoch 1:  26%|██▌       | 30/117 [00:35<01:41,  1.17s/it, loss=0.236]\u001b[A\n",
            "Epoch 1:  26%|██▌       | 30/117 [00:35<01:41,  1.17s/it, loss=0.256]\u001b[A\n",
            "Epoch 1:  26%|██▋       | 31/117 [00:35<01:40,  1.17s/it, loss=0.256]\u001b[A"
          ]
        },
        {
          "output_type": "stream",
          "name": "stdout",
          "text": [
            "dict_keys(['input_ids', 'mask', 'labels'])\n"
          ]
        },
        {
          "output_type": "stream",
          "name": "stderr",
          "text": [
            "\n",
            "Epoch 1:  26%|██▋       | 31/117 [00:37<01:40,  1.17s/it, loss=0.256]\u001b[A\n",
            "Epoch 1:  26%|██▋       | 31/117 [00:37<01:40,  1.17s/it, loss=0.224]\u001b[A\n",
            "Epoch 1:  27%|██▋       | 32/117 [00:37<01:38,  1.16s/it, loss=0.224]\u001b[A"
          ]
        },
        {
          "output_type": "stream",
          "name": "stdout",
          "text": [
            "dict_keys(['input_ids', 'mask', 'labels'])\n"
          ]
        },
        {
          "output_type": "stream",
          "name": "stderr",
          "text": [
            "\n",
            "Epoch 1:  27%|██▋       | 32/117 [00:38<01:38,  1.16s/it, loss=0.224]\u001b[A\n",
            "Epoch 1:  27%|██▋       | 32/117 [00:38<01:38,  1.16s/it, loss=0.261]\u001b[A\n",
            "Epoch 1:  28%|██▊       | 33/117 [00:38<01:37,  1.17s/it, loss=0.261]\u001b[A"
          ]
        },
        {
          "output_type": "stream",
          "name": "stdout",
          "text": [
            "dict_keys(['input_ids', 'mask', 'labels'])\n"
          ]
        },
        {
          "output_type": "stream",
          "name": "stderr",
          "text": [
            "\n",
            "Epoch 1:  28%|██▊       | 33/117 [00:39<01:37,  1.17s/it, loss=0.261]\u001b[A\n",
            "Epoch 1:  28%|██▊       | 33/117 [00:39<01:37,  1.17s/it, loss=0.21] \u001b[A\n",
            "Epoch 1:  29%|██▉       | 34/117 [00:39<01:36,  1.17s/it, loss=0.21]\u001b[A"
          ]
        },
        {
          "output_type": "stream",
          "name": "stdout",
          "text": [
            "dict_keys(['input_ids', 'mask', 'labels'])\n"
          ]
        },
        {
          "output_type": "stream",
          "name": "stderr",
          "text": [
            "\n",
            "Epoch 1:  29%|██▉       | 34/117 [00:40<01:36,  1.17s/it, loss=0.21]\u001b[A\n",
            "Epoch 1:  29%|██▉       | 34/117 [00:40<01:36,  1.17s/it, loss=0.256]\u001b[A\n",
            "Epoch 1:  30%|██▉       | 35/117 [00:40<01:35,  1.17s/it, loss=0.256]\u001b[A"
          ]
        },
        {
          "output_type": "stream",
          "name": "stdout",
          "text": [
            "dict_keys(['input_ids', 'mask', 'labels'])\n"
          ]
        },
        {
          "output_type": "stream",
          "name": "stderr",
          "text": [
            "\n",
            "Epoch 1:  30%|██▉       | 35/117 [00:41<01:35,  1.17s/it, loss=0.256]\u001b[A\n",
            "Epoch 1:  30%|██▉       | 35/117 [00:41<01:35,  1.17s/it, loss=0.237]\u001b[A\n",
            "Epoch 1:  31%|███       | 36/117 [00:41<01:34,  1.17s/it, loss=0.237]\u001b[A"
          ]
        },
        {
          "output_type": "stream",
          "name": "stdout",
          "text": [
            "dict_keys(['input_ids', 'mask', 'labels'])\n"
          ]
        },
        {
          "output_type": "stream",
          "name": "stderr",
          "text": [
            "\n",
            "Epoch 1:  31%|███       | 36/117 [00:42<01:34,  1.17s/it, loss=0.237]\u001b[A\n",
            "Epoch 1:  31%|███       | 36/117 [00:43<01:34,  1.17s/it, loss=0.235]\u001b[A\n",
            "Epoch 1:  32%|███▏      | 37/117 [00:43<01:33,  1.17s/it, loss=0.235]\u001b[A"
          ]
        },
        {
          "output_type": "stream",
          "name": "stdout",
          "text": [
            "dict_keys(['input_ids', 'mask', 'labels'])\n"
          ]
        },
        {
          "output_type": "stream",
          "name": "stderr",
          "text": [
            "\n",
            "Epoch 1:  32%|███▏      | 37/117 [00:44<01:33,  1.17s/it, loss=0.235]\u001b[A\n",
            "Epoch 1:  32%|███▏      | 37/117 [00:44<01:33,  1.17s/it, loss=0.176]\u001b[A\n",
            "Epoch 1:  32%|███▏      | 38/117 [00:44<01:32,  1.17s/it, loss=0.176]\u001b[A"
          ]
        },
        {
          "output_type": "stream",
          "name": "stdout",
          "text": [
            "dict_keys(['input_ids', 'mask', 'labels'])\n"
          ]
        },
        {
          "output_type": "stream",
          "name": "stderr",
          "text": [
            "\n",
            "Epoch 1:  32%|███▏      | 38/117 [00:45<01:32,  1.17s/it, loss=0.176]\u001b[A\n",
            "Epoch 1:  32%|███▏      | 38/117 [00:45<01:32,  1.17s/it, loss=0.191]\u001b[A\n",
            "Epoch 1:  33%|███▎      | 39/117 [00:45<01:31,  1.17s/it, loss=0.191]\u001b[A"
          ]
        },
        {
          "output_type": "stream",
          "name": "stdout",
          "text": [
            "dict_keys(['input_ids', 'mask', 'labels'])\n"
          ]
        },
        {
          "output_type": "stream",
          "name": "stderr",
          "text": [
            "\n",
            "Epoch 1:  33%|███▎      | 39/117 [00:46<01:31,  1.17s/it, loss=0.191]\u001b[A\n",
            "Epoch 1:  33%|███▎      | 39/117 [00:46<01:31,  1.17s/it, loss=0.239]\u001b[A\n",
            "Epoch 1:  34%|███▍      | 40/117 [00:46<01:30,  1.17s/it, loss=0.239]\u001b[A"
          ]
        },
        {
          "output_type": "stream",
          "name": "stdout",
          "text": [
            "dict_keys(['input_ids', 'mask', 'labels'])\n"
          ]
        },
        {
          "output_type": "stream",
          "name": "stderr",
          "text": [
            "\n",
            "Epoch 1:  34%|███▍      | 40/117 [00:47<01:30,  1.17s/it, loss=0.239]\u001b[A\n",
            "Epoch 1:  34%|███▍      | 40/117 [00:47<01:30,  1.17s/it, loss=0.229]\u001b[A\n",
            "Epoch 1:  35%|███▌      | 41/117 [00:47<01:28,  1.17s/it, loss=0.229]\u001b[A"
          ]
        },
        {
          "output_type": "stream",
          "name": "stdout",
          "text": [
            "dict_keys(['input_ids', 'mask', 'labels'])\n"
          ]
        },
        {
          "output_type": "stream",
          "name": "stderr",
          "text": [
            "\n",
            "Epoch 1:  35%|███▌      | 41/117 [00:48<01:28,  1.17s/it, loss=0.229]\u001b[A\n",
            "Epoch 1:  35%|███▌      | 41/117 [00:48<01:28,  1.17s/it, loss=0.25] \u001b[A\n",
            "Epoch 1:  36%|███▌      | 42/117 [00:48<01:27,  1.17s/it, loss=0.25]\u001b[A"
          ]
        },
        {
          "output_type": "stream",
          "name": "stdout",
          "text": [
            "dict_keys(['input_ids', 'mask', 'labels'])\n"
          ]
        },
        {
          "output_type": "stream",
          "name": "stderr",
          "text": [
            "\n",
            "Epoch 1:  36%|███▌      | 42/117 [00:50<01:27,  1.17s/it, loss=0.25]\u001b[A\n",
            "Epoch 1:  36%|███▌      | 42/117 [00:50<01:27,  1.17s/it, loss=0.214]\u001b[A\n",
            "Epoch 1:  37%|███▋      | 43/117 [00:50<01:26,  1.17s/it, loss=0.214]\u001b[A"
          ]
        },
        {
          "output_type": "stream",
          "name": "stdout",
          "text": [
            "dict_keys(['input_ids', 'mask', 'labels'])\n"
          ]
        },
        {
          "output_type": "stream",
          "name": "stderr",
          "text": [
            "\n",
            "Epoch 1:  37%|███▋      | 43/117 [00:51<01:26,  1.17s/it, loss=0.214]\u001b[A\n",
            "Epoch 1:  37%|███▋      | 43/117 [00:51<01:26,  1.17s/it, loss=0.181]\u001b[A\n",
            "Epoch 1:  38%|███▊      | 44/117 [00:51<01:25,  1.17s/it, loss=0.181]\u001b[A"
          ]
        },
        {
          "output_type": "stream",
          "name": "stdout",
          "text": [
            "dict_keys(['input_ids', 'mask', 'labels'])\n"
          ]
        },
        {
          "output_type": "stream",
          "name": "stderr",
          "text": [
            "\n",
            "Epoch 1:  38%|███▊      | 44/117 [00:52<01:25,  1.17s/it, loss=0.181]\u001b[A\n",
            "Epoch 1:  38%|███▊      | 44/117 [00:52<01:25,  1.17s/it, loss=0.242]\u001b[A\n",
            "Epoch 1:  38%|███▊      | 45/117 [00:52<01:24,  1.17s/it, loss=0.242]\u001b[A"
          ]
        },
        {
          "output_type": "stream",
          "name": "stdout",
          "text": [
            "dict_keys(['input_ids', 'mask', 'labels'])\n"
          ]
        },
        {
          "output_type": "stream",
          "name": "stderr",
          "text": [
            "\n",
            "Epoch 1:  38%|███▊      | 45/117 [00:53<01:24,  1.17s/it, loss=0.242]\u001b[A\n",
            "Epoch 1:  38%|███▊      | 45/117 [00:53<01:24,  1.17s/it, loss=0.21] \u001b[A\n",
            "Epoch 1:  39%|███▉      | 46/117 [00:53<01:23,  1.17s/it, loss=0.21]\u001b[A"
          ]
        },
        {
          "output_type": "stream",
          "name": "stdout",
          "text": [
            "dict_keys(['input_ids', 'mask', 'labels'])\n"
          ]
        },
        {
          "output_type": "stream",
          "name": "stderr",
          "text": [
            "\n",
            "Epoch 1:  39%|███▉      | 46/117 [00:54<01:23,  1.17s/it, loss=0.21]\u001b[A\n",
            "Epoch 1:  39%|███▉      | 46/117 [00:54<01:23,  1.17s/it, loss=0.224]\u001b[A\n",
            "Epoch 1:  40%|████      | 47/117 [00:54<01:22,  1.17s/it, loss=0.224]\u001b[A"
          ]
        },
        {
          "output_type": "stream",
          "name": "stdout",
          "text": [
            "dict_keys(['input_ids', 'mask', 'labels'])\n"
          ]
        },
        {
          "output_type": "stream",
          "name": "stderr",
          "text": [
            "\n",
            "Epoch 1:  40%|████      | 47/117 [00:55<01:22,  1.17s/it, loss=0.224]\u001b[A\n",
            "Epoch 1:  40%|████      | 47/117 [00:55<01:22,  1.17s/it, loss=0.228]\u001b[A\n",
            "Epoch 1:  41%|████      | 48/117 [00:55<01:20,  1.17s/it, loss=0.228]\u001b[A"
          ]
        },
        {
          "output_type": "stream",
          "name": "stdout",
          "text": [
            "dict_keys(['input_ids', 'mask', 'labels'])\n"
          ]
        },
        {
          "output_type": "stream",
          "name": "stderr",
          "text": [
            "\n",
            "Epoch 1:  41%|████      | 48/117 [00:57<01:20,  1.17s/it, loss=0.228]\u001b[A\n",
            "Epoch 1:  41%|████      | 48/117 [00:57<01:20,  1.17s/it, loss=0.213]\u001b[A\n",
            "Epoch 1:  42%|████▏     | 49/117 [00:57<01:19,  1.17s/it, loss=0.213]\u001b[A"
          ]
        },
        {
          "output_type": "stream",
          "name": "stdout",
          "text": [
            "dict_keys(['input_ids', 'mask', 'labels'])\n"
          ]
        },
        {
          "output_type": "stream",
          "name": "stderr",
          "text": [
            "\n",
            "Epoch 1:  42%|████▏     | 49/117 [00:58<01:19,  1.17s/it, loss=0.213]\u001b[A\n",
            "Epoch 1:  42%|████▏     | 49/117 [00:58<01:19,  1.17s/it, loss=0.219]\u001b[A\n",
            "Epoch 1:  43%|████▎     | 50/117 [00:58<01:18,  1.17s/it, loss=0.219]\u001b[A"
          ]
        },
        {
          "output_type": "stream",
          "name": "stdout",
          "text": [
            "dict_keys(['input_ids', 'mask', 'labels'])\n"
          ]
        },
        {
          "output_type": "stream",
          "name": "stderr",
          "text": [
            "\n",
            "Epoch 1:  43%|████▎     | 50/117 [00:59<01:18,  1.17s/it, loss=0.219]\u001b[A\n",
            "Epoch 1:  43%|████▎     | 50/117 [00:59<01:18,  1.17s/it, loss=0.179]\u001b[A\n",
            "Epoch 1:  44%|████▎     | 51/117 [00:59<01:16,  1.17s/it, loss=0.179]\u001b[A"
          ]
        },
        {
          "output_type": "stream",
          "name": "stdout",
          "text": [
            "dict_keys(['input_ids', 'mask', 'labels'])\n"
          ]
        },
        {
          "output_type": "stream",
          "name": "stderr",
          "text": [
            "\n",
            "Epoch 1:  44%|████▎     | 51/117 [01:00<01:16,  1.17s/it, loss=0.179]\u001b[A\n",
            "Epoch 1:  44%|████▎     | 51/117 [01:00<01:16,  1.17s/it, loss=0.242]\u001b[A\n",
            "Epoch 1:  44%|████▍     | 52/117 [01:00<01:15,  1.17s/it, loss=0.242]\u001b[A"
          ]
        },
        {
          "output_type": "stream",
          "name": "stdout",
          "text": [
            "dict_keys(['input_ids', 'mask', 'labels'])\n"
          ]
        },
        {
          "output_type": "stream",
          "name": "stderr",
          "text": [
            "\n",
            "Epoch 1:  44%|████▍     | 52/117 [01:01<01:15,  1.17s/it, loss=0.242]\u001b[A\n",
            "Epoch 1:  44%|████▍     | 52/117 [01:01<01:15,  1.17s/it, loss=0.202]\u001b[A\n",
            "Epoch 1:  45%|████▌     | 53/117 [01:01<01:14,  1.16s/it, loss=0.202]\u001b[A"
          ]
        },
        {
          "output_type": "stream",
          "name": "stdout",
          "text": [
            "dict_keys(['input_ids', 'mask', 'labels'])\n"
          ]
        },
        {
          "output_type": "stream",
          "name": "stderr",
          "text": [
            "\n",
            "Epoch 1:  45%|████▌     | 53/117 [01:02<01:14,  1.16s/it, loss=0.202]\u001b[A\n",
            "Epoch 1:  45%|████▌     | 53/117 [01:02<01:14,  1.16s/it, loss=0.179]\u001b[A\n",
            "Epoch 1:  46%|████▌     | 54/117 [01:02<01:13,  1.16s/it, loss=0.179]\u001b[A"
          ]
        },
        {
          "output_type": "stream",
          "name": "stdout",
          "text": [
            "dict_keys(['input_ids', 'mask', 'labels'])\n"
          ]
        },
        {
          "output_type": "stream",
          "name": "stderr",
          "text": [
            "\n",
            "Epoch 1:  46%|████▌     | 54/117 [01:04<01:13,  1.16s/it, loss=0.179]\u001b[A\n",
            "Epoch 1:  46%|████▌     | 54/117 [01:04<01:13,  1.16s/it, loss=0.201]\u001b[A\n",
            "Epoch 1:  47%|████▋     | 55/117 [01:04<01:12,  1.17s/it, loss=0.201]\u001b[A"
          ]
        },
        {
          "output_type": "stream",
          "name": "stdout",
          "text": [
            "dict_keys(['input_ids', 'mask', 'labels'])\n"
          ]
        },
        {
          "output_type": "stream",
          "name": "stderr",
          "text": [
            "\n",
            "Epoch 1:  47%|████▋     | 55/117 [01:05<01:12,  1.17s/it, loss=0.201]\u001b[A\n",
            "Epoch 1:  47%|████▋     | 55/117 [01:05<01:12,  1.17s/it, loss=0.164]\u001b[A\n",
            "Epoch 1:  48%|████▊     | 56/117 [01:05<01:11,  1.17s/it, loss=0.164]\u001b[A"
          ]
        },
        {
          "output_type": "stream",
          "name": "stdout",
          "text": [
            "dict_keys(['input_ids', 'mask', 'labels'])\n"
          ]
        },
        {
          "output_type": "stream",
          "name": "stderr",
          "text": [
            "\n",
            "Epoch 1:  48%|████▊     | 56/117 [01:06<01:11,  1.17s/it, loss=0.164]\u001b[A\n",
            "Epoch 1:  48%|████▊     | 56/117 [01:06<01:11,  1.17s/it, loss=0.175]\u001b[A\n",
            "Epoch 1:  49%|████▊     | 57/117 [01:06<01:09,  1.17s/it, loss=0.175]\u001b[A"
          ]
        },
        {
          "output_type": "stream",
          "name": "stdout",
          "text": [
            "dict_keys(['input_ids', 'mask', 'labels'])\n"
          ]
        },
        {
          "output_type": "stream",
          "name": "stderr",
          "text": [
            "\n",
            "Epoch 1:  49%|████▊     | 57/117 [01:07<01:09,  1.17s/it, loss=0.175]\u001b[A\n",
            "Epoch 1:  49%|████▊     | 57/117 [01:07<01:09,  1.17s/it, loss=0.168]\u001b[A\n",
            "Epoch 1:  50%|████▉     | 58/117 [01:07<01:08,  1.16s/it, loss=0.168]\u001b[A"
          ]
        },
        {
          "output_type": "stream",
          "name": "stdout",
          "text": [
            "dict_keys(['input_ids', 'mask', 'labels'])\n"
          ]
        },
        {
          "output_type": "stream",
          "name": "stderr",
          "text": [
            "\n",
            "Epoch 1:  50%|████▉     | 58/117 [01:08<01:08,  1.16s/it, loss=0.168]\u001b[A\n",
            "Epoch 1:  50%|████▉     | 58/117 [01:08<01:08,  1.16s/it, loss=0.227]\u001b[A\n",
            "Epoch 1:  50%|█████     | 59/117 [01:08<01:07,  1.17s/it, loss=0.227]\u001b[A"
          ]
        },
        {
          "output_type": "stream",
          "name": "stdout",
          "text": [
            "dict_keys(['input_ids', 'mask', 'labels'])\n"
          ]
        },
        {
          "output_type": "stream",
          "name": "stderr",
          "text": [
            "\n",
            "Epoch 1:  50%|█████     | 59/117 [01:09<01:07,  1.17s/it, loss=0.227]\u001b[A\n",
            "Epoch 1:  50%|█████     | 59/117 [01:09<01:07,  1.17s/it, loss=0.209]\u001b[A\n",
            "Epoch 1:  51%|█████▏    | 60/117 [01:09<01:06,  1.17s/it, loss=0.209]\u001b[A"
          ]
        },
        {
          "output_type": "stream",
          "name": "stdout",
          "text": [
            "dict_keys(['input_ids', 'mask', 'labels'])\n"
          ]
        },
        {
          "output_type": "stream",
          "name": "stderr",
          "text": [
            "\n",
            "Epoch 1:  51%|█████▏    | 60/117 [01:11<01:06,  1.17s/it, loss=0.209]\u001b[A\n",
            "Epoch 1:  51%|█████▏    | 60/117 [01:11<01:06,  1.17s/it, loss=0.22] \u001b[A\n",
            "Epoch 1:  52%|█████▏    | 61/117 [01:11<01:05,  1.17s/it, loss=0.22]\u001b[A"
          ]
        },
        {
          "output_type": "stream",
          "name": "stdout",
          "text": [
            "dict_keys(['input_ids', 'mask', 'labels'])\n"
          ]
        },
        {
          "output_type": "stream",
          "name": "stderr",
          "text": [
            "\n",
            "Epoch 1:  52%|█████▏    | 61/117 [01:12<01:05,  1.17s/it, loss=0.22]\u001b[A\n",
            "Epoch 1:  52%|█████▏    | 61/117 [01:12<01:05,  1.17s/it, loss=0.26]\u001b[A\n",
            "Epoch 1:  53%|█████▎    | 62/117 [01:12<01:04,  1.17s/it, loss=0.26]\u001b[A"
          ]
        },
        {
          "output_type": "stream",
          "name": "stdout",
          "text": [
            "dict_keys(['input_ids', 'mask', 'labels'])\n"
          ]
        },
        {
          "output_type": "stream",
          "name": "stderr",
          "text": [
            "\n",
            "Epoch 1:  53%|█████▎    | 62/117 [01:13<01:04,  1.17s/it, loss=0.26]\u001b[A\n",
            "Epoch 1:  53%|█████▎    | 62/117 [01:13<01:04,  1.17s/it, loss=0.219]\u001b[A\n",
            "Epoch 1:  54%|█████▍    | 63/117 [01:13<01:03,  1.17s/it, loss=0.219]\u001b[A"
          ]
        },
        {
          "output_type": "stream",
          "name": "stdout",
          "text": [
            "dict_keys(['input_ids', 'mask', 'labels'])\n"
          ]
        },
        {
          "output_type": "stream",
          "name": "stderr",
          "text": [
            "\n",
            "Epoch 1:  54%|█████▍    | 63/117 [01:14<01:03,  1.17s/it, loss=0.219]\u001b[A\n",
            "Epoch 1:  54%|█████▍    | 63/117 [01:14<01:03,  1.17s/it, loss=0.185]\u001b[A\n",
            "Epoch 1:  55%|█████▍    | 64/117 [01:14<01:01,  1.16s/it, loss=0.185]\u001b[A"
          ]
        },
        {
          "output_type": "stream",
          "name": "stdout",
          "text": [
            "dict_keys(['input_ids', 'mask', 'labels'])\n"
          ]
        },
        {
          "output_type": "stream",
          "name": "stderr",
          "text": [
            "\n",
            "Epoch 1:  55%|█████▍    | 64/117 [01:15<01:01,  1.16s/it, loss=0.185]\u001b[A\n",
            "Epoch 1:  55%|█████▍    | 64/117 [01:15<01:01,  1.16s/it, loss=0.157]\u001b[A\n",
            "Epoch 1:  56%|█████▌    | 65/117 [01:15<01:00,  1.16s/it, loss=0.157]\u001b[A"
          ]
        },
        {
          "output_type": "stream",
          "name": "stdout",
          "text": [
            "dict_keys(['input_ids', 'mask', 'labels'])\n"
          ]
        },
        {
          "output_type": "stream",
          "name": "stderr",
          "text": [
            "\n",
            "Epoch 1:  56%|█████▌    | 65/117 [01:16<01:00,  1.16s/it, loss=0.157]\u001b[A\n",
            "Epoch 1:  56%|█████▌    | 65/117 [01:16<01:00,  1.16s/it, loss=0.175]\u001b[A\n",
            "Epoch 1:  56%|█████▋    | 66/117 [01:16<00:59,  1.16s/it, loss=0.175]\u001b[A"
          ]
        },
        {
          "output_type": "stream",
          "name": "stdout",
          "text": [
            "dict_keys(['input_ids', 'mask', 'labels'])\n"
          ]
        },
        {
          "output_type": "stream",
          "name": "stderr",
          "text": [
            "\n",
            "Epoch 1:  56%|█████▋    | 66/117 [01:17<00:59,  1.16s/it, loss=0.175]\u001b[A\n",
            "Epoch 1:  56%|█████▋    | 66/117 [01:18<00:59,  1.16s/it, loss=0.221]\u001b[A\n",
            "Epoch 1:  57%|█████▋    | 67/117 [01:18<00:58,  1.16s/it, loss=0.221]\u001b[A"
          ]
        },
        {
          "output_type": "stream",
          "name": "stdout",
          "text": [
            "dict_keys(['input_ids', 'mask', 'labels'])\n"
          ]
        },
        {
          "output_type": "stream",
          "name": "stderr",
          "text": [
            "\n",
            "Epoch 1:  57%|█████▋    | 67/117 [01:19<00:58,  1.16s/it, loss=0.221]\u001b[A\n",
            "Epoch 1:  57%|█████▋    | 67/117 [01:19<00:58,  1.16s/it, loss=0.181]\u001b[A\n",
            "Epoch 1:  58%|█████▊    | 68/117 [01:19<00:56,  1.16s/it, loss=0.181]\u001b[A"
          ]
        },
        {
          "output_type": "stream",
          "name": "stdout",
          "text": [
            "dict_keys(['input_ids', 'mask', 'labels'])\n"
          ]
        },
        {
          "output_type": "stream",
          "name": "stderr",
          "text": [
            "\n",
            "Epoch 1:  58%|█████▊    | 68/117 [01:20<00:56,  1.16s/it, loss=0.181]\u001b[A\n",
            "Epoch 1:  58%|█████▊    | 68/117 [01:20<00:56,  1.16s/it, loss=0.182]\u001b[A\n",
            "Epoch 1:  59%|█████▉    | 69/117 [01:20<00:55,  1.16s/it, loss=0.182]\u001b[A"
          ]
        },
        {
          "output_type": "stream",
          "name": "stdout",
          "text": [
            "dict_keys(['input_ids', 'mask', 'labels'])\n"
          ]
        },
        {
          "output_type": "stream",
          "name": "stderr",
          "text": [
            "\n",
            "Epoch 1:  59%|█████▉    | 69/117 [01:21<00:55,  1.16s/it, loss=0.182]\u001b[A\n",
            "Epoch 1:  59%|█████▉    | 69/117 [01:21<00:55,  1.16s/it, loss=0.183]\u001b[A\n",
            "Epoch 1:  60%|█████▉    | 70/117 [01:21<00:54,  1.16s/it, loss=0.183]\u001b[A"
          ]
        },
        {
          "output_type": "stream",
          "name": "stdout",
          "text": [
            "dict_keys(['input_ids', 'mask', 'labels'])\n"
          ]
        },
        {
          "output_type": "stream",
          "name": "stderr",
          "text": [
            "\n",
            "Epoch 1:  60%|█████▉    | 70/117 [01:22<00:54,  1.16s/it, loss=0.183]\u001b[A\n",
            "Epoch 1:  60%|█████▉    | 70/117 [01:22<00:54,  1.16s/it, loss=0.168]\u001b[A\n",
            "Epoch 1:  61%|██████    | 71/117 [01:22<00:53,  1.16s/it, loss=0.168]\u001b[A"
          ]
        },
        {
          "output_type": "stream",
          "name": "stdout",
          "text": [
            "dict_keys(['input_ids', 'mask', 'labels'])\n"
          ]
        },
        {
          "output_type": "stream",
          "name": "stderr",
          "text": [
            "\n",
            "Epoch 1:  61%|██████    | 71/117 [01:23<00:53,  1.16s/it, loss=0.168]\u001b[A\n",
            "Epoch 1:  61%|██████    | 71/117 [01:23<00:53,  1.16s/it, loss=0.197]\u001b[A\n",
            "Epoch 1:  62%|██████▏   | 72/117 [01:23<00:52,  1.16s/it, loss=0.197]\u001b[A"
          ]
        },
        {
          "output_type": "stream",
          "name": "stdout",
          "text": [
            "dict_keys(['input_ids', 'mask', 'labels'])\n"
          ]
        },
        {
          "output_type": "stream",
          "name": "stderr",
          "text": [
            "\n",
            "Epoch 1:  62%|██████▏   | 72/117 [01:24<00:52,  1.16s/it, loss=0.197]\u001b[A\n",
            "Epoch 1:  62%|██████▏   | 72/117 [01:24<00:52,  1.16s/it, loss=0.217]\u001b[A\n",
            "Epoch 1:  62%|██████▏   | 73/117 [01:24<00:51,  1.16s/it, loss=0.217]\u001b[A"
          ]
        },
        {
          "output_type": "stream",
          "name": "stdout",
          "text": [
            "dict_keys(['input_ids', 'mask', 'labels'])\n"
          ]
        },
        {
          "output_type": "stream",
          "name": "stderr",
          "text": [
            "\n",
            "Epoch 1:  62%|██████▏   | 73/117 [01:26<00:51,  1.16s/it, loss=0.217]\u001b[A\n",
            "Epoch 1:  62%|██████▏   | 73/117 [01:26<00:51,  1.16s/it, loss=0.182]\u001b[A\n",
            "Epoch 1:  63%|██████▎   | 74/117 [01:26<00:49,  1.16s/it, loss=0.182]\u001b[A"
          ]
        },
        {
          "output_type": "stream",
          "name": "stdout",
          "text": [
            "dict_keys(['input_ids', 'mask', 'labels'])\n"
          ]
        },
        {
          "output_type": "stream",
          "name": "stderr",
          "text": [
            "\n",
            "Epoch 1:  63%|██████▎   | 74/117 [01:27<00:49,  1.16s/it, loss=0.182]\u001b[A\n",
            "Epoch 1:  63%|██████▎   | 74/117 [01:27<00:49,  1.16s/it, loss=0.193]\u001b[A\n",
            "Epoch 1:  64%|██████▍   | 75/117 [01:27<00:48,  1.16s/it, loss=0.193]\u001b[A"
          ]
        },
        {
          "output_type": "stream",
          "name": "stdout",
          "text": [
            "dict_keys(['input_ids', 'mask', 'labels'])\n"
          ]
        },
        {
          "output_type": "stream",
          "name": "stderr",
          "text": [
            "\n",
            "Epoch 1:  64%|██████▍   | 75/117 [01:28<00:48,  1.16s/it, loss=0.193]\u001b[A\n",
            "Epoch 1:  64%|██████▍   | 75/117 [01:28<00:48,  1.16s/it, loss=0.2]  \u001b[A\n",
            "Epoch 1:  65%|██████▍   | 76/117 [01:28<00:47,  1.16s/it, loss=0.2]\u001b[A"
          ]
        },
        {
          "output_type": "stream",
          "name": "stdout",
          "text": [
            "dict_keys(['input_ids', 'mask', 'labels'])\n"
          ]
        },
        {
          "output_type": "stream",
          "name": "stderr",
          "text": [
            "\n",
            "Epoch 1:  65%|██████▍   | 76/117 [01:29<00:47,  1.16s/it, loss=0.2]\u001b[A\n",
            "Epoch 1:  65%|██████▍   | 76/117 [01:29<00:47,  1.16s/it, loss=0.184]\u001b[A\n",
            "Epoch 1:  66%|██████▌   | 77/117 [01:29<00:46,  1.16s/it, loss=0.184]\u001b[A"
          ]
        },
        {
          "output_type": "stream",
          "name": "stdout",
          "text": [
            "dict_keys(['input_ids', 'mask', 'labels'])\n"
          ]
        },
        {
          "output_type": "stream",
          "name": "stderr",
          "text": [
            "\n",
            "Epoch 1:  66%|██████▌   | 77/117 [01:30<00:46,  1.16s/it, loss=0.184]\u001b[A\n",
            "Epoch 1:  66%|██████▌   | 77/117 [01:30<00:46,  1.16s/it, loss=0.164]\u001b[A\n",
            "Epoch 1:  67%|██████▋   | 78/117 [01:30<00:45,  1.16s/it, loss=0.164]\u001b[A"
          ]
        },
        {
          "output_type": "stream",
          "name": "stdout",
          "text": [
            "dict_keys(['input_ids', 'mask', 'labels'])\n"
          ]
        },
        {
          "output_type": "stream",
          "name": "stderr",
          "text": [
            "\n",
            "Epoch 1:  67%|██████▋   | 78/117 [01:31<00:45,  1.16s/it, loss=0.164]\u001b[A\n",
            "Epoch 1:  67%|██████▋   | 78/117 [01:31<00:45,  1.16s/it, loss=0.218]\u001b[A\n",
            "Epoch 1:  68%|██████▊   | 79/117 [01:31<00:44,  1.16s/it, loss=0.218]\u001b[A"
          ]
        },
        {
          "output_type": "stream",
          "name": "stdout",
          "text": [
            "dict_keys(['input_ids', 'mask', 'labels'])\n"
          ]
        },
        {
          "output_type": "stream",
          "name": "stderr",
          "text": [
            "\n",
            "Epoch 1:  68%|██████▊   | 79/117 [01:33<00:44,  1.16s/it, loss=0.218]\u001b[A\n",
            "Epoch 1:  68%|██████▊   | 79/117 [01:33<00:44,  1.16s/it, loss=0.18] \u001b[A\n",
            "Epoch 1:  68%|██████▊   | 80/117 [01:33<00:43,  1.16s/it, loss=0.18]\u001b[A"
          ]
        },
        {
          "output_type": "stream",
          "name": "stdout",
          "text": [
            "dict_keys(['input_ids', 'mask', 'labels'])\n"
          ]
        },
        {
          "output_type": "stream",
          "name": "stderr",
          "text": [
            "\n",
            "Epoch 1:  68%|██████▊   | 80/117 [01:34<00:43,  1.16s/it, loss=0.18]\u001b[A\n",
            "Epoch 1:  68%|██████▊   | 80/117 [01:34<00:43,  1.16s/it, loss=0.194]\u001b[A\n",
            "Epoch 1:  69%|██████▉   | 81/117 [01:34<00:41,  1.16s/it, loss=0.194]\u001b[A"
          ]
        },
        {
          "output_type": "stream",
          "name": "stdout",
          "text": [
            "dict_keys(['input_ids', 'mask', 'labels'])\n"
          ]
        },
        {
          "output_type": "stream",
          "name": "stderr",
          "text": [
            "\n",
            "Epoch 1:  69%|██████▉   | 81/117 [01:35<00:41,  1.16s/it, loss=0.194]\u001b[A\n",
            "Epoch 1:  69%|██████▉   | 81/117 [01:35<00:41,  1.16s/it, loss=0.226]\u001b[A\n",
            "Epoch 1:  70%|███████   | 82/117 [01:35<00:40,  1.16s/it, loss=0.226]\u001b[A"
          ]
        },
        {
          "output_type": "stream",
          "name": "stdout",
          "text": [
            "dict_keys(['input_ids', 'mask', 'labels'])\n"
          ]
        },
        {
          "output_type": "stream",
          "name": "stderr",
          "text": [
            "\n",
            "Epoch 1:  70%|███████   | 82/117 [01:36<00:40,  1.16s/it, loss=0.226]\u001b[A\n",
            "Epoch 1:  70%|███████   | 82/117 [01:36<00:40,  1.16s/it, loss=0.168]\u001b[A\n",
            "Epoch 1:  71%|███████   | 83/117 [01:36<00:39,  1.16s/it, loss=0.168]\u001b[A"
          ]
        },
        {
          "output_type": "stream",
          "name": "stdout",
          "text": [
            "dict_keys(['input_ids', 'mask', 'labels'])\n"
          ]
        },
        {
          "output_type": "stream",
          "name": "stderr",
          "text": [
            "\n",
            "Epoch 1:  71%|███████   | 83/117 [01:37<00:39,  1.16s/it, loss=0.168]\u001b[A\n",
            "Epoch 1:  71%|███████   | 83/117 [01:37<00:39,  1.16s/it, loss=0.195]\u001b[A\n",
            "Epoch 1:  72%|███████▏  | 84/117 [01:37<00:38,  1.16s/it, loss=0.195]\u001b[A"
          ]
        },
        {
          "output_type": "stream",
          "name": "stdout",
          "text": [
            "dict_keys(['input_ids', 'mask', 'labels'])\n"
          ]
        },
        {
          "output_type": "stream",
          "name": "stderr",
          "text": [
            "\n",
            "Epoch 1:  72%|███████▏  | 84/117 [01:38<00:38,  1.16s/it, loss=0.195]\u001b[A\n",
            "Epoch 1:  72%|███████▏  | 84/117 [01:38<00:38,  1.16s/it, loss=0.213]\u001b[A\n",
            "Epoch 1:  73%|███████▎  | 85/117 [01:38<00:37,  1.16s/it, loss=0.213]\u001b[A"
          ]
        },
        {
          "output_type": "stream",
          "name": "stdout",
          "text": [
            "dict_keys(['input_ids', 'mask', 'labels'])\n"
          ]
        },
        {
          "output_type": "stream",
          "name": "stderr",
          "text": [
            "\n",
            "Epoch 1:  73%|███████▎  | 85/117 [01:40<00:37,  1.16s/it, loss=0.213]\u001b[A\n",
            "Epoch 1:  73%|███████▎  | 85/117 [01:40<00:37,  1.16s/it, loss=0.151]\u001b[A\n",
            "Epoch 1:  74%|███████▎  | 86/117 [01:40<00:36,  1.16s/it, loss=0.151]\u001b[A"
          ]
        },
        {
          "output_type": "stream",
          "name": "stdout",
          "text": [
            "dict_keys(['input_ids', 'mask', 'labels'])\n"
          ]
        },
        {
          "output_type": "stream",
          "name": "stderr",
          "text": [
            "\n",
            "Epoch 1:  74%|███████▎  | 86/117 [01:41<00:36,  1.16s/it, loss=0.151]\u001b[A\n",
            "Epoch 1:  74%|███████▎  | 86/117 [01:41<00:36,  1.16s/it, loss=0.226]\u001b[A\n",
            "Epoch 1:  74%|███████▍  | 87/117 [01:41<00:34,  1.16s/it, loss=0.226]\u001b[A"
          ]
        },
        {
          "output_type": "stream",
          "name": "stdout",
          "text": [
            "dict_keys(['input_ids', 'mask', 'labels'])\n"
          ]
        },
        {
          "output_type": "stream",
          "name": "stderr",
          "text": [
            "\n",
            "Epoch 1:  74%|███████▍  | 87/117 [01:42<00:34,  1.16s/it, loss=0.226]\u001b[A\n",
            "Epoch 1:  74%|███████▍  | 87/117 [01:42<00:34,  1.16s/it, loss=0.269]\u001b[A\n",
            "Epoch 1:  75%|███████▌  | 88/117 [01:42<00:33,  1.16s/it, loss=0.269]\u001b[A"
          ]
        },
        {
          "output_type": "stream",
          "name": "stdout",
          "text": [
            "dict_keys(['input_ids', 'mask', 'labels'])\n"
          ]
        },
        {
          "output_type": "stream",
          "name": "stderr",
          "text": [
            "\n",
            "Epoch 1:  75%|███████▌  | 88/117 [01:43<00:33,  1.16s/it, loss=0.269]\u001b[A\n",
            "Epoch 1:  75%|███████▌  | 88/117 [01:43<00:33,  1.16s/it, loss=0.217]\u001b[A\n",
            "Epoch 1:  76%|███████▌  | 89/117 [01:43<00:32,  1.16s/it, loss=0.217]\u001b[A"
          ]
        },
        {
          "output_type": "stream",
          "name": "stdout",
          "text": [
            "dict_keys(['input_ids', 'mask', 'labels'])\n"
          ]
        },
        {
          "output_type": "stream",
          "name": "stderr",
          "text": [
            "\n",
            "Epoch 1:  76%|███████▌  | 89/117 [01:44<00:32,  1.16s/it, loss=0.217]\u001b[A\n",
            "Epoch 1:  76%|███████▌  | 89/117 [01:44<00:32,  1.16s/it, loss=0.163]\u001b[A\n",
            "Epoch 1:  77%|███████▋  | 90/117 [01:44<00:31,  1.16s/it, loss=0.163]\u001b[A"
          ]
        },
        {
          "output_type": "stream",
          "name": "stdout",
          "text": [
            "dict_keys(['input_ids', 'mask', 'labels'])\n"
          ]
        },
        {
          "output_type": "stream",
          "name": "stderr",
          "text": [
            "\n",
            "Epoch 1:  77%|███████▋  | 90/117 [01:45<00:31,  1.16s/it, loss=0.163]\u001b[A\n",
            "Epoch 1:  77%|███████▋  | 90/117 [01:45<00:31,  1.16s/it, loss=0.157]\u001b[A\n",
            "Epoch 1:  78%|███████▊  | 91/117 [01:45<00:30,  1.16s/it, loss=0.157]\u001b[A"
          ]
        },
        {
          "output_type": "stream",
          "name": "stdout",
          "text": [
            "dict_keys(['input_ids', 'mask', 'labels'])\n"
          ]
        },
        {
          "output_type": "stream",
          "name": "stderr",
          "text": [
            "\n",
            "Epoch 1:  78%|███████▊  | 91/117 [01:47<00:30,  1.16s/it, loss=0.157]\u001b[A\n",
            "Epoch 1:  78%|███████▊  | 91/117 [01:47<00:30,  1.16s/it, loss=0.238]\u001b[A\n",
            "Epoch 1:  79%|███████▊  | 92/117 [01:47<00:29,  1.16s/it, loss=0.238]\u001b[A"
          ]
        },
        {
          "output_type": "stream",
          "name": "stdout",
          "text": [
            "dict_keys(['input_ids', 'mask', 'labels'])\n"
          ]
        },
        {
          "output_type": "stream",
          "name": "stderr",
          "text": [
            "\n",
            "Epoch 1:  79%|███████▊  | 92/117 [01:48<00:29,  1.16s/it, loss=0.238]\u001b[A\n",
            "Epoch 1:  79%|███████▊  | 92/117 [01:48<00:29,  1.16s/it, loss=0.164]\u001b[A\n",
            "Epoch 1:  79%|███████▉  | 93/117 [01:48<00:27,  1.16s/it, loss=0.164]\u001b[A"
          ]
        },
        {
          "output_type": "stream",
          "name": "stdout",
          "text": [
            "dict_keys(['input_ids', 'mask', 'labels'])\n"
          ]
        },
        {
          "output_type": "stream",
          "name": "stderr",
          "text": [
            "\n",
            "Epoch 1:  79%|███████▉  | 93/117 [01:49<00:27,  1.16s/it, loss=0.164]\u001b[A\n",
            "Epoch 1:  79%|███████▉  | 93/117 [01:49<00:27,  1.16s/it, loss=0.174]\u001b[A\n",
            "Epoch 1:  80%|████████  | 94/117 [01:49<00:26,  1.16s/it, loss=0.174]\u001b[A"
          ]
        },
        {
          "output_type": "stream",
          "name": "stdout",
          "text": [
            "dict_keys(['input_ids', 'mask', 'labels'])\n"
          ]
        },
        {
          "output_type": "stream",
          "name": "stderr",
          "text": [
            "\n",
            "Epoch 1:  80%|████████  | 94/117 [01:50<00:26,  1.16s/it, loss=0.174]\u001b[A\n",
            "Epoch 1:  80%|████████  | 94/117 [01:50<00:26,  1.16s/it, loss=0.195]\u001b[A\n",
            "Epoch 1:  81%|████████  | 95/117 [01:50<00:25,  1.16s/it, loss=0.195]\u001b[A"
          ]
        },
        {
          "output_type": "stream",
          "name": "stdout",
          "text": [
            "dict_keys(['input_ids', 'mask', 'labels'])\n"
          ]
        },
        {
          "output_type": "stream",
          "name": "stderr",
          "text": [
            "\n",
            "Epoch 1:  81%|████████  | 95/117 [01:51<00:25,  1.16s/it, loss=0.195]\u001b[A\n",
            "Epoch 1:  81%|████████  | 95/117 [01:51<00:25,  1.16s/it, loss=0.177]\u001b[A\n",
            "Epoch 1:  82%|████████▏ | 96/117 [01:51<00:24,  1.16s/it, loss=0.177]\u001b[A"
          ]
        },
        {
          "output_type": "stream",
          "name": "stdout",
          "text": [
            "dict_keys(['input_ids', 'mask', 'labels'])\n"
          ]
        },
        {
          "output_type": "stream",
          "name": "stderr",
          "text": [
            "\n",
            "Epoch 1:  82%|████████▏ | 96/117 [01:52<00:24,  1.16s/it, loss=0.177]\u001b[A\n",
            "Epoch 1:  82%|████████▏ | 96/117 [01:52<00:24,  1.16s/it, loss=0.172]\u001b[A\n",
            "Epoch 1:  83%|████████▎ | 97/117 [01:52<00:23,  1.16s/it, loss=0.172]\u001b[A"
          ]
        },
        {
          "output_type": "stream",
          "name": "stdout",
          "text": [
            "dict_keys(['input_ids', 'mask', 'labels'])\n"
          ]
        },
        {
          "output_type": "stream",
          "name": "stderr",
          "text": [
            "\n",
            "Epoch 1:  83%|████████▎ | 97/117 [01:54<00:23,  1.16s/it, loss=0.172]\u001b[A\n",
            "Epoch 1:  83%|████████▎ | 97/117 [01:54<00:23,  1.16s/it, loss=0.21] \u001b[A\n",
            "Epoch 1:  84%|████████▍ | 98/117 [01:54<00:22,  1.16s/it, loss=0.21]\u001b[A"
          ]
        },
        {
          "output_type": "stream",
          "name": "stdout",
          "text": [
            "dict_keys(['input_ids', 'mask', 'labels'])\n"
          ]
        },
        {
          "output_type": "stream",
          "name": "stderr",
          "text": [
            "\n",
            "Epoch 1:  84%|████████▍ | 98/117 [01:55<00:22,  1.16s/it, loss=0.21]\u001b[A\n",
            "Epoch 1:  84%|████████▍ | 98/117 [01:55<00:22,  1.16s/it, loss=0.191]\u001b[A\n",
            "Epoch 1:  85%|████████▍ | 99/117 [01:55<00:20,  1.16s/it, loss=0.191]\u001b[A"
          ]
        },
        {
          "output_type": "stream",
          "name": "stdout",
          "text": [
            "dict_keys(['input_ids', 'mask', 'labels'])\n"
          ]
        },
        {
          "output_type": "stream",
          "name": "stderr",
          "text": [
            "\n",
            "Epoch 1:  85%|████████▍ | 99/117 [01:56<00:20,  1.16s/it, loss=0.191]\u001b[A\n",
            "Epoch 1:  85%|████████▍ | 99/117 [01:56<00:20,  1.16s/it, loss=0.171]\u001b[A\n",
            "Epoch 1:  85%|████████▌ | 100/117 [01:56<00:19,  1.16s/it, loss=0.171]\u001b[A"
          ]
        },
        {
          "output_type": "stream",
          "name": "stdout",
          "text": [
            "dict_keys(['input_ids', 'mask', 'labels'])\n"
          ]
        },
        {
          "output_type": "stream",
          "name": "stderr",
          "text": [
            "\n",
            "Epoch 1:  85%|████████▌ | 100/117 [01:57<00:19,  1.16s/it, loss=0.171]\u001b[A\n",
            "Epoch 1:  85%|████████▌ | 100/117 [01:57<00:19,  1.16s/it, loss=0.175]\u001b[A\n",
            "Epoch 1:  86%|████████▋ | 101/117 [01:57<00:18,  1.16s/it, loss=0.175]\u001b[A"
          ]
        },
        {
          "output_type": "stream",
          "name": "stdout",
          "text": [
            "dict_keys(['input_ids', 'mask', 'labels'])\n"
          ]
        },
        {
          "output_type": "stream",
          "name": "stderr",
          "text": [
            "\n",
            "Epoch 1:  86%|████████▋ | 101/117 [01:58<00:18,  1.16s/it, loss=0.175]\u001b[A\n",
            "Epoch 1:  86%|████████▋ | 101/117 [01:58<00:18,  1.16s/it, loss=0.158]\u001b[A\n",
            "Epoch 1:  87%|████████▋ | 102/117 [01:58<00:17,  1.16s/it, loss=0.158]\u001b[A"
          ]
        },
        {
          "output_type": "stream",
          "name": "stdout",
          "text": [
            "dict_keys(['input_ids', 'mask', 'labels'])\n"
          ]
        },
        {
          "output_type": "stream",
          "name": "stderr",
          "text": [
            "\n",
            "Epoch 1:  87%|████████▋ | 102/117 [01:59<00:17,  1.16s/it, loss=0.158]\u001b[A\n",
            "Epoch 1:  87%|████████▋ | 102/117 [01:59<00:17,  1.16s/it, loss=0.151]\u001b[A\n",
            "Epoch 1:  88%|████████▊ | 103/117 [01:59<00:16,  1.16s/it, loss=0.151]\u001b[A"
          ]
        },
        {
          "output_type": "stream",
          "name": "stdout",
          "text": [
            "dict_keys(['input_ids', 'mask', 'labels'])\n"
          ]
        },
        {
          "output_type": "stream",
          "name": "stderr",
          "text": [
            "\n",
            "Epoch 1:  88%|████████▊ | 103/117 [02:00<00:16,  1.16s/it, loss=0.151]\u001b[A\n",
            "Epoch 1:  88%|████████▊ | 103/117 [02:00<00:16,  1.16s/it, loss=0.206]\u001b[A\n",
            "Epoch 1:  89%|████████▉ | 104/117 [02:00<00:15,  1.16s/it, loss=0.206]\u001b[A"
          ]
        },
        {
          "output_type": "stream",
          "name": "stdout",
          "text": [
            "dict_keys(['input_ids', 'mask', 'labels'])\n"
          ]
        },
        {
          "output_type": "stream",
          "name": "stderr",
          "text": [
            "\n",
            "Epoch 1:  89%|████████▉ | 104/117 [02:02<00:15,  1.16s/it, loss=0.206]\u001b[A\n",
            "Epoch 1:  89%|████████▉ | 104/117 [02:02<00:15,  1.16s/it, loss=0.189]\u001b[A\n",
            "Epoch 1:  90%|████████▉ | 105/117 [02:02<00:13,  1.16s/it, loss=0.189]\u001b[A"
          ]
        },
        {
          "output_type": "stream",
          "name": "stdout",
          "text": [
            "dict_keys(['input_ids', 'mask', 'labels'])\n"
          ]
        },
        {
          "output_type": "stream",
          "name": "stderr",
          "text": [
            "\n",
            "Epoch 1:  90%|████████▉ | 105/117 [02:03<00:13,  1.16s/it, loss=0.189]\u001b[A\n",
            "Epoch 1:  90%|████████▉ | 105/117 [02:03<00:13,  1.16s/it, loss=0.2]  \u001b[A\n",
            "Epoch 1:  91%|█████████ | 106/117 [02:03<00:12,  1.16s/it, loss=0.2]\u001b[A"
          ]
        },
        {
          "output_type": "stream",
          "name": "stdout",
          "text": [
            "dict_keys(['input_ids', 'mask', 'labels'])\n"
          ]
        },
        {
          "output_type": "stream",
          "name": "stderr",
          "text": [
            "\n",
            "Epoch 1:  91%|█████████ | 106/117 [02:04<00:12,  1.16s/it, loss=0.2]\u001b[A\n",
            "Epoch 1:  91%|█████████ | 106/117 [02:04<00:12,  1.16s/it, loss=0.203]\u001b[A\n",
            "Epoch 1:  91%|█████████▏| 107/117 [02:04<00:11,  1.17s/it, loss=0.203]\u001b[A"
          ]
        },
        {
          "output_type": "stream",
          "name": "stdout",
          "text": [
            "dict_keys(['input_ids', 'mask', 'labels'])\n"
          ]
        },
        {
          "output_type": "stream",
          "name": "stderr",
          "text": [
            "\n",
            "Epoch 1:  91%|█████████▏| 107/117 [02:05<00:11,  1.17s/it, loss=0.203]\u001b[A\n",
            "Epoch 1:  91%|█████████▏| 107/117 [02:05<00:11,  1.17s/it, loss=0.195]\u001b[A\n",
            "Epoch 1:  92%|█████████▏| 108/117 [02:05<00:10,  1.17s/it, loss=0.195]\u001b[A"
          ]
        },
        {
          "output_type": "stream",
          "name": "stdout",
          "text": [
            "dict_keys(['input_ids', 'mask', 'labels'])\n"
          ]
        },
        {
          "output_type": "stream",
          "name": "stderr",
          "text": [
            "\n",
            "Epoch 1:  92%|█████████▏| 108/117 [02:06<00:10,  1.17s/it, loss=0.195]\u001b[A\n",
            "Epoch 1:  92%|█████████▏| 108/117 [02:06<00:10,  1.17s/it, loss=0.262]\u001b[A\n",
            "Epoch 1:  93%|█████████▎| 109/117 [02:06<00:09,  1.17s/it, loss=0.262]\u001b[A"
          ]
        },
        {
          "output_type": "stream",
          "name": "stdout",
          "text": [
            "dict_keys(['input_ids', 'mask', 'labels'])\n"
          ]
        },
        {
          "output_type": "stream",
          "name": "stderr",
          "text": [
            "\n",
            "Epoch 1:  93%|█████████▎| 109/117 [02:07<00:09,  1.17s/it, loss=0.262]\u001b[A\n",
            "Epoch 1:  93%|█████████▎| 109/117 [02:07<00:09,  1.17s/it, loss=0.192]\u001b[A\n",
            "Epoch 1:  94%|█████████▍| 110/117 [02:08<00:08,  1.17s/it, loss=0.192]\u001b[A"
          ]
        },
        {
          "output_type": "stream",
          "name": "stdout",
          "text": [
            "dict_keys(['input_ids', 'mask', 'labels'])\n"
          ]
        },
        {
          "output_type": "stream",
          "name": "stderr",
          "text": [
            "\n",
            "Epoch 1:  94%|█████████▍| 110/117 [02:09<00:08,  1.17s/it, loss=0.192]\u001b[A\n",
            "Epoch 1:  94%|█████████▍| 110/117 [02:09<00:08,  1.17s/it, loss=0.144]\u001b[A\n",
            "Epoch 1:  95%|█████████▍| 111/117 [02:09<00:06,  1.17s/it, loss=0.144]\u001b[A"
          ]
        },
        {
          "output_type": "stream",
          "name": "stdout",
          "text": [
            "dict_keys(['input_ids', 'mask', 'labels'])\n"
          ]
        },
        {
          "output_type": "stream",
          "name": "stderr",
          "text": [
            "\n",
            "Epoch 1:  95%|█████████▍| 111/117 [02:10<00:06,  1.17s/it, loss=0.144]\u001b[A\n",
            "Epoch 1:  95%|█████████▍| 111/117 [02:10<00:06,  1.17s/it, loss=0.181]\u001b[A\n",
            "Epoch 1:  96%|█████████▌| 112/117 [02:10<00:05,  1.17s/it, loss=0.181]\u001b[A"
          ]
        },
        {
          "output_type": "stream",
          "name": "stdout",
          "text": [
            "dict_keys(['input_ids', 'mask', 'labels'])\n"
          ]
        },
        {
          "output_type": "stream",
          "name": "stderr",
          "text": [
            "\n",
            "Epoch 1:  96%|█████████▌| 112/117 [02:11<00:05,  1.17s/it, loss=0.181]\u001b[A\n",
            "Epoch 1:  96%|█████████▌| 112/117 [02:11<00:05,  1.17s/it, loss=0.174]\u001b[A\n",
            "Epoch 1:  97%|█████████▋| 113/117 [02:11<00:04,  1.17s/it, loss=0.174]\u001b[A"
          ]
        },
        {
          "output_type": "stream",
          "name": "stdout",
          "text": [
            "dict_keys(['input_ids', 'mask', 'labels'])\n"
          ]
        },
        {
          "output_type": "stream",
          "name": "stderr",
          "text": [
            "\n",
            "Epoch 1:  97%|█████████▋| 113/117 [02:12<00:04,  1.17s/it, loss=0.174]\u001b[A\n",
            "Epoch 1:  97%|█████████▋| 113/117 [02:12<00:04,  1.17s/it, loss=0.161]\u001b[A\n",
            "Epoch 1:  97%|█████████▋| 114/117 [02:12<00:03,  1.16s/it, loss=0.161]\u001b[A"
          ]
        },
        {
          "output_type": "stream",
          "name": "stdout",
          "text": [
            "dict_keys(['input_ids', 'mask', 'labels'])\n"
          ]
        },
        {
          "output_type": "stream",
          "name": "stderr",
          "text": [
            "\n",
            "Epoch 1:  97%|█████████▋| 114/117 [02:13<00:03,  1.16s/it, loss=0.161]\u001b[A\n",
            "Epoch 1:  97%|█████████▋| 114/117 [02:13<00:03,  1.16s/it, loss=0.163]\u001b[A\n",
            "Epoch 1:  98%|█████████▊| 115/117 [02:13<00:02,  1.16s/it, loss=0.163]\u001b[A"
          ]
        },
        {
          "output_type": "stream",
          "name": "stdout",
          "text": [
            "dict_keys(['input_ids', 'mask', 'labels'])\n"
          ]
        },
        {
          "output_type": "stream",
          "name": "stderr",
          "text": [
            "\n",
            "Epoch 1:  98%|█████████▊| 115/117 [02:14<00:02,  1.16s/it, loss=0.163]\u001b[A\n",
            "Epoch 1:  98%|█████████▊| 115/117 [02:14<00:02,  1.16s/it, loss=0.157]\u001b[A\n",
            "Epoch 1:  99%|█████████▉| 116/117 [02:14<00:01,  1.16s/it, loss=0.157]\u001b[A"
          ]
        },
        {
          "output_type": "stream",
          "name": "stdout",
          "text": [
            "dict_keys(['input_ids', 'mask', 'labels'])\n"
          ]
        },
        {
          "output_type": "stream",
          "name": "stderr",
          "text": [
            "\n",
            "Epoch 1:  99%|█████████▉| 116/117 [02:15<00:01,  1.16s/it, loss=0.157]\u001b[A\n",
            "Epoch 1:  99%|█████████▉| 116/117 [02:15<00:01,  1.16s/it, loss=0.177]\u001b[A\n",
            "Epoch 1: 100%|██████████| 117/117 [02:15<00:00,  1.08s/it, loss=0.177]\u001b[A\n",
            "                                                                      \u001b[A"
          ]
        },
        {
          "output_type": "error",
          "ename": "AttributeError",
          "evalue": "ignored",
          "traceback": [
            "\u001b[0;31m---------------------------------------------------------------------------\u001b[0m",
            "\u001b[0;31mAttributeError\u001b[0m                            Traceback (most recent call last)",
            "\u001b[0;32m<ipython-input-24-8a106e2c2654>\u001b[0m in \u001b[0;36m<cell line: 3>\u001b[0;34m()\u001b[0m\n\u001b[1;32m      1\u001b[0m \u001b[0mmodel\u001b[0m \u001b[0;34m=\u001b[0m \u001b[0mtrain_model\u001b[0m\u001b[0;34m(\u001b[0m\u001b[0mconfig\u001b[0m\u001b[0;34m=\u001b[0m\u001b[0mconfig\u001b[0m\u001b[0;34m,\u001b[0m \u001b[0mloader_for_data\u001b[0m\u001b[0;34m=\u001b[0m\u001b[0mdataloader\u001b[0m\u001b[0;34m)\u001b[0m\u001b[0;34m\u001b[0m\u001b[0;34m\u001b[0m\u001b[0m\n\u001b[1;32m      2\u001b[0m \u001b[0;34m\u001b[0m\u001b[0m\n\u001b[0;32m----> 3\u001b[0;31m \u001b[0mmodel\u001b[0m\u001b[0;34m.\u001b[0m\u001b[0msave_pretrained\u001b[0m\u001b[0;34m(\u001b[0m\u001b[0;34mf'/content/bert-transformer/models/thesis_bert'\u001b[0m\u001b[0;34m)\u001b[0m\u001b[0;34m\u001b[0m\u001b[0;34m\u001b[0m\u001b[0m\n\u001b[0m",
            "\u001b[0;31mAttributeError\u001b[0m: 'NoneType' object has no attribute 'save_pretrained'"
          ]
        }
      ]
    },
    {
      "cell_type": "code",
      "source": [
        "print(model)"
      ],
      "metadata": {
        "colab": {
          "base_uri": "https://localhost:8080/"
        },
        "id": "_lVbYR3z3nru",
        "outputId": "be68c6bf-6747-4cab-faa6-906747ac1d98"
      },
      "id": "_lVbYR3z3nru",
      "execution_count": 26,
      "outputs": [
        {
          "output_type": "stream",
          "name": "stdout",
          "text": [
            "None\n"
          ]
        }
      ]
    },
    {
      "cell_type": "markdown",
      "source": [
        "I am up to here"
      ],
      "metadata": {
        "id": "ZHnNSwz-Q0ew"
      },
      "id": "ZHnNSwz-Q0ew"
    },
    {
      "cell_type": "code",
      "source": [
        "tokenized_text, encodings = build_tensors(paths, tokenizer)"
      ],
      "metadata": {
        "colab": {
          "base_uri": "https://localhost:8080/"
        },
        "id": "4IYpDIYm-qYV",
        "outputId": "7f3ef160-881b-4851-b22c-2d830099e6cd"
      },
      "id": "4IYpDIYm-qYV",
      "execution_count": 12,
      "outputs": [
        {
          "output_type": "stream",
          "name": "stdout",
          "text": [
            "[tensor([[   0, 1202,   37,  ...,    1,    1,    1],\n",
            "        [   0,    4,  309,  ...,    1,    1,    1],\n",
            "        [   0,  892,  568,  ...,    1,    1,    1],\n",
            "        ...,\n",
            "        [   0, 1543,  261,  ...,    1,    1,    1],\n",
            "        [   0, 3796,   93,  ...,    1,    1,    1],\n",
            "        [   0,  564,    4,  ...,    1,    1,    1]])]\n"
          ]
        }
      ]
    },
    {
      "cell_type": "markdown",
      "source": [
        "Within encodings we should have our three tensors:\n",
        "1. input_ids - token IDs with a % of tokens masked with the mask token ID which in our case is 4\n",
        "2. mask - this is a binary tensor of 1 and 0 indicating where the masks are\n",
        "3. labels - these are just the unmasked token IDs"
      ],
      "metadata": {
        "id": "DVwROP1o-2kE"
      },
      "id": "DVwROP1o-2kE"
    },
    {
      "cell_type": "code",
      "source": [
        "encodings.keys()"
      ],
      "metadata": {
        "colab": {
          "base_uri": "https://localhost:8080/"
        },
        "id": "eB6qywUZ_Os6",
        "outputId": "0cd6cddc-5abe-4199-ff36-f6d3aa49ae99"
      },
      "id": "eB6qywUZ_Os6",
      "execution_count": 13,
      "outputs": [
        {
          "output_type": "execute_result",
          "data": {
            "text/plain": [
              "dict_keys(['input_ids', 'mask', 'labels'])"
            ]
          },
          "metadata": {},
          "execution_count": 13
        }
      ]
    },
    {
      "cell_type": "code",
      "source": [
        "# create the data loader with a batch size of 16\n",
        "# this function uutilises the torch data loader\n",
        "loader = create_data_loader(encodings)"
      ],
      "metadata": {
        "id": "CT1P4rKk_REf"
      },
      "id": "CT1P4rKk_REf",
      "execution_count": 14,
      "outputs": []
    },
    {
      "cell_type": "code",
      "source": [
        "# build RoBERTa config\n",
        "config = RobertaConfig(\n",
        "    vocab_size=30_522,  # we align this to the tokenizer vocab_size\n",
        "    max_position_embeddings=514,\n",
        "    hidden_size=768,\n",
        "    num_attention_heads=12,\n",
        "    num_hidden_layers=6,\n",
        "    type_vocab_size=1\n",
        ")\n"
      ],
      "metadata": {
        "id": "2MlQyAKq_p17"
      },
      "id": "2MlQyAKq_p17",
      "execution_count": 17,
      "outputs": []
    },
    {
      "cell_type": "markdown",
      "source": [
        "Now actually train the model"
      ],
      "metadata": {
        "id": "yuHCWRk4ADap"
      },
      "id": "yuHCWRk4ADap"
    },
    {
      "cell_type": "code",
      "source": [
        "train_model(config, loader)\n",
        "\n",
        "model.save_pretrained(f'{output_dir}/thesis_bert')"
      ],
      "metadata": {
        "colab": {
          "base_uri": "https://localhost:8080/",
          "height": 437,
          "referenced_widgets": [
            "c67be220d35e41d3b30ba2162e028f9b",
            "c7196dfa6bf54828af17aea1595d8931",
            "314abc0bb75d457a81071a3913ea92b4",
            "5869f84c67234149885737141ebc5c78",
            "9651b9c65b5245dcaec332113ac999ac",
            "51b4652242044a28805e7c46b8bc889a",
            "cc0b7eed9eb644eeae32a104a882795b",
            "c33fb427b7694fffa4250f6589855393",
            "d8e155b13fe64ee799ef0213abe8c280",
            "bf8f98bec8ab4079a3e2a93c1a6735b5",
            "e88a9f3d3f434cd69e6c51e99ec95c75"
          ]
        },
        "id": "LTxfxqHcAAUc",
        "outputId": "f241d561-8f7e-492a-8799-d50ad1442a34"
      },
      "id": "LTxfxqHcAAUc",
      "execution_count": 18,
      "outputs": [
        {
          "output_type": "stream",
          "name": "stdout",
          "text": [
            "Epoch 0\n"
          ]
        },
        {
          "output_type": "stream",
          "name": "stderr",
          "text": [
            "/usr/local/lib/python3.10/dist-packages/transformers/optimization.py:411: FutureWarning: This implementation of AdamW is deprecated and will be removed in a future version. Use the PyTorch implementation torch.optim.AdamW instead, or set `no_deprecation_warning=True` to disable this warning\n",
            "  warnings.warn(\n"
          ]
        },
        {
          "output_type": "display_data",
          "data": {
            "text/plain": [
              "  0%|          | 0/117 [00:00<?, ?it/s]"
            ],
            "application/vnd.jupyter.widget-view+json": {
              "version_major": 2,
              "version_minor": 0,
              "model_id": "c67be220d35e41d3b30ba2162e028f9b"
            }
          },
          "metadata": {}
        },
        {
          "output_type": "stream",
          "name": "stdout",
          "text": [
            "dict_keys(['input_ids'])\n"
          ]
        },
        {
          "output_type": "error",
          "ename": "KeyError",
          "evalue": "ignored",
          "traceback": [
            "\u001b[0;31m---------------------------------------------------------------------------\u001b[0m",
            "\u001b[0;31mKeyError\u001b[0m                                  Traceback (most recent call last)",
            "\u001b[0;32m<ipython-input-18-ae6ecf3f4b64>\u001b[0m in \u001b[0;36m<cell line: 1>\u001b[0;34m()\u001b[0m\n\u001b[0;32m----> 1\u001b[0;31m \u001b[0mtrain_model\u001b[0m\u001b[0;34m(\u001b[0m\u001b[0mconfig\u001b[0m\u001b[0;34m,\u001b[0m \u001b[0mloader\u001b[0m\u001b[0;34m)\u001b[0m\u001b[0;34m\u001b[0m\u001b[0;34m\u001b[0m\u001b[0m\n\u001b[0m\u001b[1;32m      2\u001b[0m \u001b[0;34m\u001b[0m\u001b[0m\n\u001b[1;32m      3\u001b[0m \u001b[0mmodel\u001b[0m\u001b[0;34m.\u001b[0m\u001b[0msave_pretrained\u001b[0m\u001b[0;34m(\u001b[0m\u001b[0;34mf'{output_dir}/thesis_bert'\u001b[0m\u001b[0;34m)\u001b[0m\u001b[0;34m\u001b[0m\u001b[0;34m\u001b[0m\u001b[0m\n",
            "\u001b[0;32m/content/bert-transformer/src/input_pipeline.py\u001b[0m in \u001b[0;36mtrain_model\u001b[0;34m(config, loader)\u001b[0m\n\u001b[1;32m    128\u001b[0m             \u001b[0mprint\u001b[0m\u001b[0;34m(\u001b[0m\u001b[0mbatch\u001b[0m\u001b[0;34m.\u001b[0m\u001b[0mkeys\u001b[0m\u001b[0;34m(\u001b[0m\u001b[0;34m)\u001b[0m\u001b[0;34m)\u001b[0m\u001b[0;34m\u001b[0m\u001b[0;34m\u001b[0m\u001b[0m\n\u001b[1;32m    129\u001b[0m             \u001b[0minput_ids\u001b[0m \u001b[0;34m=\u001b[0m \u001b[0mbatch\u001b[0m\u001b[0;34m[\u001b[0m\u001b[0;34m'input_ids'\u001b[0m\u001b[0;34m]\u001b[0m\u001b[0;34m[\u001b[0m\u001b[0;36m0\u001b[0m\u001b[0;34m]\u001b[0m\u001b[0;34m.\u001b[0m\u001b[0mto\u001b[0m\u001b[0;34m(\u001b[0m\u001b[0mdevice\u001b[0m\u001b[0;34m)\u001b[0m\u001b[0;34m\u001b[0m\u001b[0;34m\u001b[0m\u001b[0m\n\u001b[0;32m--> 130\u001b[0;31m             \u001b[0mattention_mask\u001b[0m \u001b[0;34m=\u001b[0m \u001b[0mbatch\u001b[0m\u001b[0;34m[\u001b[0m\u001b[0;34m'mask'\u001b[0m\u001b[0;34m]\u001b[0m\u001b[0;34m[\u001b[0m\u001b[0;36m0\u001b[0m\u001b[0;34m]\u001b[0m\u001b[0;34m.\u001b[0m\u001b[0mto\u001b[0m\u001b[0;34m(\u001b[0m\u001b[0mdevice\u001b[0m\u001b[0;34m)\u001b[0m\u001b[0;34m\u001b[0m\u001b[0;34m\u001b[0m\u001b[0m\n\u001b[0m\u001b[1;32m    131\u001b[0m             \u001b[0mlabels\u001b[0m \u001b[0;34m=\u001b[0m \u001b[0mbatch\u001b[0m\u001b[0;34m[\u001b[0m\u001b[0;34m'labels'\u001b[0m\u001b[0;34m]\u001b[0m\u001b[0;34m[\u001b[0m\u001b[0;36m0\u001b[0m\u001b[0;34m]\u001b[0m\u001b[0;34m.\u001b[0m\u001b[0mto\u001b[0m\u001b[0;34m(\u001b[0m\u001b[0mdevice\u001b[0m\u001b[0;34m)\u001b[0m\u001b[0;34m\u001b[0m\u001b[0;34m\u001b[0m\u001b[0m\n\u001b[1;32m    132\u001b[0m             \u001b[0;31m# model\u001b[0m\u001b[0;34m\u001b[0m\u001b[0;34m\u001b[0m\u001b[0m\n",
            "\u001b[0;31mKeyError\u001b[0m: 'mask'"
          ]
        }
      ]
    },
    {
      "cell_type": "code",
      "execution_count": null,
      "id": "157571c7-d139-4af9-9573-8b5e2b33a397",
      "metadata": {
        "id": "157571c7-d139-4af9-9573-8b5e2b33a397",
        "outputId": "fee276d2-9096-4790-b33d-ca2eeceb4651"
      },
      "outputs": [
        {
          "name": "stderr",
          "output_type": "stream",
          "text": [
            "/Users/christianbromley/.virtualenvs/machine-learning-course/lib/python3.9/site-packages/tqdm/auto.py:21: TqdmWarning: IProgress not found. Please update jupyter and ipywidgets. See https://ipywidgets.readthedocs.io/en/stable/user_install.html\n",
            "  from .autonotebook import tqdm as notebook_tqdm\n"
          ]
        }
      ],
      "source": [
        "\n",
        "import argparse\n",
        "from pathlib import Path\n",
        "\n",
        "#sys.path.insert(0,'./.env/lib/python3.8/site-packages')\n",
        "from tokenizers import ByteLevelBPETokenizer\n",
        "#from transformers import RobertaTokenizer\n",
        "import os\n",
        "\n",
        "from transformers import RobertaTokenizer, RobertaConfig, RobertaForMaskedLM, AdamW\n",
        "import torch\n",
        "import tqdm"
      ]
    },
    {
      "cell_type": "code",
      "execution_count": null,
      "id": "60617f40-ca82-4ef7-8418-fe3521871445",
      "metadata": {
        "id": "60617f40-ca82-4ef7-8418-fe3521871445"
      },
      "outputs": [],
      "source": [
        "# constants\n",
        "PDF_PATH='/Users/christianbromley/Documents/Personal/PhD/Christian_Bromley_Final_Thesis_20211221_cover.pdf'\n",
        "OUTPUT_PATH='/Users/christianbromley/Documents/Personal/PhD/Christian_Bromley_Final_Thesis_20211221.csv'\n",
        "TEXT_PARSE_DIR='/Users/christianbromley/Documents/Personal/PhD/thesis_parsed'\n",
        "MODELS_DIR='../models'"
      ]
    },
    {
      "cell_type": "code",
      "execution_count": null,
      "id": "daae5e06-ccfe-4a29-a910-9352c9b6792c",
      "metadata": {
        "id": "daae5e06-ccfe-4a29-a910-9352c9b6792c"
      },
      "outputs": [],
      "source": [
        "def extract_file_paths(input_dir):\n",
        "    paths = [str(x) for x in Path(input_dir).glob('**/*.txt')]\n",
        "    return paths\n",
        "\n",
        "def run(paths, output_dir):\n",
        "    # intialise tokeniser\n",
        "    tokenizer = ByteLevelBPETokenizer()\n",
        "    # train\n",
        "    tokenizer.train(files=paths,\n",
        "                    vocab_size=30_522,\n",
        "                    min_frequency=2,\n",
        "                    special_tokens=['<s>', '<pad>', '</s>', '<unk>', '<mask>'])\n",
        "\n",
        "    tokenizer.save_model(output_dir)"
      ]
    },
    {
      "cell_type": "code",
      "execution_count": null,
      "id": "77d24587-e32f-414e-be1c-51e254ed29a8",
      "metadata": {
        "id": "77d24587-e32f-414e-be1c-51e254ed29a8",
        "outputId": "d3cdfbd4-2679-4d2e-9d5b-fb4a10c99058"
      },
      "outputs": [
        {
          "data": {
            "text/plain": [
              "['/Users/christianbromley/Documents/Personal/PhD/thesis_parsed/text_0.txt']"
            ]
          },
          "execution_count": 7,
          "metadata": {},
          "output_type": "execute_result"
        }
      ],
      "source": [
        "paths = extract_file_paths(input_dir=TEXT_PARSE_DIR)\n",
        "\n",
        "paths"
      ]
    },
    {
      "cell_type": "code",
      "execution_count": null,
      "id": "ff5414c6-007a-42bc-b40d-9abab80b7f21",
      "metadata": {
        "id": "ff5414c6-007a-42bc-b40d-9abab80b7f21",
        "outputId": "e465fc50-b2b7-4333-a0b9-fa5c2ed3cc9e"
      },
      "outputs": [
        {
          "name": "stdout",
          "output_type": "stream",
          "text": [
            "\n",
            "\n",
            "\n"
          ]
        }
      ],
      "source": [
        "run(paths, MODELS_DIR)"
      ]
    },
    {
      "cell_type": "code",
      "execution_count": null,
      "id": "72f7a40c-d257-4d8b-a7df-e3131cb28582",
      "metadata": {
        "id": "72f7a40c-d257-4d8b-a7df-e3131cb28582",
        "outputId": "885d2450-7f60-4e12-c20e-45d7bd538e3c"
      },
      "outputs": [
        {
          "name": "stderr",
          "output_type": "stream",
          "text": [
            "The tokenizer class you load from this checkpoint is not the same type as the class this function is called from. It may result in unexpected tokenization. \n",
            "The tokenizer class you load from this checkpoint is 'BertTokenizer'. \n",
            "The class this function is called from is 'RobertaTokenizer'.\n"
          ]
        }
      ],
      "source": [
        "\n"
      ]
    },
    {
      "cell_type": "code",
      "execution_count": null,
      "id": "dd5b5d2c-9e13-4802-a3de-86478349b38e",
      "metadata": {
        "id": "dd5b5d2c-9e13-4802-a3de-86478349b38e"
      },
      "outputs": [],
      "source": [
        "def masked_language_model(tensor):\n",
        "    rand = torch.rand(tensor.shape)\n",
        "    mask_arr = (rand < 0.15) * (tensor > 2)\n",
        "    for i in range(tensor.shape[0]):\n",
        "        selection = torch.flatten(mask_arr[i].nonzero()).tolist()\n",
        "        tensor[i,selection] = 4\n",
        "    return tensor"
      ]
    },
    {
      "cell_type": "code",
      "execution_count": 19,
      "id": "61c5f020-235e-41c0-ab96-89b72b508373",
      "metadata": {
        "id": "61c5f020-235e-41c0-ab96-89b72b508373"
      },
      "outputs": [],
      "source": [
        "## input ids - token IDs with a % of tokens masked with the mask token ID which in our case is 4\n",
        "input_ids = []\n",
        "## mask - this is a binary tensor of 1 and 0 indicating where the masks are\n",
        "mask = []\n",
        "## labels - these are just the unmasked token IDs\n",
        "labels = []\n",
        "# initialise the output\n",
        "tokenized_text = {}"
      ]
    },
    {
      "cell_type": "code",
      "execution_count": 20,
      "id": "9919ea8b-912f-4438-ad07-66cf54885c8d",
      "metadata": {
        "id": "9919ea8b-912f-4438-ad07-66cf54885c8d"
      },
      "outputs": [],
      "source": [
        "# read file\n",
        "with open(paths[0], 'r', encoding='utf-8') as fp:\n",
        "    lines = fp.read().split('\\n')"
      ]
    },
    {
      "cell_type": "code",
      "execution_count": null,
      "id": "30c688f3-65c5-469e-8c75-a2dbc8019775",
      "metadata": {
        "id": "30c688f3-65c5-469e-8c75-a2dbc8019775"
      },
      "outputs": [],
      "source": [
        "lines"
      ]
    },
    {
      "cell_type": "code",
      "execution_count": 21,
      "id": "3a66a246-c7ef-47a3-a110-5a78acc13007",
      "metadata": {
        "colab": {
          "base_uri": "https://localhost:8080/",
          "height": 37
        },
        "id": "3a66a246-c7ef-47a3-a110-5a78acc13007",
        "outputId": "8cdddf5d-77e3-4718-b0a6-203d45f66f5c"
      },
      "outputs": [
        {
          "output_type": "execute_result",
          "data": {
            "text/plain": [
              "'text_0.txt'"
            ],
            "application/vnd.google.colaboratory.intrinsic+json": {
              "type": "string"
            }
          },
          "metadata": {},
          "execution_count": 21
        }
      ],
      "source": [
        "# get the file name\n",
        "fname = paths[0].split('/')[-1]\n",
        "fname"
      ]
    },
    {
      "cell_type": "code",
      "execution_count": 22,
      "id": "d0423389-71c9-47b6-be7b-d81cc75a5e8f",
      "metadata": {
        "id": "d0423389-71c9-47b6-be7b-d81cc75a5e8f"
      },
      "outputs": [],
      "source": [
        "# tokenize the text in these lines\n",
        "sample = tokenizer(lines, max_length=512, padding='max_length', truncation=True, return_tensors='pt')"
      ]
    },
    {
      "cell_type": "code",
      "execution_count": 23,
      "id": "e0a9a9ab-016e-4cc7-afd9-ef191d3dfb20",
      "metadata": {
        "colab": {
          "base_uri": "https://localhost:8080/"
        },
        "id": "e0a9a9ab-016e-4cc7-afd9-ef191d3dfb20",
        "outputId": "ced00aff-3f00-4778-c041-45d9b583d85c"
      },
      "outputs": [
        {
          "output_type": "execute_result",
          "data": {
            "text/plain": [
              "dict_keys(['input_ids', 'attention_mask'])"
            ]
          },
          "metadata": {},
          "execution_count": 23
        }
      ],
      "source": [
        "sample.keys()"
      ]
    },
    {
      "cell_type": "code",
      "execution_count": 24,
      "id": "03389908-8cc7-4297-9285-ede37eadcc54",
      "metadata": {
        "id": "03389908-8cc7-4297-9285-ede37eadcc54"
      },
      "outputs": [],
      "source": [
        "tokenized_text[fname] = sample"
      ]
    },
    {
      "cell_type": "code",
      "execution_count": 25,
      "id": "11ea7580-cfc4-44e3-a539-476defa39993",
      "metadata": {
        "id": "11ea7580-cfc4-44e3-a539-476defa39993"
      },
      "outputs": [],
      "source": [
        "# the sample object contains some of our tensors - extract these\n",
        "## get the input IDs and append to labels\n",
        "labels.append(sample.input_ids)\n",
        "## get the attention mask - the binary\n",
        "mask.append(sample.attention_mask)\n"
      ]
    },
    {
      "cell_type": "code",
      "execution_count": 26,
      "id": "18c25cb3-9560-466c-9b70-058b5a213d30",
      "metadata": {
        "colab": {
          "base_uri": "https://localhost:8080/"
        },
        "id": "18c25cb3-9560-466c-9b70-058b5a213d30",
        "outputId": "a325cd10-3ef9-4277-961a-433bd0645e7d"
      },
      "outputs": [
        {
          "output_type": "execute_result",
          "data": {
            "text/plain": [
              "tensor([[   0, 1202,   37,  ...,    1,    1,    1],\n",
              "        [   0,   56,  309,  ...,    1,    1,    1],\n",
              "        [   0,  892,  568,  ...,    1,    1,    1],\n",
              "        ...,\n",
              "        [   0, 1543,  261,  ...,    1,    1,    1],\n",
              "        [   0, 3796,   93,  ...,    1,    1,    1],\n",
              "        [   0,  564, 2787,  ...,    1,    1,    1]])"
            ]
          },
          "metadata": {},
          "execution_count": 26
        }
      ],
      "source": [
        "sample.input_ids.detach().clone()"
      ]
    },
    {
      "cell_type": "code",
      "execution_count": 27,
      "id": "d23f9978-a976-4a1b-9d4f-0750c8fab99e",
      "metadata": {
        "id": "d23f9978-a976-4a1b-9d4f-0750c8fab99e"
      },
      "outputs": [],
      "source": [
        "## now apply the masked language model function on the input IDs to mask 15% of tokens\n",
        "mlm_on_input = masked_language_model(sample.input_ids.detach().clone())\n",
        "input_ids.append(mlm_on_input)"
      ]
    },
    {
      "cell_type": "code",
      "execution_count": 28,
      "id": "bd962def-f854-4e4a-866e-15cbcceecd4b",
      "metadata": {
        "id": "bd962def-f854-4e4a-866e-15cbcceecd4b"
      },
      "outputs": [],
      "source": [
        "# construct the output\n",
        "encodings = {\n",
        "    'input_ids': input_ids[0],\n",
        "    'mask': mask[0],\n",
        "    'labels': labels[0]\n",
        "}"
      ]
    },
    {
      "cell_type": "code",
      "execution_count": 29,
      "id": "bb55b92a-20c8-4939-838c-e4e197b384d3",
      "metadata": {
        "colab": {
          "base_uri": "https://localhost:8080/"
        },
        "id": "bb55b92a-20c8-4939-838c-e4e197b384d3",
        "outputId": "1078e1e7-674f-4494-88e6-0089aa4f4d9e"
      },
      "outputs": [
        {
          "output_type": "execute_result",
          "data": {
            "text/plain": [
              "1868"
            ]
          },
          "metadata": {},
          "execution_count": 29
        }
      ],
      "source": [
        "len(encodings['labels'])"
      ]
    },
    {
      "cell_type": "code",
      "source": [
        "import torch"
      ],
      "metadata": {
        "id": "YdlhNU2ABJYK"
      },
      "id": "YdlhNU2ABJYK",
      "execution_count": 31,
      "outputs": []
    },
    {
      "cell_type": "code",
      "execution_count": 32,
      "id": "e179b67f-7ffc-4b08-a494-12cafc091c2d",
      "metadata": {
        "id": "e179b67f-7ffc-4b08-a494-12cafc091c2d"
      },
      "outputs": [],
      "source": [
        "class Dataset(torch.utils.data.Dataset):\n",
        "    def __init__(self, encodings):\n",
        "        self.encodings = encodings\n",
        "    def __len__(self):\n",
        "        return self.encodings['input_ids'].shape[0]\n",
        "    def __getitem__(self, i):\n",
        "        return {\n",
        "            'input_ids': self.encodings['input_ids'][i]\n",
        "        }"
      ]
    },
    {
      "cell_type": "code",
      "execution_count": null,
      "id": "7f7409d9-17b2-4293-ac00-04831a9ed69d",
      "metadata": {
        "id": "7f7409d9-17b2-4293-ac00-04831a9ed69d"
      },
      "outputs": [],
      "source": [
        "# def create_data_loader(encodings):\n",
        "#     dataset = Dataset(encodings)\n",
        "#     data_loader = torch.utils.data.DataLoader(dataset, batch_size=16, shuffle=True)\n",
        "#     return data_loader"
      ]
    },
    {
      "cell_type": "code",
      "execution_count": 33,
      "id": "ba61d052-b11f-44b6-b0a6-5ca4ab6e400b",
      "metadata": {
        "id": "ba61d052-b11f-44b6-b0a6-5ca4ab6e400b"
      },
      "outputs": [],
      "source": [
        "loader = create_data_loader(encodings)"
      ]
    },
    {
      "cell_type": "code",
      "execution_count": 34,
      "id": "4f09ad64-2bad-4547-bd7b-bae4fa7c6db4",
      "metadata": {
        "colab": {
          "base_uri": "https://localhost:8080/"
        },
        "id": "4f09ad64-2bad-4547-bd7b-bae4fa7c6db4",
        "outputId": "58e8578b-b5d8-4d54-cefe-28901266281b"
      },
      "outputs": [
        {
          "output_type": "execute_result",
          "data": {
            "text/plain": [
              "{'input_ids': tensor([[   0,    4,   37,  ...,    1,    1,    1],\n",
              "         [   0,   56,  309,  ...,    1,    1,    1],\n",
              "         [   0,  892,  568,  ...,    1,    1,    1],\n",
              "         ...,\n",
              "         [   0, 1543,    4,  ...,    1,    1,    1],\n",
              "         [   0, 3796,   93,  ...,    1,    1,    1],\n",
              "         [   0,  564, 2787,  ...,    1,    1,    1]]),\n",
              " 'mask': tensor([[1, 1, 1,  ..., 0, 0, 0],\n",
              "         [1, 1, 1,  ..., 0, 0, 0],\n",
              "         [1, 1, 1,  ..., 0, 0, 0],\n",
              "         ...,\n",
              "         [1, 1, 1,  ..., 0, 0, 0],\n",
              "         [1, 1, 1,  ..., 0, 0, 0],\n",
              "         [1, 1, 1,  ..., 0, 0, 0]]),\n",
              " 'labels': tensor([[   0, 1202,   37,  ...,    1,    1,    1],\n",
              "         [   0,   56,  309,  ...,    1,    1,    1],\n",
              "         [   0,  892,  568,  ...,    1,    1,    1],\n",
              "         ...,\n",
              "         [   0, 1543,  261,  ...,    1,    1,    1],\n",
              "         [   0, 3796,   93,  ...,    1,    1,    1],\n",
              "         [   0,  564, 2787,  ...,    1,    1,    1]])}"
            ]
          },
          "metadata": {},
          "execution_count": 34
        }
      ],
      "source": [
        "loader.dataset.encodings"
      ]
    },
    {
      "cell_type": "code",
      "execution_count": 35,
      "id": "66d0c21c-5075-4c9b-a5af-93f366c065df",
      "metadata": {
        "colab": {
          "base_uri": "https://localhost:8080/"
        },
        "id": "66d0c21c-5075-4c9b-a5af-93f366c065df",
        "outputId": "d3c66d9a-53ec-486b-e81f-bb3a13bdf317"
      },
      "outputs": [
        {
          "output_type": "stream",
          "name": "stderr",
          "text": [
            "/usr/local/lib/python3.10/dist-packages/transformers/optimization.py:411: FutureWarning: This implementation of AdamW is deprecated and will be removed in a future version. Use the PyTorch implementation torch.optim.AdamW instead, or set `no_deprecation_warning=True` to disable this warning\n",
            "  warnings.warn(\n"
          ]
        }
      ],
      "source": [
        "# build RoBERTa config\n",
        "config = RobertaConfig(\n",
        "    vocab_size=30_522,  # we align this to the tokenizer vocab_size\n",
        "    max_position_embeddings=514,\n",
        "    hidden_size=768,\n",
        "    num_attention_heads=12,\n",
        "    num_hidden_layers=6,\n",
        "    type_vocab_size=1\n",
        ")\n",
        "\n",
        "\n",
        "# init model\n",
        "model = RobertaForMaskedLM(config)\n",
        "# set device\n",
        "device = torch.device('cuda') if torch.cuda.is_available() else torch.device('cpu')\n",
        "# and move our model over to the selected device\n",
        "model.to(device)\n",
        "# activate training mode\n",
        "model.train()\n",
        "# initialize optimizer\n",
        "optim = AdamW(model.parameters(), lr=1e-4)"
      ]
    },
    {
      "cell_type": "code",
      "execution_count": 36,
      "id": "7a5c8b0b-75f8-41e0-a1c3-bca26442d757",
      "metadata": {
        "id": "7a5c8b0b-75f8-41e0-a1c3-bca26442d757"
      },
      "outputs": [],
      "source": [
        "# set number of epochs\n",
        "epochs = 2"
      ]
    },
    {
      "cell_type": "code",
      "execution_count": null,
      "id": "85c4341e-2d7c-4f49-9684-887c9a55b691",
      "metadata": {
        "colab": {
          "base_uri": "https://localhost:8080/"
        },
        "id": "85c4341e-2d7c-4f49-9684-887c9a55b691",
        "outputId": "2e9559fd-5ebf-42fa-b7e2-d81e1798fc33"
      },
      "outputs": [
        {
          "output_type": "stream",
          "name": "stdout",
          "text": [
            "go\n"
          ]
        }
      ],
      "source": [
        "for epoch in range(epochs):\n",
        "    input_ids = loader.dataset.encodings['input_ids'].to(device)\n",
        "    attention_mask = loader.dataset.encodings['mask'].to(device)\n",
        "    labels = loader.dataset.encodings['labels'].to(device)\n",
        "    print('go')\n",
        "    # model\n",
        "    outputs = model(input_ids,\n",
        "                    attention_mask=attention_mask,\n",
        "                    labels=labels)\n",
        "    # extract the loss\n",
        "    loss = outputs.loss\n",
        "    # calculate loss for every parameter that needs grad update\n",
        "    loss.backward()\n",
        "    # update parameters\n",
        "    optim.step()\n",
        "    # print relevant info to progress bar\n",
        "    loop.set_description(f'Epoch {epoch}')\n",
        "    loop.set_postfix(loss=loss.item())\n",
        ""
      ]
    },
    {
      "cell_type": "code",
      "execution_count": null,
      "id": "0147638d-aa84-4f59-bbce-209fc8952e64",
      "metadata": {
        "id": "0147638d-aa84-4f59-bbce-209fc8952e64",
        "outputId": "f7838b71-1d12-4a05-f37d-5e8bec83b9f9"
      },
      "outputs": [
        {
          "name": "stdout",
          "output_type": "stream",
          "text": [
            "Epoch 0\n"
          ]
        },
        {
          "name": "stderr",
          "output_type": "stream",
          "text": [
            "0it [00:00, ?it/s]"
          ]
        },
        {
          "name": "stdout",
          "output_type": "stream",
          "text": [
            "116\n"
          ]
        },
        {
          "name": "stderr",
          "output_type": "stream",
          "text": [
            "\n"
          ]
        },
        {
          "ename": "AttributeError",
          "evalue": "'int' object has no attribute 'keys'",
          "output_type": "error",
          "traceback": [
            "\u001b[0;31m---------------------------------------------------------------------------\u001b[0m",
            "\u001b[0;31mAttributeError\u001b[0m                            Traceback (most recent call last)",
            "\u001b[0;32m/var/folders/dy/gj6r2mpj09b9nq4f9qll_b000000gp/T/ipykernel_18444/3453229787.py\u001b[0m in \u001b[0;36m<module>\u001b[0;34m\u001b[0m\n\u001b[1;32m      8\u001b[0m         \u001b[0moptim\u001b[0m\u001b[0;34m.\u001b[0m\u001b[0mzero_grad\u001b[0m\u001b[0;34m(\u001b[0m\u001b[0;34m)\u001b[0m\u001b[0;34m\u001b[0m\u001b[0;34m\u001b[0m\u001b[0m\n\u001b[1;32m      9\u001b[0m         \u001b[0;31m# pull all tensor batches required for training\u001b[0m\u001b[0;34m\u001b[0m\u001b[0;34m\u001b[0m\u001b[0m\n\u001b[0;32m---> 10\u001b[0;31m         \u001b[0mprint\u001b[0m\u001b[0;34m(\u001b[0m\u001b[0mbatch\u001b[0m\u001b[0;34m.\u001b[0m\u001b[0mkeys\u001b[0m\u001b[0;34m(\u001b[0m\u001b[0;34m)\u001b[0m\u001b[0;34m)\u001b[0m\u001b[0;34m\u001b[0m\u001b[0;34m\u001b[0m\u001b[0m\n\u001b[0m\u001b[1;32m     11\u001b[0m         \u001b[0minput_ids\u001b[0m \u001b[0;34m=\u001b[0m \u001b[0mbatch\u001b[0m\u001b[0;34m[\u001b[0m\u001b[0;34m'input_ids'\u001b[0m\u001b[0;34m]\u001b[0m\u001b[0;34m[\u001b[0m\u001b[0;36m0\u001b[0m\u001b[0;34m]\u001b[0m\u001b[0;34m.\u001b[0m\u001b[0mto\u001b[0m\u001b[0;34m(\u001b[0m\u001b[0mdevice\u001b[0m\u001b[0;34m)\u001b[0m\u001b[0;34m\u001b[0m\u001b[0;34m\u001b[0m\u001b[0m\n\u001b[1;32m     12\u001b[0m         \u001b[0mattention_mask\u001b[0m \u001b[0;34m=\u001b[0m \u001b[0mbatch\u001b[0m\u001b[0;34m[\u001b[0m\u001b[0;34m'mask'\u001b[0m\u001b[0;34m]\u001b[0m\u001b[0;34m[\u001b[0m\u001b[0;36m0\u001b[0m\u001b[0;34m]\u001b[0m\u001b[0;34m.\u001b[0m\u001b[0mto\u001b[0m\u001b[0;34m(\u001b[0m\u001b[0mdevice\u001b[0m\u001b[0;34m)\u001b[0m\u001b[0;34m\u001b[0m\u001b[0;34m\u001b[0m\u001b[0m\n",
            "\u001b[0;31mAttributeError\u001b[0m: 'int' object has no attribute 'keys'"
          ]
        }
      ],
      "source": [
        "#loop = tqdm(loader, leave=True)\n",
        "# loop through epochs\n",
        "for epoch in range(epochs):\n",
        "    print(f'Epoch {str(epoch)}')\n",
        "    for batch, feed_dict in tqdm.tqdm(enumerate(loader)):\n",
        "        print(i_batch)\n",
        "        # initialize calculated gradients (from prev step)\n",
        "        optim.zero_grad()\n",
        "        # pull all tensor batches required for training\n",
        "        #print(batch.keys())\n",
        "        input_ids = batch['input_ids'][0].to(device)\n",
        "        attention_mask = batch['mask'][0].to(device)\n",
        "        labels = batch['labels'][0].to(device)\n",
        "        # model\n",
        "        outputs = model(input_ids,\n",
        "                        attention_mask=attention_mask,\n",
        "                        labels=labels)\n",
        "        # extract the loss\n",
        "        loss = outputs.loss\n",
        "        # calculate loss for every parameter that needs grad update\n",
        "        loss.backward()\n",
        "        # update parameters\n",
        "        optim.step()\n",
        "        # print relevant info to progress bar\n",
        "        loop.set_description(f'Epoch {epoch}')\n",
        "        loop.set_postfix(loss=loss.item())\n",
        "\n",
        "model.save_pretrained(f'{output_dir}/thesis_bert')"
      ]
    },
    {
      "cell_type": "code",
      "execution_count": null,
      "id": "f1801130-5fe9-41d0-8f52-58bd3a4d0dac",
      "metadata": {
        "id": "f1801130-5fe9-41d0-8f52-58bd3a4d0dac",
        "outputId": "c796492d-9182-40ab-b49a-35933ce7f564"
      },
      "outputs": [
        {
          "name": "stdout",
          "output_type": "stream",
          "text": [
            "Epoch 0\n"
          ]
        },
        {
          "ename": "TypeError",
          "evalue": "'module' object is not callable",
          "output_type": "error",
          "traceback": [
            "\u001b[0;31m---------------------------------------------------------------------------\u001b[0m",
            "\u001b[0;31mTypeError\u001b[0m                                 Traceback (most recent call last)",
            "\u001b[0;32m/var/folders/dy/gj6r2mpj09b9nq4f9qll_b000000gp/T/ipykernel_18444/3104237525.py\u001b[0m in \u001b[0;36m<module>\u001b[0;34m\u001b[0m\n\u001b[1;32m      3\u001b[0m     \u001b[0mprint\u001b[0m\u001b[0;34m(\u001b[0m\u001b[0;34mf'Epoch {str(epoch)}'\u001b[0m\u001b[0;34m)\u001b[0m\u001b[0;34m\u001b[0m\u001b[0;34m\u001b[0m\u001b[0m\n\u001b[1;32m      4\u001b[0m     \u001b[0;31m# setup loop with TQDM and dataloader\u001b[0m\u001b[0;34m\u001b[0m\u001b[0;34m\u001b[0m\u001b[0m\n\u001b[0;32m----> 5\u001b[0;31m     \u001b[0mloop\u001b[0m \u001b[0;34m=\u001b[0m \u001b[0mtqdm\u001b[0m\u001b[0;34m(\u001b[0m\u001b[0mloader\u001b[0m\u001b[0;34m,\u001b[0m \u001b[0mleave\u001b[0m\u001b[0;34m=\u001b[0m\u001b[0;32mTrue\u001b[0m\u001b[0;34m)\u001b[0m\u001b[0;34m\u001b[0m\u001b[0;34m\u001b[0m\u001b[0m\n\u001b[0m\u001b[1;32m      6\u001b[0m     \u001b[0mprint\u001b[0m\u001b[0;34m(\u001b[0m\u001b[0mloop\u001b[0m\u001b[0;34m)\u001b[0m\u001b[0;34m\u001b[0m\u001b[0;34m\u001b[0m\u001b[0m\n\u001b[1;32m      7\u001b[0m     \u001b[0;32mfor\u001b[0m \u001b[0mbatch\u001b[0m \u001b[0;32min\u001b[0m \u001b[0mloop\u001b[0m\u001b[0;34m:\u001b[0m\u001b[0;34m\u001b[0m\u001b[0;34m\u001b[0m\u001b[0m\n",
            "\u001b[0;31mTypeError\u001b[0m: 'module' object is not callable"
          ]
        }
      ],
      "source": [
        "# loop through epochs\n",
        "for epoch in range(epochs):\n",
        "    print(f'Epoch {str(epoch)}')\n",
        "    # setup loop with TQDM and dataloader\n",
        "    loop = tqdm(loader, leave=True)\n",
        "    print(loop)\n",
        "    for batch in loop:\n",
        "        print(batch.keys())\n",
        "        # initialize calculated gradients (from prev step)\n",
        "        optim.zero_grad()\n",
        "        # pull all tensor batches required for training\n",
        "        print(batch.keys())\n",
        "        input_ids = batch['input_ids'][0].to(device)\n",
        "        attention_mask = batch['mask'][0].to(device)\n",
        "        labels = batch['labels'][0].to(device)\n",
        "        # model\n",
        "        outputs = model(input_ids,\n",
        "                        attention_mask=attention_mask,\n",
        "                        labels=labels)\n",
        "        # extract the loss\n",
        "        loss = outputs.loss\n",
        "        # calculate loss for every parameter that needs grad update\n",
        "        loss.backward()\n",
        "        # update parameters\n",
        "        optim.step()\n",
        "        # print relevant info to progress bar\n",
        "        loop.set_description(f'Epoch {epoch}')\n",
        "        loop.set_postfix(loss=loss.item())\n",
        "\n",
        "model.save_pretrained(f'{output_dir}/thesis_bert')"
      ]
    },
    {
      "cell_type": "code",
      "execution_count": null,
      "id": "40ed3f66-fd01-44d1-84f2-85534d416e4b",
      "metadata": {
        "id": "40ed3f66-fd01-44d1-84f2-85534d416e4b"
      },
      "outputs": [],
      "source": [
        "def train_model(config, loader):\n",
        "    # init model\n",
        "    model = RobertaForMaskedLM(config)\n",
        "    # set device\n",
        "    device = torch.device('cuda') if torch.cuda.is_available() else torch.device('cpu')\n",
        "    # and move our model over to the selected device\n",
        "    model.to(device)\n",
        "    # activate training mode\n",
        "    model.train()\n",
        "    # initialize optimizer\n",
        "    optim = AdamW(model.parameters(), lr=1e-4)\n",
        "    # set number of epochs\n",
        "    epochs = 2\n",
        "    # loop through epochs\n",
        "    for epoch in range(epochs):\n",
        "        print(f'Epoch {str(epoch)}')\n",
        "        # setup loop with TQDM and dataloader\n",
        "        loop = tqdm(loader, leave=True)\n",
        "        for batch in loop:\n",
        "            print(batch.keys())\n",
        "            # initialize calculated gradients (from prev step)\n",
        "            optim.zero_grad()\n",
        "            # pull all tensor batches required for training\n",
        "            print(batch.keys())\n",
        "            input_ids = batch['input_ids'][0].to(device)\n",
        "            attention_mask = batch['mask'][0].to(device)\n",
        "            labels = batch['labels'][0].to(device)\n",
        "            # model\n",
        "            outputs = model(input_ids,\n",
        "                            attention_mask=attention_mask,\n",
        "                            labels=labels)\n",
        "            # extract the loss\n",
        "            loss = outputs.loss\n",
        "            # calculate loss for every parameter that needs grad update\n",
        "            loss.backward()\n",
        "            # update parameters\n",
        "            optim.step()\n",
        "            # print relevant info to progress bar\n",
        "            loop.set_description(f'Epoch {epoch}')\n",
        "            loop.set_postfix(loss=loss.item())"
      ]
    },
    {
      "cell_type": "code",
      "execution_count": null,
      "id": "c16c966b-f2ae-4336-95ca-04328528b70e",
      "metadata": {
        "id": "c16c966b-f2ae-4336-95ca-04328528b70e",
        "outputId": "4f867c42-a766-4b75-e95d-9780e5b1adf9"
      },
      "outputs": [
        {
          "name": "stdout",
          "output_type": "stream",
          "text": [
            "Epoch 0\n"
          ]
        },
        {
          "name": "stderr",
          "output_type": "stream",
          "text": [
            "  0%|                                                                                                                                                                                                           | 0/117 [00:00<?, ?it/s]"
          ]
        },
        {
          "name": "stdout",
          "output_type": "stream",
          "text": [
            "dict_keys(['input_ids'])\n",
            "dict_keys(['input_ids'])\n"
          ]
        },
        {
          "name": "stderr",
          "output_type": "stream",
          "text": [
            "\n"
          ]
        },
        {
          "ename": "KeyError",
          "evalue": "'mask'",
          "output_type": "error",
          "traceback": [
            "\u001b[0;31m---------------------------------------------------------------------------\u001b[0m",
            "\u001b[0;31mKeyError\u001b[0m                                  Traceback (most recent call last)",
            "\u001b[0;32m/var/folders/dy/gj6r2mpj09b9nq4f9qll_b000000gp/T/ipykernel_18444/868245220.py\u001b[0m in \u001b[0;36m<module>\u001b[0;34m\u001b[0m\n\u001b[1;32m      9\u001b[0m )\n\u001b[1;32m     10\u001b[0m \u001b[0;34m\u001b[0m\u001b[0m\n\u001b[0;32m---> 11\u001b[0;31m \u001b[0mtrain_model\u001b[0m\u001b[0;34m(\u001b[0m\u001b[0mconfig\u001b[0m\u001b[0;34m,\u001b[0m \u001b[0mloader\u001b[0m\u001b[0;34m)\u001b[0m\u001b[0;34m\u001b[0m\u001b[0;34m\u001b[0m\u001b[0m\n\u001b[0m\u001b[1;32m     12\u001b[0m \u001b[0;34m\u001b[0m\u001b[0m\n\u001b[1;32m     13\u001b[0m \u001b[0mmodel\u001b[0m\u001b[0;34m.\u001b[0m\u001b[0msave_pretrained\u001b[0m\u001b[0;34m(\u001b[0m\u001b[0;34mf'{output_dir}/thesis_bert'\u001b[0m\u001b[0;34m)\u001b[0m\u001b[0;34m\u001b[0m\u001b[0;34m\u001b[0m\u001b[0m\n",
            "\u001b[0;32m/var/folders/dy/gj6r2mpj09b9nq4f9qll_b000000gp/T/ipykernel_18444/3398301872.py\u001b[0m in \u001b[0;36mtrain_model\u001b[0;34m(config, loader)\u001b[0m\n\u001b[1;32m     24\u001b[0m             \u001b[0mprint\u001b[0m\u001b[0;34m(\u001b[0m\u001b[0mbatch\u001b[0m\u001b[0;34m.\u001b[0m\u001b[0mkeys\u001b[0m\u001b[0;34m(\u001b[0m\u001b[0;34m)\u001b[0m\u001b[0;34m)\u001b[0m\u001b[0;34m\u001b[0m\u001b[0;34m\u001b[0m\u001b[0m\n\u001b[1;32m     25\u001b[0m             \u001b[0minput_ids\u001b[0m \u001b[0;34m=\u001b[0m \u001b[0mbatch\u001b[0m\u001b[0;34m[\u001b[0m\u001b[0;34m'input_ids'\u001b[0m\u001b[0;34m]\u001b[0m\u001b[0;34m[\u001b[0m\u001b[0;36m0\u001b[0m\u001b[0;34m]\u001b[0m\u001b[0;34m.\u001b[0m\u001b[0mto\u001b[0m\u001b[0;34m(\u001b[0m\u001b[0mdevice\u001b[0m\u001b[0;34m)\u001b[0m\u001b[0;34m\u001b[0m\u001b[0;34m\u001b[0m\u001b[0m\n\u001b[0;32m---> 26\u001b[0;31m             \u001b[0mattention_mask\u001b[0m \u001b[0;34m=\u001b[0m \u001b[0mbatch\u001b[0m\u001b[0;34m[\u001b[0m\u001b[0;34m'mask'\u001b[0m\u001b[0;34m]\u001b[0m\u001b[0;34m[\u001b[0m\u001b[0;36m0\u001b[0m\u001b[0;34m]\u001b[0m\u001b[0;34m.\u001b[0m\u001b[0mto\u001b[0m\u001b[0;34m(\u001b[0m\u001b[0mdevice\u001b[0m\u001b[0;34m)\u001b[0m\u001b[0;34m\u001b[0m\u001b[0;34m\u001b[0m\u001b[0m\n\u001b[0m\u001b[1;32m     27\u001b[0m             \u001b[0mlabels\u001b[0m \u001b[0;34m=\u001b[0m \u001b[0mbatch\u001b[0m\u001b[0;34m[\u001b[0m\u001b[0;34m'labels'\u001b[0m\u001b[0;34m]\u001b[0m\u001b[0;34m[\u001b[0m\u001b[0;36m0\u001b[0m\u001b[0;34m]\u001b[0m\u001b[0;34m.\u001b[0m\u001b[0mto\u001b[0m\u001b[0;34m(\u001b[0m\u001b[0mdevice\u001b[0m\u001b[0;34m)\u001b[0m\u001b[0;34m\u001b[0m\u001b[0;34m\u001b[0m\u001b[0m\n\u001b[1;32m     28\u001b[0m             \u001b[0;31m# model\u001b[0m\u001b[0;34m\u001b[0m\u001b[0;34m\u001b[0m\u001b[0m\n",
            "\u001b[0;31mKeyError\u001b[0m: 'mask'"
          ]
        }
      ],
      "source": [
        "\n",
        "train_model(config, loader)\n",
        "\n",
        "model.save_pretrained(f'{output_dir}/thesis_bert')"
      ]
    },
    {
      "cell_type": "code",
      "execution_count": null,
      "id": "4b685612-7889-42c5-9458-2d7ebd24f6ea",
      "metadata": {
        "id": "4b685612-7889-42c5-9458-2d7ebd24f6ea"
      },
      "outputs": [],
      "source": []
    }
  ],
  "metadata": {
    "kernelspec": {
      "display_name": "Python 3",
      "name": "python3"
    },
    "language_info": {
      "codemirror_mode": {
        "name": "ipython",
        "version": 3
      },
      "file_extension": ".py",
      "mimetype": "text/x-python",
      "name": "python",
      "nbconvert_exporter": "python",
      "pygments_lexer": "ipython3",
      "version": "3.9.9"
    },
    "colab": {
      "provenance": [],
      "gpuType": "T4"
    },
    "accelerator": "GPU",
    "widgets": {
      "application/vnd.jupyter.widget-state+json": {
        "c67be220d35e41d3b30ba2162e028f9b": {
          "model_module": "@jupyter-widgets/controls",
          "model_name": "HBoxModel",
          "model_module_version": "1.5.0",
          "state": {
            "_dom_classes": [],
            "_model_module": "@jupyter-widgets/controls",
            "_model_module_version": "1.5.0",
            "_model_name": "HBoxModel",
            "_view_count": null,
            "_view_module": "@jupyter-widgets/controls",
            "_view_module_version": "1.5.0",
            "_view_name": "HBoxView",
            "box_style": "",
            "children": [
              "IPY_MODEL_c7196dfa6bf54828af17aea1595d8931",
              "IPY_MODEL_314abc0bb75d457a81071a3913ea92b4",
              "IPY_MODEL_5869f84c67234149885737141ebc5c78"
            ],
            "layout": "IPY_MODEL_9651b9c65b5245dcaec332113ac999ac"
          }
        },
        "c7196dfa6bf54828af17aea1595d8931": {
          "model_module": "@jupyter-widgets/controls",
          "model_name": "HTMLModel",
          "model_module_version": "1.5.0",
          "state": {
            "_dom_classes": [],
            "_model_module": "@jupyter-widgets/controls",
            "_model_module_version": "1.5.0",
            "_model_name": "HTMLModel",
            "_view_count": null,
            "_view_module": "@jupyter-widgets/controls",
            "_view_module_version": "1.5.0",
            "_view_name": "HTMLView",
            "description": "",
            "description_tooltip": null,
            "layout": "IPY_MODEL_51b4652242044a28805e7c46b8bc889a",
            "placeholder": "​",
            "style": "IPY_MODEL_cc0b7eed9eb644eeae32a104a882795b",
            "value": "  0%"
          }
        },
        "314abc0bb75d457a81071a3913ea92b4": {
          "model_module": "@jupyter-widgets/controls",
          "model_name": "FloatProgressModel",
          "model_module_version": "1.5.0",
          "state": {
            "_dom_classes": [],
            "_model_module": "@jupyter-widgets/controls",
            "_model_module_version": "1.5.0",
            "_model_name": "FloatProgressModel",
            "_view_count": null,
            "_view_module": "@jupyter-widgets/controls",
            "_view_module_version": "1.5.0",
            "_view_name": "ProgressView",
            "bar_style": "danger",
            "description": "",
            "description_tooltip": null,
            "layout": "IPY_MODEL_c33fb427b7694fffa4250f6589855393",
            "max": 117,
            "min": 0,
            "orientation": "horizontal",
            "style": "IPY_MODEL_d8e155b13fe64ee799ef0213abe8c280",
            "value": 0
          }
        },
        "5869f84c67234149885737141ebc5c78": {
          "model_module": "@jupyter-widgets/controls",
          "model_name": "HTMLModel",
          "model_module_version": "1.5.0",
          "state": {
            "_dom_classes": [],
            "_model_module": "@jupyter-widgets/controls",
            "_model_module_version": "1.5.0",
            "_model_name": "HTMLModel",
            "_view_count": null,
            "_view_module": "@jupyter-widgets/controls",
            "_view_module_version": "1.5.0",
            "_view_name": "HTMLView",
            "description": "",
            "description_tooltip": null,
            "layout": "IPY_MODEL_bf8f98bec8ab4079a3e2a93c1a6735b5",
            "placeholder": "​",
            "style": "IPY_MODEL_e88a9f3d3f434cd69e6c51e99ec95c75",
            "value": " 0/117 [00:00&lt;?, ?it/s]"
          }
        },
        "9651b9c65b5245dcaec332113ac999ac": {
          "model_module": "@jupyter-widgets/base",
          "model_name": "LayoutModel",
          "model_module_version": "1.2.0",
          "state": {
            "_model_module": "@jupyter-widgets/base",
            "_model_module_version": "1.2.0",
            "_model_name": "LayoutModel",
            "_view_count": null,
            "_view_module": "@jupyter-widgets/base",
            "_view_module_version": "1.2.0",
            "_view_name": "LayoutView",
            "align_content": null,
            "align_items": null,
            "align_self": null,
            "border": null,
            "bottom": null,
            "display": null,
            "flex": null,
            "flex_flow": null,
            "grid_area": null,
            "grid_auto_columns": null,
            "grid_auto_flow": null,
            "grid_auto_rows": null,
            "grid_column": null,
            "grid_gap": null,
            "grid_row": null,
            "grid_template_areas": null,
            "grid_template_columns": null,
            "grid_template_rows": null,
            "height": null,
            "justify_content": null,
            "justify_items": null,
            "left": null,
            "margin": null,
            "max_height": null,
            "max_width": null,
            "min_height": null,
            "min_width": null,
            "object_fit": null,
            "object_position": null,
            "order": null,
            "overflow": null,
            "overflow_x": null,
            "overflow_y": null,
            "padding": null,
            "right": null,
            "top": null,
            "visibility": null,
            "width": null
          }
        },
        "51b4652242044a28805e7c46b8bc889a": {
          "model_module": "@jupyter-widgets/base",
          "model_name": "LayoutModel",
          "model_module_version": "1.2.0",
          "state": {
            "_model_module": "@jupyter-widgets/base",
            "_model_module_version": "1.2.0",
            "_model_name": "LayoutModel",
            "_view_count": null,
            "_view_module": "@jupyter-widgets/base",
            "_view_module_version": "1.2.0",
            "_view_name": "LayoutView",
            "align_content": null,
            "align_items": null,
            "align_self": null,
            "border": null,
            "bottom": null,
            "display": null,
            "flex": null,
            "flex_flow": null,
            "grid_area": null,
            "grid_auto_columns": null,
            "grid_auto_flow": null,
            "grid_auto_rows": null,
            "grid_column": null,
            "grid_gap": null,
            "grid_row": null,
            "grid_template_areas": null,
            "grid_template_columns": null,
            "grid_template_rows": null,
            "height": null,
            "justify_content": null,
            "justify_items": null,
            "left": null,
            "margin": null,
            "max_height": null,
            "max_width": null,
            "min_height": null,
            "min_width": null,
            "object_fit": null,
            "object_position": null,
            "order": null,
            "overflow": null,
            "overflow_x": null,
            "overflow_y": null,
            "padding": null,
            "right": null,
            "top": null,
            "visibility": null,
            "width": null
          }
        },
        "cc0b7eed9eb644eeae32a104a882795b": {
          "model_module": "@jupyter-widgets/controls",
          "model_name": "DescriptionStyleModel",
          "model_module_version": "1.5.0",
          "state": {
            "_model_module": "@jupyter-widgets/controls",
            "_model_module_version": "1.5.0",
            "_model_name": "DescriptionStyleModel",
            "_view_count": null,
            "_view_module": "@jupyter-widgets/base",
            "_view_module_version": "1.2.0",
            "_view_name": "StyleView",
            "description_width": ""
          }
        },
        "c33fb427b7694fffa4250f6589855393": {
          "model_module": "@jupyter-widgets/base",
          "model_name": "LayoutModel",
          "model_module_version": "1.2.0",
          "state": {
            "_model_module": "@jupyter-widgets/base",
            "_model_module_version": "1.2.0",
            "_model_name": "LayoutModel",
            "_view_count": null,
            "_view_module": "@jupyter-widgets/base",
            "_view_module_version": "1.2.0",
            "_view_name": "LayoutView",
            "align_content": null,
            "align_items": null,
            "align_self": null,
            "border": null,
            "bottom": null,
            "display": null,
            "flex": null,
            "flex_flow": null,
            "grid_area": null,
            "grid_auto_columns": null,
            "grid_auto_flow": null,
            "grid_auto_rows": null,
            "grid_column": null,
            "grid_gap": null,
            "grid_row": null,
            "grid_template_areas": null,
            "grid_template_columns": null,
            "grid_template_rows": null,
            "height": null,
            "justify_content": null,
            "justify_items": null,
            "left": null,
            "margin": null,
            "max_height": null,
            "max_width": null,
            "min_height": null,
            "min_width": null,
            "object_fit": null,
            "object_position": null,
            "order": null,
            "overflow": null,
            "overflow_x": null,
            "overflow_y": null,
            "padding": null,
            "right": null,
            "top": null,
            "visibility": null,
            "width": null
          }
        },
        "d8e155b13fe64ee799ef0213abe8c280": {
          "model_module": "@jupyter-widgets/controls",
          "model_name": "ProgressStyleModel",
          "model_module_version": "1.5.0",
          "state": {
            "_model_module": "@jupyter-widgets/controls",
            "_model_module_version": "1.5.0",
            "_model_name": "ProgressStyleModel",
            "_view_count": null,
            "_view_module": "@jupyter-widgets/base",
            "_view_module_version": "1.2.0",
            "_view_name": "StyleView",
            "bar_color": null,
            "description_width": ""
          }
        },
        "bf8f98bec8ab4079a3e2a93c1a6735b5": {
          "model_module": "@jupyter-widgets/base",
          "model_name": "LayoutModel",
          "model_module_version": "1.2.0",
          "state": {
            "_model_module": "@jupyter-widgets/base",
            "_model_module_version": "1.2.0",
            "_model_name": "LayoutModel",
            "_view_count": null,
            "_view_module": "@jupyter-widgets/base",
            "_view_module_version": "1.2.0",
            "_view_name": "LayoutView",
            "align_content": null,
            "align_items": null,
            "align_self": null,
            "border": null,
            "bottom": null,
            "display": null,
            "flex": null,
            "flex_flow": null,
            "grid_area": null,
            "grid_auto_columns": null,
            "grid_auto_flow": null,
            "grid_auto_rows": null,
            "grid_column": null,
            "grid_gap": null,
            "grid_row": null,
            "grid_template_areas": null,
            "grid_template_columns": null,
            "grid_template_rows": null,
            "height": null,
            "justify_content": null,
            "justify_items": null,
            "left": null,
            "margin": null,
            "max_height": null,
            "max_width": null,
            "min_height": null,
            "min_width": null,
            "object_fit": null,
            "object_position": null,
            "order": null,
            "overflow": null,
            "overflow_x": null,
            "overflow_y": null,
            "padding": null,
            "right": null,
            "top": null,
            "visibility": null,
            "width": null
          }
        },
        "e88a9f3d3f434cd69e6c51e99ec95c75": {
          "model_module": "@jupyter-widgets/controls",
          "model_name": "DescriptionStyleModel",
          "model_module_version": "1.5.0",
          "state": {
            "_model_module": "@jupyter-widgets/controls",
            "_model_module_version": "1.5.0",
            "_model_name": "DescriptionStyleModel",
            "_view_count": null,
            "_view_module": "@jupyter-widgets/base",
            "_view_module_version": "1.2.0",
            "_view_name": "StyleView",
            "description_width": ""
          }
        }
      }
    }
  },
  "nbformat": 4,
  "nbformat_minor": 5
}